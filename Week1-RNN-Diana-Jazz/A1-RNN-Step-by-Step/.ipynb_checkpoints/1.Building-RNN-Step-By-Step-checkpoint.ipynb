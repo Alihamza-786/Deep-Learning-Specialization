{
 "cells": [
  {
   "cell_type": "markdown",
   "id": "116abcd0-5de3-4572-9ddb-1858a041419f",
   "metadata": {},
   "source": [
    "# Building RNN Step by Step using NumPy"
   ]
  },
  {
   "cell_type": "code",
   "execution_count": 2,
   "id": "2344b121-bf69-493f-9c01-a60f9d24e594",
   "metadata": {},
   "outputs": [
    {
     "name": "stdout",
     "output_type": "stream",
     "text": [
      "Python version: 3.8.20 (default, Oct  3 2024, 15:19:54) [MSC v.1929 64 bit (AMD64)]\n",
      "NumPy version: 1.18.5\n"
     ]
    }
   ],
   "source": [
    "import sys\n",
    "import numpy as np\n",
    "print(\"Python version:\", sys.version)\n",
    "print(\"NumPy version:\", np.__version__)\n"
   ]
  },
  {
   "cell_type": "code",
   "execution_count": 3,
   "id": "bb2f7f6d-ed96-42b2-b63b-c6ec2ec11e7b",
   "metadata": {},
   "outputs": [],
   "source": [
    "import numpy as np\n",
    "from rnn_utils import *\n",
    "from public_tests import *\n"
   ]
  },
  {
   "cell_type": "markdown",
   "id": "0a72fae5-496a-4ef9-a802-df753d36ca34",
   "metadata": {},
   "source": [
    "# 1 - Forward Propagation for the Basic Recurrent Neural Network\n",
    "The basic RNN that you'll implement has the following structure:\n",
    "\n",
    "![RNN](images/rnn.png)"
   ]
  },
  {
   "cell_type": "markdown",
   "id": "779f4ef4-9bc1-46ff-9943-ebc43a85653a",
   "metadata": {},
   "source": [
    "## 3D Tensor of Shape (nx, m, Tx)\n",
    "In the lessons, we saw a single training example x^(i) consist of multiple time steps Tx. For example, if there are 10 time steps, Tx = 10\n"
   ]
  },
  {
   "cell_type": "markdown",
   "id": "c25af1e8-a4a8-4047-8c8e-175c20f2fc89",
   "metadata": {},
   "source": [
    "# Dimensions of input \n",
    "## Input with nx number of units\n",
    "- For a single timestep of a single input example,__x(i)<t>__ is a one-dimensional input vector.\n",
    "  \n",
    "- Using language as an example, a language with a 5000 word vocabulary could be one-hot encoded into a vector that has 5000 units. So __x(i)<t>__ would have the shape __(5000,).__\n",
    "  \n",
    "- We'll use the notation __nx__ to denote the number of units in a single timestep of a single training example."
   ]
  },
  {
   "cell_type": "markdown",
   "id": "712db541-e516-47f1-b7cf-14354c32857d",
   "metadata": {},
   "source": [
    "## Time steps of size Tx\n",
    "- A recurrent neural network has multiple time steps, which you'll index with __t.__\n",
    "\n",
    "- A single training example __x^(i)__ consisting of multiple time steps __Tx__.\n",
    " In this notebook, __Tx__ will denote the number of timesteps in the longest sequence."
   ]
  },
  {
   "cell_type": "markdown",
   "id": "07626ad6-8c56-480b-9d3f-3199a0287107",
   "metadata": {},
   "source": [
    "## Batches of size m\n",
    "- Let's say we have mini-batches, each with 20 training examples\n",
    "- To benefit from vectorization, you'll stack 20 columns of __$x^i$__ examples\n",
    "- For example, this tensor has the shape __(5000,20,10)__\n",
    "- You'll use __m__ to denote the number of training examples\n",
    "- So, the shape of a mini-batch is __$(n_x, m, T_x)$__\n"
   ]
  },
  {
   "cell_type": "markdown",
   "id": "f16993f0-fa12-4bdc-a020-057e5508e72d",
   "metadata": {},
   "source": [
    "## 3D Tensor of shape __$(n_x, m, T_x)$__\n",
    "The 3-dimensional tensor __x__ of shape __$(n_x, m, T_x)$__ represents the input __x__ that is fed into the RNN"
   ]
  },
  {
   "cell_type": "markdown",
   "id": "c0a870ac-ad02-4e4a-9571-9bfb2a4189f2",
   "metadata": {},
   "source": [
    "## Taking a 2D slice for each time step: __$x^{<t>}$__\n",
    "- At each time step, you'll use a mini-batch of training examples (not just a single example)\n",
    "- So, for each time step __t,__ you'll use a 2D slice of shape __($n_x$, m)__\n",
    "- This 2D slice is referred to as $x^{<t>}$. The variable name in the code is __xt__"
   ]
  },
  {
   "cell_type": "markdown",
   "id": "e78cb878-1c1d-4495-91d6-7d33118c05c7",
   "metadata": {},
   "source": [
    "## Definition of hidden state __a__\n",
    "The activation $a^{<t>}$ that is passed to the RNN from one time step to another is called a \"hidden state.\""
   ]
  },
  {
   "cell_type": "markdown",
   "id": "465c7b31-8ec8-4ab0-8675-bed829e13f69",
   "metadata": {},
   "source": [
    "## Dimensions of hidden state __a__\n",
    "- Similar to the input tensor x, the hidden state for a single training example is a vector of length $n_a$\n",
    "- If you include a mini-batch of m training examples, the shape of a mini-batch is ($n_a$, m)\n",
    "- When you include the time step dimension, the shape of the hidden state is $(n_a, m, T_x)$\n",
    "- You'll loop through the time steps with index t, and work with a 2D slice of the 3D tensor, this 2D slice is referred to as $a^{<t>}$\n",
    "- In the code, the variable names used are either a_prev or a_next, depending on the function being implemented\n",
    "- The shape of this 2D slice is $(n_a, m)$\n"
   ]
  },
  {
   "cell_type": "markdown",
   "id": "300982cc-f862-4152-ab33-9c1ea57996d4",
   "metadata": {},
   "source": [
    "## Dimensions of prediction $\\hat{y}$\n",
    "- Similar to the inputs and hidden states, $\\hat{y}$ is a 3D tensor of shape $(n_x, m, T_y)$\n",
    "    -  $n_y$ : number of units in the vector representing the prediction\n",
    "    -  $m$ : number of examples in a mini-batch\n",
    "    -  $Ty$ : number of time steps in the prediction\n",
    "- For a single time step t, a 2D slice $\\hat{y}^{<t>}$ has shape $(n_y, m)$\n",
    "- In the code, the variables name are:\n",
    "    - y_pred: $\\hat{y}$\n",
    "    - yt_pred: $\\hat{y}^{<t>}$\n"
   ]
  },
  {
   "cell_type": "markdown",
   "id": "3d2b09dc-086d-4afd-a021-f71a8fcef595",
   "metadata": {},
   "source": [
    "Here's how you can implement an RNN:"
   ]
  },
  {
   "cell_type": "markdown",
   "id": "c560ac21-1cfe-4feb-8d94-b7560ceb785c",
   "metadata": {},
   "source": [
    "## Steps:\n",
    "1. Implement the calculations needed for one time step of the RNN.\n",
    "2. Implement a loop over $T_x$ time steps in order to process all the inputs, one at a time."
   ]
  },
  {
   "cell_type": "markdown",
   "id": "b1bf1417-b766-49c4-8e51-d2bc7005d6c5",
   "metadata": {},
   "source": [
    "## RNN Cell\n",
    "![RnnCell](images/rnn_cell.png)\n",
    "\n",
    "$a^{<t>} = tanh(W_{ax} \\; x^{<t>} + W_{aa}\\; a^{<t-1>} + b_a)$\n",
    "\n",
    "$\\hat{y} ^{<t>} = softmax(W_{ya} \\; a^{<t>} + b_y)$"
   ]
  },
  {
   "cell_type": "markdown",
   "id": "36daae65-faae-4931-8da3-df6c6c7c6ab4",
   "metadata": {},
   "source": [
    "Figure 2: Basic RNN cell. Takes as input $x^{<t>}$ (current input) and $a^{<t-1>}$ (previous hidden state containing information from the past), and outputs $a^{<t->}$ which is given to the next RNN cell and also used to predict $\\hat{y}^{<t>}$\n"
   ]
  },
  {
   "cell_type": "markdown",
   "id": "ffc3d79d-4445-43a9-862e-416379846c72",
   "metadata": {},
   "source": [
    "## RNN cell versus RNN_cell_forward:\n",
    "- Note that an RNN cell outputs the hidden state $a^{<t>}$\n",
    "    - RNN cell is shown in the figure as the inner box with solid lines\n",
    "- The function that you'll implement, rnn_cell_forward, also calculates the prediction $\\hat{y}^{<t>}$\n",
    "    - RNN_cell_forward is shown in the figure as the outer box with dashed lines"
   ]
  },
  {
   "cell_type": "markdown",
   "id": "a98871bf-40bf-4612-b3e2-a7089be0f3bd",
   "metadata": {},
   "source": [
    "# Exercise 1 - rnn_cell_forward\n",
    "Implement the RNN cell described in Figure 2.\n",
    "\n",
    "## Instructions:"
   ]
  },
  {
   "cell_type": "markdown",
   "id": "fc13de3d-f406-4bbe-adf1-bc6c0be3db44",
   "metadata": {},
   "source": [
    "1. Compute the hidden state with tanh activation: $a^{<t>} = tanh(W_{ax} \\; x^{<t>} + W_{aa}\\; a^{<t-1>} + b_a)$\n",
    "2. Using your new hidden state $a^{<t>}$ , compute the prediction $\\hat{y} ^{<t>} = softmax(W_{ya} \\; a^{<t>} + b_y)$ . (The function softmax is provided)\n",
    "3. Store $(a^{<t>}, a^{<t-1>}, x^{<t>}, parameters) $ in a cache\n",
    "4. Return $a^{<t>},\\; \\hat {y}^{<t>}$, and cache"
   ]
  },
  {
   "cell_type": "code",
   "execution_count": 4,
   "id": "bbec63e2-98cd-4f22-ac82-b72eb598e64a",
   "metadata": {},
   "outputs": [],
   "source": [
    "def rnn_cell_forward(xt, a_prev, parameters):\n",
    "    Wax = parameters[\"Wax\"] # (n_a, n_x)\n",
    "    Waa = parameters[\"Waa\"] # (n_a, n_a)\n",
    "    Wya = parameters[\"Wya\"] # (n_y, n_a)\n",
    "    ba = parameters[\"ba\"]   # (n_a, 1)\n",
    "    by = parameters[\"by\"]   # (n_y, 1)\n",
    "\n",
    "    a_next = np.tanh(np.dot(Waa, a_prev) + np.dot(Wax, xt) +ba)\n",
    "    y_pred = softmax(np.dot(Wya, a_next) + by)\n",
    "\n",
    "    cache = (a_next, a_prev, xt, parameters)\n",
    "    return a_next, y_pred, cache"
   ]
  },
  {
   "cell_type": "code",
   "execution_count": 5,
   "id": "a56f3ccd-1e7f-43bc-9e46-0d41f2cf37ef",
   "metadata": {},
   "outputs": [
    {
     "name": "stdout",
     "output_type": "stream",
     "text": [
      "a_next[4] = \n",
      " [ 0.59584544  0.18141802  0.61311866  0.99808218  0.85016201  0.99980978\n",
      " -0.18887155  0.99815551  0.6531151   0.82872037]\n",
      "a_next.shape = \n",
      " (5, 10)\n",
      "yt_pred[1] = \n",
      " [0.9888161  0.01682021 0.21140899 0.36817467 0.98988387 0.88945212\n",
      " 0.36920224 0.9966312  0.9982559  0.17746526]\n",
      "yt_pred.shape = \n",
      " (2, 10)\n",
      "\u001b[92mAll tests passed\n"
     ]
    }
   ],
   "source": [
    "np.random.seed(1)\n",
    "xt_tmp = np.random.randn(3,10)  # (n_x, m); 3 features, 10 examples → n_x = 3, batch size = 10\n",
    "a_prev_tmp = np.random.randn(5,10) #(n_a, m)  a <t−1>: n_a = 5 It’s like choosing how many notes you want to take while listening to a lecture.\n",
    "parameters_tmp = {}\n",
    "parameters_tmp['Waa'] = np.random.randn(5,5) # (n_a, n_a)\n",
    "parameters_tmp['Wax'] = np.random.randn(5,3) # (n_a, n_x)\n",
    "parameters_tmp['Wya'] = np.random.randn(2,5) # (n_y, n_a)\n",
    "parameters_tmp['ba'] = np.random.randn(5,1)  # (n_a, 1)\n",
    "parameters_tmp['by'] = np.random.randn(2,1)  # (n_y, 1)\n",
    "\n",
    "a_next_tmp, yt_pred_tmp, cache_tmp = rnn_cell_forward(xt_tmp, a_prev_tmp, parameters_tmp)\n",
    "\n",
    "print(\"a_next[4] = \\n\", a_next_tmp[4])\n",
    "print(\"a_next.shape = \\n\", a_next_tmp.shape)\n",
    "print(\"yt_pred[1] = \\n\", yt_pred_tmp[1])\n",
    "print(\"yt_pred.shape = \\n\", yt_pred_tmp.shape)\n",
    "\n",
    "rnn_cell_forward_tests(rnn_cell_forward)"
   ]
  },
  {
   "cell_type": "markdown",
   "id": "ab582344-e6c4-4c21-a892-f94fd5047b3d",
   "metadata": {},
   "source": [
    "## 1.2 - RNN Forward Pass\n",
    "- A recurrent neural network (RNN) is a repetition of the RNN cell that you've just built.\n",
    "\t- If your input sequence of data is 10 time steps long, then you will re-use the RNN cell 10 times\n",
    "- Each cell takes two inputs at each time step:\n",
    "\t- $a^{<t-1>}$ : The hidden state from the previous cell\n",
    "\t- $x^{<t>}$: The current time step's input data\n",
    "- It has two outputs at each time step:\n",
    "\t- A hidden state ($a^{<t>}$)\n",
    "\t- A prediction ($y^{<t>}$)\n",
    "- The weights and biases $W_{aa}, b_a, W_{ax}, b_x$ are re-used each time step\n",
    "\t- They are maintained between calls to rnn_cell_forward in the 'parameters' dictionary"
   ]
  },
  {
   "cell_type": "markdown",
   "id": "b74b10f0-7514-492f-ba3d-1a33191f6c8c",
   "metadata": {},
   "source": [
    "![RNN Forward Pass](images/rnn_forward_pass.png)\n",
    "Figure 3: Basic RNN. The input sequence $x = (x^{<1>}, x^{<2>},..., x^{<T_x>})$ is carried over $T_x$ time steps. The network outputs $y = (y^{<1>}, y^{<2>},..., y^{<T_x>}).$"
   ]
  },
  {
   "cell_type": "markdown",
   "id": "aa17225f-cf25-43e7-ac8a-f9aff5299a4c",
   "metadata": {},
   "source": [
    "## Exercise 2 - rnn_forward\n",
    "Implement the forward propagation of the RNN described in Figure 3.\n",
    "\n",
    "## Instructions:\n",
    "\n",
    "- Create a 3D array of zeros, __a__ of shape $(n_a, m, T_x)$ that will store all the hidden states computed by the RNN\n",
    "- Create a 3D array of zeros, $\\hat{y}, of \\; shape \\; (n_y, m, Tx)$ that will store the predictions\n",
    "\t- Note that in this case, $T_y = T_x$ (the prediction and input have the same number of time steps)\n",
    "- Initialize the 2D hidden state a_next by setting it equal to the initial hidden state, $a_0$\n",
    "- At each time step:\n",
    "\t- Get $x^{<t>}$ , which is a 2D slice of x for a single time step t\n",
    " \t\t- $x^{<t>}$has shape $(n_x, m)$\n",
    " \t\t- x has shape $(n_x, m, T_x)$ \n",
    "\t- Update the 2D hidden state $a^{<t>}$ (variable name a_next), the prediction $\\hat{y}^{<t>}$ and the cache by running rnn_cell_forward\t\t\n",
    "\t\t- $a^{<t>}$ has shape $(n_a, m) $ \n",
    "\t- Store the 2D hidden state in the 3D tensor __a__, at the $t^{th}$ position\n",
    " \t\t- __a__ has shape $(n_a, m, T_x)$\n",
    "\t- Store the 2D $\\hat{y}^{<t>}$ prediction (variable name yt_pred) in the 3D tensor $\\hat {y}_{pred}$ at the $t^{th}$ position\n",
    " \t\t- $\\hat{y}^{<t>}$ has shape $(n_y, m)$\n",
    "\t\t- $\\hat{y}$ has shape $(n_y, m, T_x)$\n",
    "\t- Append the cache to the list of caches\n",
    "- Return the 3D tensor __a__ and $\\hat {y}$, as well as the list of caches"
   ]
  },
  {
   "cell_type": "code",
   "execution_count": 6,
   "id": "e699d20f-3520-4228-95a1-ba991e883423",
   "metadata": {},
   "outputs": [],
   "source": [
    "def rnn_forward(x, a0, parameters):\n",
    "    caches = []\n",
    "    n_x, m, T_x = x.shape\n",
    "    n_y, n_a = parameters[\"Wya\"].shape\n",
    "    a = np.zeros((n_a, m, T_x))\n",
    "    y_pred = np.zeros((n_y, m, T_x))\n",
    "    a_next = a0\n",
    "\n",
    "    for t in range (T_x):\n",
    "        a_next, yt_pred, cache = rnn_cell_forward(x[:,:,t], a_next, parameters)\n",
    "        a[:,:,t] = a_next\n",
    "        y_pred[:,:,t] = yt_pred\n",
    "        caches.append(cache)\n",
    "    caches = (caches, x)\n",
    "    return a, y_pred, caches"
   ]
  },
  {
   "cell_type": "code",
   "execution_count": 7,
   "id": "5270a199-fc05-4063-93d2-bd63427d5729",
   "metadata": {},
   "outputs": [
    {
     "name": "stdout",
     "output_type": "stream",
     "text": [
      "a[4][1] = \n",
      " [-0.99999375  0.77911235 -0.99861469 -0.99833267]\n",
      "a.shape = \n",
      " (5, 10, 4)\n",
      "y_pred[1][3] =\n",
      " [0.79560373 0.86224861 0.11118257 0.81515947]\n",
      "y_pred.shape = \n",
      " (2, 10, 4)\n",
      "caches[1][1][3] =\n",
      " [-1.1425182  -0.34934272 -0.20889423  0.58662319]\n",
      "len(caches) = \n",
      " 2\n",
      "\u001b[92mAll tests passed\n"
     ]
    }
   ],
   "source": [
    "np.random.seed(1)\n",
    "x_tmp = np.random.randn(3, 10, 4) #(n_x, m, T_x).\n",
    "a0_tmp = np.random.randn(5, 10)   #(n_a, m)\n",
    "parameters_tmp = {}\n",
    "\n",
    "parameters_tmp['Waa'] = np.random.randn(5,5) #(n_a, n_a)\n",
    "parameters_tmp['Wax'] = np.random.randn(5,3) #(n_a, n_x)\n",
    "parameters_tmp['Wya'] = np.random.randn(2,5) #(n_y, n_a)\n",
    "parameters_tmp['ba']  = np.random.randn(5,1) #(n_a, 1)\n",
    "parameters_tmp['by']  = np.random.randn(2,1) #(n_y, 1) \n",
    "\n",
    "a_tmp, y_pred_tmp, caches_tmp = rnn_forward(x_tmp, a0_tmp, parameters_tmp)\n",
    "print(\"a[4][1] = \\n\", a_tmp[4][1])\n",
    "print(\"a.shape = \\n\", a_tmp.shape)\n",
    "print(\"y_pred[1][3] =\\n\", y_pred_tmp[1][3])\n",
    "print(\"y_pred.shape = \\n\", y_pred_tmp.shape)\n",
    "print(\"caches[1][1][3] =\\n\", caches_tmp[1][1][3])\n",
    "print(\"len(caches) = \\n\", len(caches_tmp))\n",
    "\n",
    "#UNIT TEST    \n",
    "rnn_forward_test(rnn_forward)"
   ]
  },
  {
   "cell_type": "markdown",
   "id": "3fbdfb7d-7a65-4c40-9248-cf93d881cca3",
   "metadata": {},
   "source": [
    "## 2 - Long Short-Term Memory (LSTM) Network\n",
    "The following figure shows the operations of an LSTM cell:\n",
    "![LSTM](images/lstm.png)\n",
    "\n",
    "Figure 4: LSTM cell. This tracks and updates a \"cell state,\" or memory variable $c^{<t>}$ at every time step, which can be different from $a^{<t>}$\n",
    ". Note, the softmax includes a dense layer and softmax.\n",
    "\n",
    "Similar to the RNN example above, you'll begin by implementing the LSTM cell for a single time step. Then, you'll iteratively call it from inside a \"for loop\" to have it process an input with $T_x$ time steps."
   ]
  },
  {
   "cell_type": "markdown",
   "id": "0fd09554-7edd-4e63-b05d-9c86b3639d0e",
   "metadata": {},
   "source": [
    "## Overview of gates and states\n",
    "## Forget gate $Γ_f$\n"
   ]
  },
  {
   "cell_type": "markdown",
   "id": "059bba35-c74c-43f4-9808-a2ff646e4746",
   "metadata": {},
   "source": [
    "- Let's assume you are reading words in a piece of text, and plan to use an LSTM to keep track of grammatical structures, such as whether the subject is singular (\"puppy\") or plural (\"puppies\").\n",
    "- If the subject changes its state (from a singular word to a plural word), the memory of the previous state becomes outdated, so you'll \"forget\" that outdated state.\n",
    "- The \"forget gate\" is a tensor containing values between 0 and 1.\n",
    "    - If a unit in the forget gate has a value close to 0, the LSTM will \"forget\" the stored state in the corresponding unit of the previous cell state.\n",
    "    - If a unit in the forget gate has a value close to 1, the LSTM will mostly remember the corresponding value in the stored state.\n",
    "## Equation"
   ]
  },
  {
   "cell_type": "markdown",
   "id": "8dc2975a-986e-4209-b9be-624c11b89bc0",
   "metadata": {},
   "source": [
    "$Γ^{<t>}_f = σ(W_f[a^{<t-1>}, x^{<t>}] + bf)$ --> (1)"
   ]
  },
  {
   "cell_type": "markdown",
   "id": "53293b0c-8d05-42d5-8163-d96d88a54faa",
   "metadata": {},
   "source": [
    "## Explanation of the equation:\n",
    "- $W_f$ contains weights that govern the forget gate's behavior.\n",
    "- The previous time step's hidden state $a^{<t-1>}$ and current time step's input $x^{<t>}$ are concatenated together and multiplied by $W_f$.\n",
    "- A sigmoid function is used to make each of the gate tensor's values $Γ^{<t>}_f $ range from 0 to 1.\n",
    "- The forget gate $Γ^{<t>}_f $ has the same dimensions as the previous cell state $c^{<t-1>}$.\n",
    "- This means that the two can be multiplied together, element-wise.\n",
    "- Multiplying the tensors $Γ^{<t>}_f * c^{<t-1>}$ is like applying a mask over the previous cell state.\n",
    "- If a single value in $Γ^{<t>}_f$ is 0 or close to 0, then the product is close to 0.\n",
    "    - This keeps the information stored in the corresponding unit in $c^{<t-1>}$ from being remembered for the next time step.\n",
    "- Similarly, if one value is close to 1, the product is close to the original value in the previous cell state.\n",
    "    - The LSTM will keep the information from the corresponding unit of $c^{<t-1>}$ , to be used in the next time step."
   ]
  },
  {
   "cell_type": "markdown",
   "id": "970c25c6-39d8-4f47-a39c-ce0b86bb30bf",
   "metadata": {},
   "source": [
    "## Variable names in the code\n",
    "The variable names in the code are similar to the equations, with slight differences.\n",
    "\n",
    "- Wf: forget gate weight $W_f$\n",
    "- bf: forget gate bias $b_f$\n",
    "- ft: forget gate $Γ^{<t>}_f$\n"
   ]
  },
  {
   "cell_type": "markdown",
   "id": "86e3e873-c082-4474-9f18-51c244e16c80",
   "metadata": {},
   "source": [
    "## Candidate value  $\\tilde{c}^{<t>}$\n",
    "- The candidate value is a tensor containing information from the current time step that may be stored in the current cell state $c^{<t>}$.\n",
    "- The parts of the candidate value that get passed on depend on the update gate.\n",
    "- The candidate value is a tensor containing values that range from -1 to 1.\n",
    "- The tilde \"~\" is used to differentiate the candidate  $\\tilde{c}^{<t>}$ from the cell state  $c^{<t>}$."
   ]
  },
  {
   "cell_type": "markdown",
   "id": "7bc38ee9-32f2-4317-a93c-9941b8e6e7a2",
   "metadata": {},
   "source": [
    "## Equation\n",
    "$\\tilde{c}^{<t>} = tanh (W_c \\;[a^{<t-1>}, x^{<t>} + b_c)$ --> (3)\n",
    "### Explanation of the equation\n",
    "- The tanh function produces values between -1 and 1.\n",
    "Variable names in the code\n",
    "- cct: candidate value $\\tilde{c}^{<t>}$"
   ]
  },
  {
   "cell_type": "markdown",
   "id": "906b2996-cf07-4fd9-a37d-b2595afc66cd",
   "metadata": {},
   "source": [
    "Update gate $Γ_i$\n",
    "- You use the update gate to decide what aspects of the candidate $\\tilde{c}^{<t>}$ to add to the cell state  $c^{<t>}$\n",
    "- The update gate decides what parts of a \"candidate\" tensor $\\tilde{c}^{<t>}$ are passed onto the cell state $c^{<t>}$.\n",
    "- The update gate is a tensor containing values between 0 and 1.\n",
    "\t- When a unit in the update gate is close to 1, it allows the value of the candidate $\\tilde{c}^{<t>}$ to be passed onto the hidden state \n",
    "\t- When a unit in the update gate is close to 0, it prevents the corresponding value in the candidate from being passed onto the hidden state.\n",
    "- Notice that the subscript \"i\" is used and not \"u\", to follow the convention used in the literature."
   ]
  },
  {
   "cell_type": "markdown",
   "id": "bf96bf36-2fdb-4f4c-8c4c-ff93d39b78d3",
   "metadata": {},
   "source": [
    "## Equation\n",
    "\n",
    "$Γ_i^{<t>} = σ(W_i[a^{<t-1>}, x^{<t>}] + b_i)$ --> (2)\n",
    "### Variable names in code (Please note that they're different than the equations)\n",
    "In the code, you'll use the variable names found in the academic literature. These variables don't use \"u\" to denote \"update\".\n",
    "\n",
    "- Wi is the update gate weight $W_i$ (not \"Wu\")\n",
    "- bi is the update gate bias $b_i$ (not \"bu\")\n",
    "- it is the update gate $Γ_i^{<t>}$ (not \"ut\")"
   ]
  },
  {
   "cell_type": "markdown",
   "id": "e33fd2e5-aae3-4e1b-b824-aee7382e0cd5",
   "metadata": {},
   "source": [
    "## Cell state $c^{<c>}$\n",
    "- The cell state is the \"memory\" that gets passed onto future time steps.\n",
    "- The new cell state $c^{<c>}$ is a combination of the previous cell state and the candidate value.\n",
    "### Equation\n",
    "\n",
    "$c^{<t>} = Γ_f^{<t>} * c^{<t-1>} + Γ_i^{<t>} * \\tilde{c}^{<t>}$ --> (4)"
   ]
  },
  {
   "cell_type": "markdown",
   "id": "a9d4d0f9-dd28-4896-8678-ce0ea5bf3bc0",
   "metadata": {},
   "source": [
    "## Variable names and shapes in the code\n",
    "- c : cell state, including all time steps, c shape $(n_a, m, T_x)$\n",
    "- c_next : new (next) cell state, $c^{<t>}$ shape  $(n_a, m)$\n",
    "- c_prev : previous cell state, $c^{<t-1>}$ shape $(n_a, m)$\n"
   ]
  },
  {
   "cell_type": "markdown",
   "id": "57e062e4-1875-48fa-912c-2db19ae11263",
   "metadata": {},
   "source": [
    "## Output gate $Γ_o$\n",
    "- The output gate decides what gets sent as the prediction (output) of the time step.\n",
    "- The output gate is like the other gates, in that it contains values that range from 0 to 1.\n",
    "### Equation\n",
    "$Γ_o^{<t>} = σ(W_o[a^{<t-1>}, x^{<t>}] + b_o)$ --> (5)\n",
    "- The output gate is determined by the previous hidden state $a^{<t-1>}$ and the current input $x^{<t>}$\n",
    "- The sigmoid makes the gate range from 0 to 1."
   ]
  },
  {
   "cell_type": "markdown",
   "id": "e5beaba7-42fb-4689-a545-024e7a453e11",
   "metadata": {},
   "source": [
    "## Variable names in the code\n",
    "- Wo: output gate weight, $W_o$\n",
    "- bo: output gate bias, $b_o$\n",
    "- ot: output gate, $Γ_o^{<t>}$\n"
   ]
  },
  {
   "cell_type": "markdown",
   "id": "4caaec07-41c2-4a52-9467-ad7036548a4f",
   "metadata": {},
   "source": [
    "## Hidden state $a^{<t>}$\n",
    "- The hidden state gets passed to the LSTM cell's next time step.\n",
    "- It is used to determine the three gates ($Γ_f,Γ_u, Γ_o $)of the next time step.\n",
    "- The hidden state is also used for the prediction y^{<t>}.\n",
    "\n",
    "## Equation\n",
    "$a^{<t>} = Γ_o^{<t>} * tanh(c^{<t>})$ --> (6)\n",
    "\n",
    "## Explanation of equation\n",
    "- The hidden state $a^{<t>}$ is determined by the cell state $c^{<t>}$ in combination with the output gate $Γ_o$.\n",
    "- The cell state is passed through the tanh function to rescale values between -1 and 1.\n",
    "- The output gate acts like a \"mask\" that either preserves the values of $tanh(c^{<t>})$ or keeps those values from being included in the hidden state $a^{<t>}$\n",
    "\n",
    "## Variable names and shapes in the code\n",
    "- a: hidden state, including time steps. a has shape $(n_a, m, T_x)$ \n",
    "- a_prev: hidden state from previous time step. $a^{<t-1>}$ has shape $(n_a, m)$ \n",
    "- a_next: hidden state for next time step. $a^{<t>}$ has shape $(n_a, m)$ \n"
   ]
  },
  {
   "cell_type": "markdown",
   "id": "9f48dc49-0922-4373-9c56-bf21abce178d",
   "metadata": {},
   "source": [
    "## Prediction $y^{<t>}_{pred}$\n",
    "- The prediction in this use case is a classification, so you'll use a softmax.\n",
    "### The equation is: \n",
    "$y^{<t>}_{pred} = softmax(W_y \\; a^{<t>} + b_y)$\n",
    "\n",
    "## Variable names and shapes in the code\n",
    "- y_pred: prediction, including all time steps. $y_{pred}$ has shape $(n_y, m, T_x)$. Note that $(T_y = T_x)$ for this example. \n",
    "- yt_pred: prediction for the current time step t. $y^{<t>}_{pred}$ has shape $(n_y, m)$ "
   ]
  },
  {
   "cell_type": "markdown",
   "id": "3e25b7cf-474f-4739-bf57-2a9fe1968357",
   "metadata": {},
   "source": [
    "## 2.1 - LSTM Cell\n",
    "\n",
    "### Exercise 3 - lstm_cell_forward\n",
    "Implement the LSTM cell described in Figure 4.\n",
    "\n",
    "## Instructions:\n",
    "\n",
    "1. Concatenate the hidden state $a^{<t-1>}$ and input $x^{<t>}$ into a single matrix:\n",
    "2. Compute all formulas (1 through 6) for the gates, hidden state, and cell state.\n",
    "3. Compute the prediction $y^{<t>}$."
   ]
  },
  {
   "cell_type": "markdown",
   "id": "939ff542-ca6d-44b3-b2b4-e7b9bc5bdf7e",
   "metadata": {},
   "source": [
    "### Equation 1:\n",
    "- $Γ^{<t>}_f = σ(W_f[a^{<t-1>}, x^{<t>}] + bf)$ --> (1)\n",
    "### Equation 2:\n",
    "- $Γ_i^{<t>} = σ(W_i[a^{<t-1>}, x^{<t>}] + b_i)$ --> (2)\n",
    "### Equation 3:\n",
    "- $\\tilde{c}^{<t>} = tanh (W_c \\;[a^{<t-1>}, x^{<t>} + b_c)$ --> (3)\n",
    "### Equation 4:\n",
    "- $c^{<t>} = Γ_f^{<t>} * c^{<t-1>} + Γ_i^{<t>} * \\tilde{c}^{<t>}$ --> (4)\n",
    "### Equation 5:\n",
    "- $Γ_o^{<t>} = σ(W_o[a^{<t-1>}, x^{<t>}] + b_o)$ --> (5)\n",
    "### Equation 6:\n",
    "- $a^{<t>} = Γ_o^{<t>} * tanh(c^{<t>})$ --> (6)\n"
   ]
  },
  {
   "cell_type": "code",
   "execution_count": 8,
   "id": "20625a8e-9c32-4d0f-9603-16f6dfaf7296",
   "metadata": {},
   "outputs": [],
   "source": [
    "def lstm_cell_forward(xt, a_prev, c_prev, parameters):\n",
    "    \n",
    "    Wf = parameters[\"Wf\"]\n",
    "    bf = parameters[\"bf\"]\n",
    "    Wi = parameters[\"Wi\"]\n",
    "    bi = parameters[\"bi\"]\n",
    "    Wc = parameters[\"Wc\"]\n",
    "    bc = parameters[\"bc\"]\n",
    "    Wo = parameters[\"Wo\"]\n",
    "    bo = parameters[\"bo\"]\n",
    "    Wy = parameters[\"Wy\"]\n",
    "    by = parameters[\"by\"]\n",
    "\n",
    "    n_x, m = xt.shape\n",
    "    n_y, n_a = Wy.shape\n",
    "\n",
    "    concat =np.concatenate([a_prev, xt])\n",
    "    \n",
    "    ft = sigmoid(np.dot(Wf, concat) + bf)  #Forget gate\n",
    "    it = sigmoid(np.dot(Wi, concat) + bi)  #Update gate\n",
    "    cct = np.tanh(np.dot(Wc, concat) + bc) #Candidate value\n",
    "    c_next = c_prev * ft + cct*it          #C_t\n",
    "    ot = sigmoid(np.dot(Wo, concat) + bo)  #Output gate\n",
    "    a_next = ot * (np.tanh(c_next))        #a_t\n",
    "\n",
    "    yt_pred = softmax(np.dot(Wy, a_next) + by)\n",
    "    cache = (a_next, c_next, a_prev, c_prev, ft, it, cct, ot, xt, parameters)\n",
    "    return a_next, c_next, yt_pred, cache"
   ]
  },
  {
   "cell_type": "code",
   "execution_count": 9,
   "id": "fc97a0bc-5ce8-4cf4-a389-d524eefb2eef",
   "metadata": {},
   "outputs": [
    {
     "name": "stdout",
     "output_type": "stream",
     "text": [
      "a_next[4] = \n",
      " [-0.66408471  0.0036921   0.02088357  0.22834167 -0.85575339  0.00138482\n",
      "  0.76566531  0.34631421 -0.00215674  0.43827275]\n",
      "a_next.shape =  (5, 10)\n",
      "c_next[2] = \n",
      " [ 0.63267805  1.00570849  0.35504474  0.20690913 -1.64566718  0.11832942\n",
      "  0.76449811 -0.0981561  -0.74348425 -0.26810932]\n",
      "c_next.shape =  (5, 10)\n",
      "yt[1] = [0.79913913 0.15986619 0.22412122 0.15606108 0.97057211 0.31146381\n",
      " 0.00943007 0.12666353 0.39380172 0.07828381]\n",
      "yt.shape =  (2, 10)\n",
      "cache[1][3] =\n",
      " [-0.16263996  1.03729328  0.72938082 -0.54101719  0.02752074 -0.30821874\n",
      "  0.07651101 -1.03752894  1.41219977 -0.37647422]\n",
      "len(cache) =  10\n",
      "\u001b[92mAll tests passed\n"
     ]
    }
   ],
   "source": [
    "np.random.seed(1)\n",
    "xt_tmp = np.random.randn(3,10)\n",
    "a_prev_tmp = np.random.randn(5,10)\n",
    "c_prev_tmp = np.random.randn(5,10)\n",
    "parameters_tmp = {}\n",
    "parameters_tmp['Wf'] = np.random.randn(5, 5 + 3)\n",
    "parameters_tmp['bf'] = np.random.randn(5, 1)\n",
    "parameters_tmp['Wi'] = np.random.randn(5, 5 + 3)\n",
    "parameters_tmp['bi'] = np.random.randn(5, 1)\n",
    "parameters_tmp['Wo'] = np.random.randn(5, 5 + 3)\n",
    "parameters_tmp['bo'] = np.random.randn(5, 1)\n",
    "parameters_tmp['Wc'] = np.random.randn(5, 5 + 3)\n",
    "parameters_tmp['bc'] = np.random.randn(5, 1)\n",
    "parameters_tmp['Wy'] = np.random.randn(2, 5)\n",
    "parameters_tmp['by'] = np.random.randn(2, 1)\n",
    "\n",
    "a_next_tmp, c_next_tmp, yt_tmp, cache_tmp = lstm_cell_forward(xt_tmp, a_prev_tmp, c_prev_tmp, parameters_tmp)\n",
    "\n",
    "print(\"a_next[4] = \\n\", a_next_tmp[4])\n",
    "print(\"a_next.shape = \", a_next_tmp.shape)\n",
    "print(\"c_next[2] = \\n\", c_next_tmp[2])\n",
    "print(\"c_next.shape = \", c_next_tmp.shape)\n",
    "print(\"yt[1] =\", yt_tmp[1])\n",
    "print(\"yt.shape = \", yt_tmp.shape)\n",
    "print(\"cache[1][3] =\\n\", cache_tmp[1][3])\n",
    "print(\"len(cache) = \", len(cache_tmp))\n",
    "\n",
    "# UNIT TEST\n",
    "lstm_cell_forward_test(lstm_cell_forward)"
   ]
  },
  {
   "cell_type": "markdown",
   "id": "9b7d3345-28c9-4034-82cc-1dd56cf6951b",
   "metadata": {},
   "source": [
    "## Exercise 4 - lstm_forward"
   ]
  },
  {
   "cell_type": "code",
   "execution_count": 10,
   "id": "620a525d-edc4-4f44-9868-738a82f5d3a8",
   "metadata": {},
   "outputs": [],
   "source": [
    "def lstm_forward(x, a0, parameters):\n",
    "    caches = []\n",
    "    n_x, m, T_x = x.shape\n",
    "    n_y, n_a = parameters['Wy'].shape\n",
    "    a = np.zeros((n_a, m, T_x))\n",
    "    c = np.zeros((n_a, m, T_x))\n",
    "    y = np.zeros((n_y, m, T_x))\n",
    "\n",
    "    a_next = a0\n",
    "    c_next = np.zeros((n_a, m))\n",
    "\n",
    "    for t in range(T_x):\n",
    "        xt = x[:, :, t]\n",
    "        a_next, c_next, yt, cache = lstm_cell_forward(xt, a_next, c_next, parameters)\n",
    "        a[:,:,t] = a_next\n",
    "        c[:,:,t] = c_next\n",
    "        y[:,:,t] = yt\n",
    "        caches.append(cache)\n",
    "    caches = (caches, x)\n",
    "    return a, y, c, caches"
   ]
  },
  {
   "cell_type": "code",
   "execution_count": 11,
   "id": "cfa88980-e972-4dc1-ac7f-c2286fc834a3",
   "metadata": {},
   "outputs": [
    {
     "name": "stdout",
     "output_type": "stream",
     "text": [
      "a[4][3][6] =  0.17211776753291672\n",
      "a.shape =  (5, 10, 7)\n",
      "y[1][4][3] = 0.9508734618501101\n",
      "y.shape =  (2, 10, 7)\n",
      "caches[1][1][1] =\n",
      " [ 0.82797464  0.23009474  0.76201118 -0.22232814 -0.20075807  0.18656139\n",
      "  0.41005165]\n",
      "c[1][2][1] -0.8555449167181981\n",
      "len(caches) =  2\n",
      "\u001b[92mAll tests passed\n"
     ]
    }
   ],
   "source": [
    "np.random.seed(1)\n",
    "x_tmp = np.random.randn(3, 10, 7)\n",
    "a0_tmp = np.random.randn(5, 10)\n",
    "parameters_tmp = {}\n",
    "parameters_tmp['Wf'] = np.random.randn(5, 5 + 3)\n",
    "parameters_tmp['bf'] = np.random.randn(5, 1)\n",
    "parameters_tmp['Wi'] = np.random.randn(5, 5 + 3)\n",
    "parameters_tmp['bi']= np.random.randn(5, 1)\n",
    "parameters_tmp['Wo'] = np.random.randn(5, 5 + 3)\n",
    "parameters_tmp['bo'] = np.random.randn(5, 1)\n",
    "parameters_tmp['Wc'] = np.random.randn(5, 5 + 3)\n",
    "parameters_tmp['bc'] = np.random.randn(5, 1)\n",
    "parameters_tmp['Wy'] = np.random.randn(2, 5)\n",
    "parameters_tmp['by'] = np.random.randn(2, 1)\n",
    "\n",
    "a_tmp, y_tmp, c_tmp, caches_tmp = lstm_forward(x_tmp, a0_tmp, parameters_tmp)\n",
    "print(\"a[4][3][6] = \", a_tmp[4][3][6])\n",
    "print(\"a.shape = \", a_tmp.shape)\n",
    "print(\"y[1][4][3] =\", y_tmp[1][4][3])\n",
    "print(\"y.shape = \", y_tmp.shape)\n",
    "print(\"caches[1][1][1] =\\n\", caches_tmp[1][1][1])\n",
    "print(\"c[1][2][1]\", c_tmp[1][2][1])\n",
    "print(\"len(caches) = \", len(caches_tmp))\n",
    "\n",
    "# UNIT TEST    \n",
    "lstm_forward_test(lstm_forward)"
   ]
  },
  {
   "cell_type": "markdown",
   "id": "d3d54b21-8a11-4711-9b0e-ffc17678ec6f",
   "metadata": {},
   "source": [
    "# 3.1 - Basic RNN Backward Pass\n",
    "![Rnn back](images/rnn_back.png)"
   ]
  },
  {
   "cell_type": "markdown",
   "id": "f46d3744-dd9f-4470-b912-21be913206a0",
   "metadata": {},
   "source": [
    "The RNN cell's backward pass. Just like in a fully-connected neural network, the derivative of the cost function __J__ backpropagates through the time steps of the RNN by following the chain rule from calculus. Internal to the cell, the chain rule is also used to calculate \n",
    "($\\frac{∂J}{∂W_{ax}},\\frac{∂J}{∂W_{aa}}, \\frac{∂J}{∂b}$) to update the parameters ($W_{ax}, W_{aa}, b_a$). The operation can utilize the cached results from the forward path."
   ]
  },
  {
   "cell_type": "markdown",
   "id": "42f9b27d-80c6-41ae-8760-e81ccf9b4f32",
   "metadata": {},
   "source": [
    "![Rnn](images/rnn_back2.png)"
   ]
  },
  {
   "cell_type": "markdown",
   "id": "5a7669b2-6b4d-495b-8bdf-3fc82b19093c",
   "metadata": {},
   "source": [
    "This implementation of `rnn_cell_backward` does **not** include the output dense layer and softmax which are included in `rnn_cell_forward`.\n",
    "$da_{next}$ is $\\frac{∂J}{∂a^{<t>}}$, and includes loss from previous stages and current stage output logic. The addition shown in green will be part of your implementation of rnn_backward."
   ]
  },
  {
   "cell_type": "markdown",
   "id": "cc8186f1-aa61-4edd-9c01-b5543a4250b3",
   "metadata": {},
   "source": [
    "## Equations\n",
    "To compute rnn_cell_backward, you can use the following equations. It's a good exercise to derive them by hand. Here, \n",
    " denotes element-wise multiplication while the absence of a symbol indicates matrix multiplication."
   ]
  },
  {
   "cell_type": "markdown",
   "id": "f8c8d3e8-8bfd-43b4-a67e-35494363b698",
   "metadata": {},
   "source": [
    "\\begin{align*}\n",
    "a^{<t>} &= \\tanh(W_{ax} \\; x^{<t>} + W_{aa} \\; a^{<t-1>} + b_a) & \\text{(-)} \\\\[0.5em]\n",
    "\\frac{\\partial \\tanh(x)}{\\partial x} &= 1 - \\tanh^2(x) & \\text{(-)} \\\\[0.5em]\n",
    "dtanh &= da_{next} \\; * (1 - \\tanh^2(W_{ax} \\; x^{<t>} + W_{aa} \\; a^{<t-1>} + b_a)) & \\text{(0)} \\\\[0.5em]\n",
    "dW_{ax} &= dtanh \\cdot x^{<t>T} & \\text{(1)} \\\\[0.5em]\n",
    "dW_{aa} &= dtanh \\cdot a^{<t-1>T} & \\text{(2)} \\\\[0.5em]\n",
    "db_a &= \\sum_{batch} \\; dtanh & \\text{(3)} \\\\[0.5em]\n",
    "dx^{<t>} &= W_{ax}^T \\cdot dtanh & \\text{(4)} \\\\[0.5em]\n",
    "da_{prev} &= W_{aa}^T \\cdot dtanh & \\text{(5)} \\\\\n",
    "\\end{align*}\n"
   ]
  },
  {
   "cell_type": "markdown",
   "id": "c9f15be8-9ead-407c-a610-9a9b403621bb",
   "metadata": {},
   "source": [
    "## Exercise 5 - rnn_cell_backward\n",
    "\n",
    "Implementing rnn_cell_backward.\n",
    "\n",
    "The results can be computed directly by implementing the equations above. However, you have an option to simplify them by computing 'dz' and using the chain rule.\n",
    "This can be further simplified by noting that $tanh(W_{ax} \\; x^{<t>} + W_{aa} \\; a^{<t-1>} + b_a)$ was computed and saved as a_next in the forward pass.\n",
    "\n",
    "To calculate dba, the 'batch' above is a sum across all 'm' examples (axis= 1). Note that you should use the keepdims = True option.\n",
    "\n",
    "It may be worthwhile to review Course 1 Derivatives with a Computation Graph through Backpropagation Intuition, which decompose the calculation into steps using the chain rule.\n",
    "Matrix vector derivatives are described here, though the equations above incorporate the required transformations.\n",
    "\n",
    "__Note:__ rnn_cell_backward does __not__ include the calculation of loss from __y<t>__. This is incorporated into the incoming da_next. This is a slight mismatch with rnn_cell_forward, which includes a dense layer and softmax.\n",
    "\n",
    "### Note on the code:\n",
    "\n",
    "- $dx^{<t>}$ is represented by dxt,\n",
    "  \n",
    "- $dW_{ax}$ is represented by dWax,\n",
    "\n",
    "- $da_{prev}$ is represented by da_prev,\n",
    "\n",
    "- $dW_{aa}$ is represented by dWaa,\n",
    "\n",
    "- $db_a$ is represented by dba,\n",
    "\n",
    "- __dz__ is not derived above but can optionally be derived by students to simplify the repeated calculations.\n"
   ]
  },
  {
   "cell_type": "code",
   "execution_count": 12,
   "id": "967dfeab-69fb-4696-be6a-2be7b92c43a5",
   "metadata": {},
   "outputs": [],
   "source": [
    "def rnn_cell_backward(da_next, cache):\n",
    "    (a_next, a_prev, xt, parameters) = cache\n",
    "    Wax = parameters[\"Wax\"]\n",
    "    Waa = parameters[\"Waa\"]\n",
    "    Wya = parameters[\"Wya\"]\n",
    "    ba = parameters[\"ba\"]\n",
    "    by = parameters[\"by\"]\n",
    "\n",
    "    dtanh = None\n",
    "    dxt = None\n",
    "    dWax = None\n",
    "    \n",
    "    da_prev = None\n",
    "    dWaa = None\n",
    "    dba = None\n",
    "    gradients = {\"dxt\": dxt, \"da_prev\": da_prev, \"dWax\": dWax, \"dWaa\": dWaa, \"dba\": dba}\n",
    "    return gradients\n",
    "    "
   ]
  },
  {
   "cell_type": "code",
   "execution_count": 13,
   "id": "f6379946-af9f-4fb0-8c73-3f90bf4a0ae3",
   "metadata": {},
   "outputs": [],
   "source": [
    "np.random.seed(1)\n",
    "xt_tmp = np.random.randn(3,10)\n",
    "a_prev_tmp = np.random.randn(5,10)\n",
    "parameters_tmp = {}\n",
    "parameters_tmp['Wax'] = np.random.randn(5,3)\n",
    "parameters_tmp['Waa'] = np.random.randn(5,5)\n",
    "parameters_tmp['Wya'] = np.random.randn(2,5)\n",
    "parameters_tmp['ba'] = np.random.randn(5,1)\n",
    "parameters_tmp['by'] = np.random.randn(2,1)\n",
    "\n",
    "a_next_tmp, yt_tmp, cache_tmp = rnn_cell_forward(xt_tmp, a_prev_tmp, parameters_tmp)\n",
    "\n",
    "da_next_tmp = np.random.randn(5,10)\n",
    "gradients_tmp = rnn_cell_backward(da_next_tmp, cache_tmp)\n",
    "#print(\"gradients[\\\"dxt\\\"][1][2] =\", gradients_tmp[\"dxt\"][1][2])\n",
    "# print(\"gradients[\\\"dxt\\\"].shape =\", gradients_tmp[\"dxt\"].shape)\n",
    "# print(\"gradients[\\\"da_prev\\\"][2][3] =\", gradients_tmp[\"da_prev\"][2][3])\n",
    "# print(\"gradients[\\\"da_prev\\\"].shape =\", gradients_tmp[\"da_prev\"].shape)\n",
    "# print(\"gradients[\\\"dWax\\\"][3][1] =\", gradients_tmp[\"dWax\"][3][1])\n",
    "# print(\"gradients[\\\"dWax\\\"].shape =\", gradients_tmp[\"dWax\"].shape)\n",
    "# print(\"gradients[\\\"dWaa\\\"][1][2] =\", gradients_tmp[\"dWaa\"][1][2])\n",
    "# print(\"gradients[\\\"dWaa\\\"].shape =\", gradients_tmp[\"dWaa\"].shape)\n",
    "# print(\"gradients[\\\"dba\\\"][4] =\", gradients_tmp[\"dba\"][4])\n",
    "# print(\"gradients[\\\"dba\\\"].shape =\", gradients_tmp[\"dba\"].shape)"
   ]
  },
  {
   "cell_type": "code",
   "execution_count": 14,
   "id": "3cc09c66-3d5a-4522-b339-c5b721e86c41",
   "metadata": {},
   "outputs": [],
   "source": [
    "def rnn_backward(da, caches):\n",
    "    (caches, x) = caches\n",
    "    (a1, a0, x1, parameters) = caches[0]\n",
    "    n_a, m, T_x = da.shape\n",
    "    n_x, m = x1.shape\n",
    "\n",
    "    dx = None\n",
    "    dWax = None\n",
    "    dWaa = None\n",
    "    dba = None\n",
    "    da0 = None\n",
    "    da_prevt = None\n",
    "\n",
    "    for t in reversed(range(T_x)):\n",
    "        gradients = None\n",
    "        dxt, da_prevt, dWaxt, dWaat, dbat = gradients[\"dxt\"], gradients[\"da_prev\"], gradients[\"dWax\"], gradients[\"dWaa\"], gradients[\"dba\"]\n",
    "        dx[:, :, t] = None\n",
    "        dWax += None\n",
    "        dba += None\n",
    "    da0 = None\n",
    "    gradients = {\"dx\": dx, \"da0\": da0, \"dWax\": dWax, \"dWaa\": dWaa, \"dba\": dba}\n",
    "    return gradients"
   ]
  },
  {
   "cell_type": "code",
   "execution_count": 15,
   "id": "3599a361-b0da-4ffa-a7cf-7ebb8a8beb73",
   "metadata": {},
   "outputs": [],
   "source": [
    "np.random.seed(1)\n",
    "x_tmp = np.random.randn(3,10,4)\n",
    "a0_tmp = np.random.randn(5,10)\n",
    "parameters_tmp = {}\n",
    "parameters_tmp['Wax'] = np.random.randn(5,3)\n",
    "parameters_tmp['Waa'] = np.random.randn(5,5)\n",
    "parameters_tmp['Wya'] = np.random.randn(2,5)\n",
    "parameters_tmp['ba'] = np.random.randn(5,1)\n",
    "parameters_tmp['by'] = np.random.randn(2,1)\n",
    "\n",
    "a_tmp, y_tmp, caches_tmp = rnn_forward(x_tmp, a0_tmp, parameters_tmp)\n",
    "da_tmp = np.random.randn(5, 10, 4)\n",
    "#gradients_tmp = rnn_backward(da_tmp, caches_tmp)\n",
    "\n",
    "# print(\"gradients[\\\"dx\\\"][1][2] =\", gradients_tmp[\"dx\"][1][2])\n",
    "# print(\"gradients[\\\"dx\\\"].shape =\", gradients_tmp[\"dx\"].shape)\n",
    "# print(\"gradients[\\\"da0\\\"][2][3] =\", gradients_tmp[\"da0\"][2][3])\n",
    "# print(\"gradients[\\\"da0\\\"].shape =\", gradients_tmp[\"da0\"].shape)\n",
    "# print(\"gradients[\\\"dWax\\\"][3][1] =\", gradients_tmp[\"dWax\"][3][1])\n",
    "# print(\"gradients[\\\"dWax\\\"].shape =\", gradients_tmp[\"dWax\"].shape)\n",
    "# print(\"gradients[\\\"dWaa\\\"][1][2] =\", gradients_tmp[\"dWaa\"][1][2])\n",
    "# print(\"gradients[\\\"dWaa\\\"].shape =\", gradients_tmp[\"dWaa\"].shape)\n",
    "# print(\"gradients[\\\"dba\\\"][4] =\", gradients_tmp[\"dba\"][4])\n",
    "# print(\"gradients[\\\"dba\\\"].shape =\", gradients_tmp[\"dba\"].shape)"
   ]
  },
  {
   "cell_type": "markdown",
   "id": "bbdd1aff-ef7d-43d6-873f-1d4835911ebc",
   "metadata": {},
   "source": [
    "![Lstm Back](images/lstm_back.png)"
   ]
  },
  {
   "cell_type": "markdown",
   "id": "176f5493-da2c-4553-9ef4-4b1114ba836c",
   "metadata": {},
   "source": [
    "![Derivative 2](images/gate_derivative.png)\n",
    "![Derivative 2](images/gate_derivative2.png)"
   ]
  },
  {
   "cell_type": "code",
   "execution_count": 16,
   "id": "c8fc4dcc-1a19-4032-9541-c8c3ce131416",
   "metadata": {},
   "outputs": [],
   "source": [
    "def lstm_cell_backward(da_next, dc_next, cache):\n",
    "    (a_next, c_next, a_prev, c_prev, ft, it, cct, ot, xt, parameters) = cache\n",
    "    n_x, m = None\n",
    "    n_a, m = None\n",
    "\n",
    "    dot = None\n",
    "    dcct = None\n",
    "    dit = None\n",
    "    dft = None\n",
    "\n",
    "    dWf = None\n",
    "    dWi = None\n",
    "    dWc = None\n",
    "    dWo = None\n",
    "    dbf = None\n",
    "    dbi = None\n",
    "    dbc = None\n",
    "    dbo = None\n",
    "\n",
    "    da_prev = None\n",
    "    dc_prev = None\n",
    "    dxt = None\n",
    "\n",
    "    gradients = {\"dxt\": dxt, \"da_prev\": da_prev, \"dc_prev\": dc_prev, \"dWf\": dWf, \"dbf\": dbf, \"dWi\": dWi, \"dbi\": dbi, \"dWc\": dWc, \"dbc\": dbc, \"dWo\": dWo, \"dbo\": dbo}\n",
    "    return gradients"
   ]
  },
  {
   "cell_type": "code",
   "execution_count": null,
   "id": "7f826784-fdd8-4fbe-bb4e-a329ea32fae9",
   "metadata": {},
   "outputs": [],
   "source": [
    "np.random.seed(1)\n",
    "xt_tmp = np.random.randn(3,10)\n",
    "a_prev_tmp = np.random.randn(5,10)\n",
    "c_prev_tmp = np.random.randn(5,10)\n",
    "parameters_tmp = {}\n",
    "parameters_tmp['Wf'] = np.random.randn(5, 5+3)\n",
    "parameters_tmp['bf'] = np.random.randn(5,1)\n",
    "parameters_tmp['Wi'] = np.random.randn(5, 5+3)\n",
    "parameters_tmp['bi'] = np.random.randn(5,1)\n",
    "parameters_tmp['Wo'] = np.random.randn(5, 5+3)\n",
    "parameters_tmp['bo'] = np.random.randn(5,1)\n",
    "parameters_tmp['Wc'] = np.random.randn(5, 5+3)\n",
    "parameters_tmp['bc'] = np.random.randn(5,1)\n",
    "parameters_tmp['Wy'] = np.random.randn(2,5)\n",
    "parameters_tmp['by'] = np.random.randn(2,1)\n",
    "\n",
    "a_next_tmp, c_next_tmp, yt_tmp, cache_tmp = lstm_cell_forward(xt_tmp, a_prev_tmp, c_prev_tmp, parameters_tmp)\n",
    "\n",
    "da_next_tmp = np.random.randn(5,10)\n",
    "dc_next_tmp = np.random.randn(5,10)\n",
    "gradients_tmp = lstm_cell_backward(da_next_tmp, dc_next_tmp, cache_tmp)\n",
    "print(\"gradients[\\\"dxt\\\"][1][2] =\", gradients_tmp[\"dxt\"][1][2])\n",
    "print(\"gradients[\\\"dxt\\\"].shape =\", gradients_tmp[\"dxt\"].shape)\n",
    "print(\"gradients[\\\"da_prev\\\"][2][3] =\", gradients_tmp[\"da_prev\"][2][3])\n",
    "print(\"gradients[\\\"da_prev\\\"].shape =\", gradients_tmp[\"da_prev\"].shape)\n",
    "print(\"gradients[\\\"dc_prev\\\"][2][3] =\", gradients_tmp[\"dc_prev\"][2][3])\n",
    "print(\"gradients[\\\"dc_prev\\\"].shape =\", gradients_tmp[\"dc_prev\"].shape)\n",
    "print(\"gradients[\\\"dWf\\\"][3][1] =\", gradients_tmp[\"dWf\"][3][1])\n",
    "print(\"gradients[\\\"dWf\\\"].shape =\", gradients_tmp[\"dWf\"].shape)\n",
    "print(\"gradients[\\\"dWi\\\"][1][2] =\", gradients_tmp[\"dWi\"][1][2])\n",
    "print(\"gradients[\\\"dWi\\\"].shape =\", gradients_tmp[\"dWi\"].shape)\n",
    "print(\"gradients[\\\"dWc\\\"][3][1] =\", gradients_tmp[\"dWc\"][3][1])\n",
    "print(\"gradients[\\\"dWc\\\"].shape =\", gradients_tmp[\"dWc\"].shape)\n",
    "print(\"gradients[\\\"dWo\\\"][1][2] =\", gradients_tmp[\"dWo\"][1][2])\n",
    "print(\"gradients[\\\"dWo\\\"].shape =\", gradients_tmp[\"dWo\"].shape)\n",
    "print(\"gradients[\\\"dbf\\\"][4] =\", gradients_tmp[\"dbf\"][4])\n",
    "print(\"gradients[\\\"dbf\\\"].shape =\", gradients_tmp[\"dbf\"].shape)\n",
    "print(\"gradients[\\\"dbi\\\"][4] =\", gradients_tmp[\"dbi\"][4])\n",
    "print(\"gradients[\\\"dbi\\\"].shape =\", gradients_tmp[\"dbi\"].shape)\n",
    "print(\"gradients[\\\"dbc\\\"][4] =\", gradients_tmp[\"dbc\"][4])\n",
    "print(\"gradients[\\\"dbc\\\"].shape =\", gradients_tmp[\"dbc\"].shape)\n",
    "print(\"gradients[\\\"dbo\\\"][4] =\", gradients_tmp[\"dbo\"][4])\n",
    "print(\"gradients[\\\"dbo\\\"].shape =\", gradients_tmp[\"dbo\"].shape)"
   ]
  },
  {
   "cell_type": "markdown",
   "id": "2d8a0814-b3ac-4b7a-afdf-741be2e7ee5d",
   "metadata": {},
   "source": [
    "### 3.3 Backward Pass through the LSTM RNN\n",
    "This part is very similar to the rnn_backward function you implemented above. You will first create variables of the same dimension as your return variables. You will then iterate over all the time steps starting from the end and call the one step function you implemented for LSTM at each iteration. You will then update the parameters by summing them individually. Finally return a dictionary with the new gradients."
   ]
  },
  {
   "cell_type": "code",
   "execution_count": 18,
   "id": "e96df395-bb55-492b-ba9c-452202aee4fd",
   "metadata": {},
   "outputs": [],
   "source": [
    "# UNGRADED FUNCTION: lstm_backward\n",
    "\n",
    "def lstm_backward(da, caches):\n",
    "    \n",
    "    \"\"\"\n",
    "    Implement the backward pass for the RNN with LSTM-cell (over a whole sequence).\n",
    "\n",
    "    Arguments:\n",
    "    da -- Gradients w.r.t the hidden states, numpy-array of shape (n_a, m, T_x)\n",
    "    caches -- cache storing information from the forward pass (lstm_forward)\n",
    "\n",
    "    Returns:\n",
    "    gradients -- python dictionary containing:\n",
    "                        dx -- Gradient of inputs, of shape (n_x, m, T_x)\n",
    "                        da0 -- Gradient w.r.t. the previous hidden state, numpy array of shape (n_a, m)\n",
    "                        dWf -- Gradient w.r.t. the weight matrix of the forget gate, numpy array of shape (n_a, n_a + n_x)\n",
    "                        dWi -- Gradient w.r.t. the weight matrix of the update gate, numpy array of shape (n_a, n_a + n_x)\n",
    "                        dWc -- Gradient w.r.t. the weight matrix of the memory gate, numpy array of shape (n_a, n_a + n_x)\n",
    "                        dWo -- Gradient w.r.t. the weight matrix of the output gate, numpy array of shape (n_a, n_a + n_x)\n",
    "                        dbf -- Gradient w.r.t. biases of the forget gate, of shape (n_a, 1)\n",
    "                        dbi -- Gradient w.r.t. biases of the update gate, of shape (n_a, 1)\n",
    "                        dbc -- Gradient w.r.t. biases of the memory gate, of shape (n_a, 1)\n",
    "                        dbo -- Gradient w.r.t. biases of the output gate, of shape (n_a, 1)\n",
    "    \"\"\"\n",
    "\n",
    "    # Retrieve values from the first cache (t=1) of caches.\n",
    "    (caches, x) = caches\n",
    "    (a1, c1, a0, c0, f1, i1, cc1, o1, x1, parameters) = caches[0]\n",
    "    \n",
    "    ### START CODE HERE ###\n",
    "    # Retrieve dimensions from da's and x1's shapes (≈2 lines)\n",
    "    n_a, m, T_x = None\n",
    "    n_x, m = None\n",
    "    \n",
    "    # initialize the gradients with the right sizes (≈12 lines)\n",
    "    dx = None\n",
    "    da0 = None\n",
    "    da_prevt = None\n",
    "    dc_prevt = None\n",
    "    dWf = None\n",
    "    dWi = None\n",
    "    dWc = None\n",
    "    dWo = None\n",
    "    dbf = None\n",
    "    dbi = None\n",
    "    dbc = None\n",
    "    dbo = None\n",
    "    \n",
    "    # loop back over the whole sequence\n",
    "    for t in reversed(range(None)):\n",
    "        # Compute all gradients using lstm_cell_backward. Choose wisely the \"da_next\" (same as done for Ex 6).\n",
    "        gradients = None\n",
    "        # Store or add the gradient to the parameters' previous step's gradient\n",
    "        da_prevt = None\n",
    "        dc_prevt = None\n",
    "        dx[:,:,t] = None\n",
    "        dWf += None\n",
    "        dWi += None\n",
    "        dWc += None\n",
    "        dWo += None\n",
    "        dbf += None\n",
    "        dbi += None\n",
    "        dbc += None\n",
    "        dbo += None\n",
    "    # Set the first activation's gradient to the backpropagated gradient da_prev.\n",
    "    da0 = None\n",
    "    \n",
    "    ### END CODE HERE ###\n",
    "\n",
    "    # Store the gradients in a python dictionary\n",
    "    gradients = {\"dx\": dx, \"da0\": da0, \"dWf\": dWf,\"dbf\": dbf, \"dWi\": dWi,\"dbi\": dbi,\n",
    "                \"dWc\": dWc,\"dbc\": dbc, \"dWo\": dWo,\"dbo\": dbo}\n",
    "    \n",
    "    return gradients"
   ]
  },
  {
   "cell_type": "code",
   "execution_count": null,
   "id": "5ed4f47b-3169-4b33-b805-1dac2e8df1ca",
   "metadata": {},
   "outputs": [],
   "source": [
    "np.random.seed(1)\n",
    "x_tmp = np.random.randn(3,10,7)\n",
    "a0_tmp = np.random.randn(5,10)\n",
    "\n",
    "parameters_tmp = {}\n",
    "parameters_tmp['Wf'] = np.random.randn(5, 5+3)\n",
    "parameters_tmp['bf'] = np.random.randn(5,1)\n",
    "parameters_tmp['Wi'] = np.random.randn(5, 5+3)\n",
    "parameters_tmp['bi'] = np.random.randn(5,1)\n",
    "parameters_tmp['Wo'] = np.random.randn(5, 5+3)\n",
    "parameters_tmp['bo'] = np.random.randn(5,1)\n",
    "parameters_tmp['Wc'] = np.random.randn(5, 5+3)\n",
    "parameters_tmp['bc'] = np.random.randn(5,1)\n",
    "parameters_tmp['Wy'] = np.zeros((2,5))       # unused, but needed for lstm_forward\n",
    "parameters_tmp['by'] = np.zeros((2,1))       # unused, but needed for lstm_forward\n",
    "\n",
    "a_tmp, y_tmp, c_tmp, caches_tmp = lstm_forward(x_tmp, a0_tmp, parameters_tmp)\n",
    "\n",
    "da_tmp = np.random.randn(5, 10, 4)\n",
    "gradients_tmp = lstm_backward(da_tmp, caches_tmp)\n",
    "\n",
    "print(\"gradients[\\\"dx\\\"][1][2] =\", gradients_tmp[\"dx\"][1][2])\n",
    "print(\"gradients[\\\"dx\\\"].shape =\", gradients_tmp[\"dx\"].shape)\n",
    "print(\"gradients[\\\"da0\\\"][2][3] =\", gradients_tmp[\"da0\"][2][3])\n",
    "print(\"gradients[\\\"da0\\\"].shape =\", gradients_tmp[\"da0\"].shape)\n",
    "print(\"gradients[\\\"dWf\\\"][3][1] =\", gradients_tmp[\"dWf\"][3][1])\n",
    "print(\"gradients[\\\"dWf\\\"].shape =\", gradients_tmp[\"dWf\"].shape)\n",
    "print(\"gradients[\\\"dWi\\\"][1][2] =\", gradients_tmp[\"dWi\"][1][2])\n",
    "print(\"gradients[\\\"dWi\\\"].shape =\", gradients_tmp[\"dWi\"].shape)\n",
    "print(\"gradients[\\\"dWc\\\"][3][1] =\", gradients_tmp[\"dWc\"][3][1])\n",
    "print(\"gradients[\\\"dWc\\\"].shape =\", gradients_tmp[\"dWc\"].shape)\n",
    "print(\"gradients[\\\"dWo\\\"][1][2] =\", gradients_tmp[\"dWo\"][1][2])\n",
    "print(\"gradients[\\\"dWo\\\"].shape =\", gradients_tmp[\"dWo\"].shape)\n",
    "print(\"gradients[\\\"dbf\\\"][4] =\", gradients_tmp[\"dbf\"][4])\n",
    "print(\"gradients[\\\"dbf\\\"].shape =\", gradients_tmp[\"dbf\"].shape)\n",
    "print(\"gradients[\\\"dbi\\\"][4] =\", gradients_tmp[\"dbi\"][4])\n",
    "print(\"gradients[\\\"dbi\\\"].shape =\", gradients_tmp[\"dbi\"].shape)\n",
    "print(\"gradients[\\\"dbc\\\"][4] =\", gradients_tmp[\"dbc\"][4])\n",
    "print(\"gradients[\\\"dbc\\\"].shape =\", gradients_tmp[\"dbc\"].shape)\n",
    "print(\"gradients[\\\"dbo\\\"][4] =\", gradients_tmp[\"dbo\"][4])\n",
    "print(\"gradients[\\\"dbo\\\"].shape =\", gradients_tmp[\"dbo\"].shape)"
   ]
  },
  {
   "cell_type": "code",
   "execution_count": null,
   "id": "4f4a5382-f19d-4d10-95c3-6f158906de63",
   "metadata": {},
   "outputs": [],
   "source": []
  }
 ],
 "metadata": {
  "kernelspec": {
   "display_name": "Python 3 (ipykernel)",
   "language": "python",
   "name": "python3"
  },
  "language_info": {
   "codemirror_mode": {
    "name": "ipython",
    "version": 3
   },
   "file_extension": ".py",
   "mimetype": "text/x-python",
   "name": "python",
   "nbconvert_exporter": "python",
   "pygments_lexer": "ipython3",
   "version": "3.8.20"
  }
 },
 "nbformat": 4,
 "nbformat_minor": 5
}
