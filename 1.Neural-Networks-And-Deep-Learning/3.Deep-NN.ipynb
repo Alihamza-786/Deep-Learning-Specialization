{
 "cells": [
  {
   "cell_type": "code",
   "execution_count": 1,
   "id": "332e89e0-ba3d-4b01-a419-3bf1cdf9a994",
   "metadata": {},
   "outputs": [],
   "source": [
    "import numpy as np\n",
    "import h5py\n",
    "import matplotlib.pyplot as plt\n",
    "from testCases_v2 import *\n",
    "from dnn_utils import sigmoid, sigmoid_backward, relu, relu_backward\n",
    "\n",
    "%matplotlib inline\n",
    "plt.rcParams['figure.figsize'] = (5.0, 4.0) # set default size of plots\n",
    "plt.rcParams['image.interpolation'] = 'nearest'\n",
    "plt.rcParams['image.cmap'] = 'gray'\n",
    "\n",
    "%load_ext autoreload\n",
    "%autoreload 2\n",
    "\n",
    "np.random.seed(1)"
   ]
  },
  {
   "cell_type": "code",
   "execution_count": 2,
   "id": "0700e4a8-7511-48e7-8d65-e8cc72cd421a",
   "metadata": {},
   "outputs": [],
   "source": [
    "#initialize parameters for 2 layers\n",
    "def initialize_parameters(n_x, n_h, n_y):\n",
    "    np.random.seed(1)\n",
    "    \n",
    "    ### START CODE HERE ### (≈ 4 lines of code)\n",
    "    W1 = np.random.randn(n_h, n_x) * 0.01\n",
    "    b1 = np.zeros(shape=(n_h, 1))\n",
    "    W2 = np.random.randn(n_y, n_h) * 0.01\n",
    "    b2 = np.zeros(shape=(n_y, 1))\n",
    "    ### END CODE HERE ###\n",
    "    \n",
    "    assert(W1.shape == (n_h, n_x))\n",
    "    assert(b1.shape == (n_h, 1))\n",
    "    assert(W2.shape == (n_y, n_h))\n",
    "    assert(b2.shape == (n_y, 1))\n",
    "    \n",
    "    parameters = {\"W1\": W1,\n",
    "                  \"b1\": b1,\n",
    "                  \"W2\": W2,\n",
    "                  \"b2\": b2}\n",
    "    \n",
    "    return parameters    "
   ]
  },
  {
   "cell_type": "code",
   "execution_count": 3,
   "id": "e21d53b0-619e-4fb7-89ca-220ceb637506",
   "metadata": {},
   "outputs": [
    {
     "name": "stdout",
     "output_type": "stream",
     "text": [
      "W1 = [[ 0.01624345 -0.00611756]\n",
      " [-0.00528172 -0.01072969]]\n",
      "b1 = [[0.]\n",
      " [0.]]\n",
      "W2 = [[ 0.00865408 -0.02301539]]\n",
      "b2 = [[0.]]\n"
     ]
    }
   ],
   "source": [
    "parameters = initialize_parameters(2,2,1)\n",
    "print(\"W1 = \" + str(parameters[\"W1\"]))\n",
    "print(\"b1 = \" + str(parameters[\"b1\"]))\n",
    "print(\"W2 = \" + str(parameters[\"W2\"]))\n",
    "print(\"b2 = \" + str(parameters[\"b2\"]))\n"
   ]
  },
  {
   "cell_type": "code",
   "execution_count": 4,
   "id": "a3cddd55-9820-433f-aa8c-7f053e9335b9",
   "metadata": {},
   "outputs": [],
   "source": [
    "#initialize parameters deep\n",
    "def initialize_parameters_deep(layer_dim):\n",
    "    np.random.seed(3)\n",
    "    parameters = {}\n",
    "    L = len(layer_dim)            # number of layers in the network\n",
    "\n",
    "    for l in range(1, L):\n",
    "        ### START CODE HERE ### (≈ 2 lines of code)\n",
    "        parameters['W' + str(l)] = np.random.randn(layer_dim[l], layer_dim[l - 1]) * 0.01\n",
    "        parameters['b' + str(l)] = np.zeros((layer_dim[l], 1))\n",
    "        ### END CODE HERE ###\n",
    "        \n",
    "        assert(parameters['W' + str(l)].shape == (layer_dim[l], layer_dim[l - 1]))\n",
    "        assert(parameters['b' + str(l)].shape == (layer_dim[l], 1))\n",
    "\n",
    "        \n",
    "    return parameters\n",
    "                            "
   ]
  },
  {
   "cell_type": "code",
   "execution_count": 5,
   "id": "d789015d-7ff9-4f0b-9819-ba1880676e32",
   "metadata": {},
   "outputs": [
    {
     "name": "stdout",
     "output_type": "stream",
     "text": [
      "W1 = [[ 0.01788628  0.0043651   0.00096497 -0.01863493 -0.00277388]\n",
      " [-0.00354759 -0.00082741 -0.00627001 -0.00043818 -0.00477218]\n",
      " [-0.01313865  0.00884622  0.00881318  0.01709573  0.00050034]\n",
      " [-0.00404677 -0.0054536  -0.01546477  0.00982367 -0.01101068]]\n",
      "b1 = [[0.]\n",
      " [0.]\n",
      " [0.]\n",
      " [0.]]\n",
      "W2 = [[-0.01185047 -0.0020565   0.01486148  0.00236716]\n",
      " [-0.01023785 -0.00712993  0.00625245 -0.00160513]\n",
      " [-0.00768836 -0.00230031  0.00745056  0.01976111]]\n",
      "b2 = [[0.]\n",
      " [0.]\n",
      " [0.]]\n"
     ]
    }
   ],
   "source": [
    "parameters = initialize_parameters_deep([5, 4, 3])\n",
    "print(\"W1 = \" +str(parameters[\"W1\"]))\n",
    "print(\"b1 = \" +str(parameters[\"b1\"]))\n",
    "print(\"W2 = \" +str(parameters[\"W2\"]))\n",
    "print(\"b2 = \" +str(parameters[\"b2\"]))"
   ]
  },
  {
   "cell_type": "code",
   "execution_count": 6,
   "id": "6cd32630-c1c8-4cf6-abaa-35f700c5e0e3",
   "metadata": {},
   "outputs": [],
   "source": [
    "# Z^[l] = W^[l] A^[l-1] + b^[l]  --> (1)\n"
   ]
  },
  {
   "cell_type": "code",
   "execution_count": 7,
   "id": "4718c26c-dc3e-4526-b815-330432f35880",
   "metadata": {},
   "outputs": [],
   "source": [
    "#linear forward\n",
    "def linear_forward(A, W, b):\n",
    "    Z = np.dot(W, A) + b\n",
    "    ### END CODE HERE ###\n",
    "    \n",
    "    assert(Z.shape == (W.shape[0], A.shape[1]))\n",
    "    cache = (A, W, b)\n",
    "    \n",
    "    return Z, cache"
   ]
  },
  {
   "cell_type": "code",
   "execution_count": 8,
   "id": "8e3b476f-bb0a-4a34-a798-52e2a85e26ad",
   "metadata": {},
   "outputs": [
    {
     "name": "stdout",
     "output_type": "stream",
     "text": [
      "Z = [[3.1980455  7.85763489]]\n"
     ]
    }
   ],
   "source": [
    "A, W, b = linear_forward_test_case()\n",
    "\n",
    "Z, linear_cache = linear_forward(A, W, b)\n",
    "print(\"Z = \" + str(Z))"
   ]
  },
  {
   "cell_type": "code",
   "execution_count": 9,
   "id": "0755700b-3712-41bd-b948-daf41c56e3ab",
   "metadata": {},
   "outputs": [],
   "source": [
    "# Sigmoid: σ(Z) = σ(WA +b) = 1/1+e^-(WA + b)\n",
    " \n",
    "# This function returns two items: the activation value \"a\" and a \"cache\" that contains \"Z\" (it's what we will feed in to the \n",
    "#corresponding backward function). To use it you could just call:\n",
    "# A, activation_cache = sigmoid(Z)\n",
    "\n",
    "# ReLU: The mathematical formula for ReLu is A = RELUE(Z) = max(0,Z)\n",
    "# This function returns two items: the activation value \"A\" and a \"cache\" that contains \"Z\" (it's what we will feed in to the\n",
    "#corresponding backward function). To use it you could just call:\n",
    "# A, activation_cache = relu(Z)\n",
    "\n",
    "# For more convenience, you are going to group two functions (Linear and Activation) into one function (LINEAR->ACTIVATION). \n",
    "#Hence, you will implement a function that does the LINEAR forward step followed by an ACTIVATION forward step."
   ]
  },
  {
   "cell_type": "code",
   "execution_count": 10,
   "id": "e061d637-7125-4662-9490-5052dcd91f04",
   "metadata": {},
   "outputs": [],
   "source": [
    "def linear_activation_forward(A_prev, W, b, activation):\n",
    "    if activation == \"sigmoid\":\n",
    "        Z, linear_cache = linear_forward(A_prev, W, b)\n",
    "        A, activation_cache = sigmoid(Z)\n",
    "\n",
    "    \n",
    "    elif activation == \"relu\":\n",
    "        Z, linear_cache = linear_forward(A_prev, W, b)\n",
    "        A, activation_cache = relu(Z)\n",
    "    \n",
    "    assert (A.shape == (W.shape[0], A_prev.shape[1]))\n",
    "    cache = (linear_cache, activation_cache)\n",
    "\n",
    "    return A, cache"
   ]
  },
  {
   "cell_type": "code",
   "execution_count": 11,
   "id": "60faa09d-c26e-47e0-af08-68db8219bc1e",
   "metadata": {},
   "outputs": [
    {
     "name": "stdout",
     "output_type": "stream",
     "text": [
      "With sigmoid: A = [[0.96076066 0.99961336]]\n",
      "With relu: A = [[3.1980455  7.85763489]]\n"
     ]
    }
   ],
   "source": [
    "A_prev, W, b = linear_activation_forward_test_case()\n",
    "A, linear_activation_cache = linear_activation_forward(A_prev, W, b, activation = \"sigmoid\")\n",
    "print(\"With sigmoid: A = \" +str(A))\n",
    "\n",
    "A, linear_activation_cache = linear_activation_forward(A_prev, W, b, activation = \"relu\")\n",
    "print(\"With relu: A = \" +str(A))"
   ]
  },
  {
   "cell_type": "code",
   "execution_count": 12,
   "id": "11d71e11-76e4-4975-8cc9-e4d6a7ed2558",
   "metadata": {},
   "outputs": [],
   "source": [
    "def L_model_forward(X, parameters):\n",
    "    caches = []\n",
    "    A = X\n",
    "    L = len(parameters) // 2                  # number of layers in the neural network\n",
    "    \n",
    "    # Implement [LINEAR -> RELU]*(L-1). Add \"cache\" to the \"caches\" list.\n",
    "    for l in range(1, L):\n",
    "        A_prev = A \n",
    "        ### START CODE HERE ### (≈ 2 lines of code)\n",
    "        A, cache = linear_activation_forward(A_prev, \n",
    "                                             parameters['W' + str(l)], \n",
    "                                             parameters['b' + str(l)], \n",
    "                                             activation='relu')\n",
    "        caches.append(cache)\n",
    "        \n",
    "        ### END CODE HERE ###\n",
    "    \n",
    "    # Implement LINEAR -> SIGMOID. Add \"cache\" to the \"caches\" list.\n",
    "    ### START CODE HERE ### (≈ 2 lines of code)\n",
    "    AL, cache = linear_activation_forward(A, \n",
    "                                          parameters['W' + str(L)], \n",
    "                                          parameters['b' + str(L)], \n",
    "                                          activation='sigmoid')\n",
    "    caches.append(cache)\n",
    "    \n",
    "    ### END CODE HERE ###\n",
    "    \n",
    "    assert(AL.shape == (1, X.shape[1]))\n",
    "            \n",
    "    return AL, caches"
   ]
  },
  {
   "cell_type": "code",
   "execution_count": 13,
   "id": "788384ff-38af-45ad-8874-b8227f534db0",
   "metadata": {},
   "outputs": [
    {
     "name": "stdout",
     "output_type": "stream",
     "text": [
      "AL = [[0.0844367  0.92356858]]\n",
      "Length of cache list = 2\n"
     ]
    }
   ],
   "source": [
    "X, parameters = L_model_forward_test_case()\n",
    "AL, caches = L_model_forward(X, parameters)\n",
    "print(\"AL = \" +str(AL))\n",
    "print(\"Length of cache list = \" +str(len(caches)))"
   ]
  },
  {
   "cell_type": "code",
   "execution_count": 14,
   "id": "6db4c2af-7f76-4002-b2d9-fe9fddcfd2c6",
   "metadata": {},
   "outputs": [],
   "source": [
    "# Cost Function\n",
    "#-1/m Σ(y^(i) log(a^[L](i)) + (1-y^(i)) log(1-a^[L](i))) --> (2)"
   ]
  },
  {
   "cell_type": "code",
   "execution_count": 15,
   "id": "f3afcfd0-d910-48af-91cd-a4756801d85a",
   "metadata": {},
   "outputs": [],
   "source": [
    "def compute_cost(AL, Y):\n",
    "    m = Y.shape[1]\n",
    "    cost = (-1/m) * np.sum(np.multiply(Y, np.log(AL)) + np.multiply(1-Y, np.log(1-AL)))\n",
    "    cost = np.squeeze(cost)\n",
    "    assert(cost.shape == ())\n",
    "    return cost\n",
    "    "
   ]
  },
  {
   "cell_type": "code",
   "execution_count": 16,
   "id": "45c8ddb9-c816-4acc-b369-96d5a5325003",
   "metadata": {},
   "outputs": [
    {
     "name": "stdout",
     "output_type": "stream",
     "text": [
      "cost =0.41493159961539694\n"
     ]
    }
   ],
   "source": [
    "Y, AL = compute_cost_test_case()\n",
    "print(\"cost =\" +str(compute_cost(AL, Y)))"
   ]
  },
  {
   "cell_type": "code",
   "execution_count": 17,
   "id": "8671ad9e-f5fb-4c83-b3c5-66520e8b75cc",
   "metadata": {},
   "outputs": [],
   "source": [
    "# dZ^[l] = ∂L/∂Z^[l]\n",
    "\n",
    "# dW^[l] = ∂L/∂W^[l] = 1/m dZ^[l] A^[l-1].T -->eq (3)\n",
    "# db^[l] = ∂L/∂b^[l] = 1/m Σ dZ^[l](i)      -->eq (4)\n",
    "# dA^[l-1] = ∂L/∂A^[l-1] = W^[l].T dZ^[l]   -->eq (5)"
   ]
  },
  {
   "cell_type": "code",
   "execution_count": 18,
   "id": "64a66616-6485-4258-8df4-93b2e14e55d0",
   "metadata": {},
   "outputs": [],
   "source": [
    "def linear_backward(dZ, cache):\n",
    "    A_prev, W, b = cache\n",
    "    m = A_prev.shape[1]\n",
    "\n",
    "    ### START CODE HERE ### (≈ 3 lines of code)\n",
    "    dW = np.dot(dZ, cache[0].T) / m\n",
    "    db = np.squeeze(np.sum(dZ, axis=1, keepdims=True)) / m\n",
    "    dA_prev = np.dot(cache[1].T, dZ)\n",
    "    ### END CODE HERE ###\n",
    "    \n",
    "    assert (dA_prev.shape == A_prev.shape)\n",
    "    assert (dW.shape == W.shape)\n",
    "    assert (isinstance(db, float))\n",
    "    \n",
    "    return dA_prev, dW, db"
   ]
  },
  {
   "cell_type": "code",
   "execution_count": 19,
   "id": "9d912d88-8223-46c2-ab3f-c3889093f50e",
   "metadata": {},
   "outputs": [
    {
     "name": "stdout",
     "output_type": "stream",
     "text": [
      "dA_prev = [[ 2.38272385  5.85438014]\n",
      " [ 6.31969219 15.52755701]\n",
      " [-3.97876302 -9.77586689]]\n",
      "dW = [[ 2.77870358 -0.05500058 -5.13144969]]\n",
      "db = 5.527840195\n"
     ]
    }
   ],
   "source": [
    "# Set up some test inputs\n",
    "dZ, linear_cache = linear_backward_test_case()\n",
    "\n",
    "dA_prev, dW, db = linear_backward(dZ, linear_cache)\n",
    "print (\"dA_prev = \"+ str(dA_prev))\n",
    "print (\"dW = \" + str(dW))\n",
    "print (\"db = \" + str(db))"
   ]
  },
  {
   "cell_type": "code",
   "execution_count": 20,
   "id": "afdfb7c4-ffcb-4d7f-9aa4-645366f51f8d",
   "metadata": {},
   "outputs": [],
   "source": [
    "# To help you implement linear_activation_backward, we provided two backward functions:\n",
    "\n",
    "# sigmoid_backward: Implements the backward propagation for SIGMOID unit. You can call it as follows:\n",
    "# dZ = sigmoid_backward(dA, activation_cache)\n",
    "\n",
    "# relu_backward: Implements the backward propagation for RELU unit. You can call it as follows:\n",
    "# dZ = relu_backward(dA, activation_cache)\n",
    "# If g(.) is the activation function, sigmoid_backward and relu_backward compute\n",
    "\n",
    "# dZ^[l] = dA^[l] * g'(Z^[l]) -->(6)"
   ]
  },
  {
   "cell_type": "code",
   "execution_count": 21,
   "id": "b20d6730-1e31-4812-ba1e-baaf5b2aad75",
   "metadata": {},
   "outputs": [],
   "source": [
    "def linear_activation_backward(dA, cache, activation):\n",
    "    linear_cache, activation_cache = cache\n",
    "\n",
    "    if activation == \"relu\":\n",
    "        dZ = relu_backward(dA, activation_cache)\n",
    "    elif activation == \"sigmoid\":\n",
    "        dZ = sigmoid_backward(dA, activation_cache)\n",
    "\n",
    "    dA_prev, dW, db = linear_backward(dZ, linear_cache)\n",
    "\n",
    "    return dA_prev, dW, db"
   ]
  },
  {
   "cell_type": "code",
   "execution_count": 22,
   "id": "14cf0746-e56b-443a-a569-54b090213d1b",
   "metadata": {},
   "outputs": [
    {
     "name": "stdout",
     "output_type": "stream",
     "text": [
      "sigmoid:\n",
      "dA_prev = [[ 0.08982777  0.00226265]\n",
      " [ 0.23824996  0.00600122]\n",
      " [-0.14999783 -0.00377826]]\n",
      "dW = [[-0.06001514 -0.09687383 -0.10598695]]\n",
      "db = 0.06180098427299098\n",
      "\n",
      "relu:\n",
      "dA_prev = [[ 2.38272385  5.85438014]\n",
      " [ 6.31969219 15.52755701]\n",
      " [-3.97876302 -9.77586689]]\n",
      "dW = [[ 2.77870358 -0.05500058 -5.13144969]]\n",
      "db = 5.527840195\n",
      "\n"
     ]
    }
   ],
   "source": [
    "AL, linear_activation_cache = linear_activation_backward_test_case()\n",
    "dA_prev, dW, db = linear_activation_backward(AL, linear_activation_cache, activation = \"sigmoid\")\n",
    "print(\"sigmoid:\")\n",
    "print(\"dA_prev = \" +str(dA_prev))\n",
    "print(\"dW = \" +str(dW))\n",
    "print(\"db = \" +str(db) + \"\\n\")\n",
    "\n",
    "dA_prev, dW, db = linear_activation_backward(AL, linear_activation_cache, activation = \"relu\")\n",
    "print(\"relu:\")\n",
    "print(\"dA_prev = \" +str(dA_prev))\n",
    "print(\"dW = \" +str(dW))\n",
    "print(\"db = \" +str(db) + \"\\n\")"
   ]
  },
  {
   "cell_type": "code",
   "execution_count": 23,
   "id": "effc1fd5-fd1f-490a-ad59-bcc0b66b609c",
   "metadata": {},
   "outputs": [],
   "source": [
    "# Your code thus needs to compute dAL = ∂L/∂A^[L]\n",
    " \n",
    "# To do so, use this formula (derived using calculus which you don't need in-depth knowledge of):\n",
    "\n",
    "# dAL = - (np.divide(Y, AL) - np.divide(1 - Y, 1 - AL)) # derivative of cost with respect to AL\n"
   ]
  },
  {
   "cell_type": "code",
   "execution_count": 24,
   "id": "3e23c2a5-3151-4ddf-9312-d1d657f78004",
   "metadata": {},
   "outputs": [],
   "source": [
    "def L_model_backward(AL, Y, caches):  # AL -- probability vector, output of the forward propagation (L_model_forward())\n",
    "                                      # Y -- true \"label\" vector (containing 0 if non-cat, 1 if cat)\n",
    "    grads = {}\n",
    "    L = len(caches) # the number of layers\n",
    "    m = AL.shape[1]\n",
    "    Y = Y.reshape(AL.shape) # after this line, Y is the same shape as AL\n",
    "    \n",
    "    # Initializing the backpropagation\n",
    "    ### START CODE HERE ### (1 line of code)\n",
    "    dAL = dAL = - (np.divide(Y, AL) - np.divide(1 - Y, 1 - AL))\n",
    "    ### END CODE HERE ###\n",
    "    \n",
    "    # Lth layer (SIGMOID -> LINEAR) gradients. Inputs: \"AL, Y, caches\". Outputs: \"grads[\"dAL\"], grads[\"dWL\"], grads[\"dbL\"]\n",
    "    ### START CODE HERE ### (approx. 2 lines)\n",
    "    current_cache = caches[-1]\n",
    "    grads[\"dA\" + str(L)], grads[\"dW\" + str(L)], grads[\"db\" + str(L)] = linear_backward(sigmoid_backward(dAL, \n",
    "                                                                                                        current_cache[1]), \n",
    "                                                                                       current_cache[0])\n",
    "    ### END CODE HERE ###\n",
    "    \n",
    "    for l in reversed(range(L-1)):\n",
    "        # lth layer: (RELU -> LINEAR) gradients.\n",
    "        # Inputs: \"grads[\"dA\" + str(l + 2)], caches\". Outputs: \"grads[\"dA\" + str(l + 1)] , grads[\"dW\" + str(l + 1)] , grads[\"db\" + str(l + 1)] \n",
    "        ### START CODE HERE ### (approx. 5 lines)\n",
    "        current_cache = caches[l]\n",
    "        dA_prev_temp, dW_temp, db_temp = linear_backward(sigmoid_backward(dAL, current_cache[1]), current_cache[0])\n",
    "        grads[\"dA\" + str(l + 1)] = dA_prev_temp\n",
    "        grads[\"dW\" + str(l + 1)] = dW_temp\n",
    "        grads[\"db\" + str(l + 1)] = db_temp\n",
    "        ### END CODE HERE ###\n",
    "\n",
    "    return grads"
   ]
  },
  {
   "cell_type": "code",
   "execution_count": 25,
   "id": "3b5582b5-15bf-4139-be8f-c8e09e6414de",
   "metadata": {},
   "outputs": [
    {
     "name": "stdout",
     "output_type": "stream",
     "text": [
      "dW1 = [[-0.09686122 -0.04840482 -0.11864308]]\n",
      "db1 = -0.26259499837854655\n",
      "dA1 = [[-0.71011462 -0.22925516]\n",
      " [-0.17330152 -0.05594909]\n",
      " [-0.03831107 -0.01236844]]\n"
     ]
    }
   ],
   "source": [
    "X_assess, Y_assess, AL, caches = L_model_backward_test_case()\n",
    "grads = L_model_backward(AL, Y_assess, caches)\n",
    "print (\"dW1 = \"+ str(grads[\"dW1\"]))\n",
    "print (\"db1 = \"+ str(grads[\"db1\"]))\n",
    "print (\"dA1 = \"+ str(grads[\"dA1\"]))"
   ]
  },
  {
   "cell_type": "code",
   "execution_count": 26,
   "id": "c5e8fb68-2f07-410a-9799-f65df43a4b18",
   "metadata": {},
   "outputs": [],
   "source": [
    "# W^[l] = W^[l] - α dW^[l]  --> eq (8)\n",
    "# b^[l] = b^[l] - α db^[l]  --> eq (9)"
   ]
  },
  {
   "cell_type": "code",
   "execution_count": 27,
   "id": "6714c50d-ca0d-49f9-a164-b7b27893e05c",
   "metadata": {},
   "outputs": [],
   "source": [
    "def update_parameters(parameters, grads, learning_rate):\n",
    "    L = len(parameters)//2\n",
    "    for l in range(L):\n",
    "        parameters[\"W\" +str(l+1)] = parameters[\"W\" +str(l+1)] - learning_rate * grads[\"dW\" +str(l+1)]\n",
    "        parameters[\"b\" +str(l+1)] = parameters[\"b\" +str(l+1)] - learning_rate * grads[\"db\" +str(l+1)]\n",
    "    return parameters"
   ]
  },
  {
   "cell_type": "code",
   "execution_count": 28,
   "id": "e62835ef-9a72-4c63-a282-7e8728366971",
   "metadata": {},
   "outputs": [
    {
     "name": "stdout",
     "output_type": "stream",
     "text": [
      "W1 = [[ 1.72555789  0.3700272   0.07818896]\n",
      " [-1.8634927  -0.2773882  -0.35475898]\n",
      " [-0.08274148 -0.62700068 -0.04381817]\n",
      " [-0.47721803 -1.31386475  0.88462238]]\n",
      "b1 = [[-0.07593768]\n",
      " [-0.07593768]\n",
      " [-0.07593768]\n",
      " [-0.07593768]]\n",
      "W2 = [[ 0.71838378  1.70957306  0.05003364 -0.40467741]\n",
      " [-0.54535995 -1.54647732  0.98236743 -1.10106763]\n",
      " [-1.18504653 -0.2056499   1.48614836  0.23671627]]\n",
      "b2 = [[-0.08616376]\n",
      " [-0.08616376]\n",
      " [-0.08616376]]\n",
      "W3 = [[-0.88352436 -0.7129932   0.62524497]\n",
      " [-0.02025258 -0.76883635 -0.23003072]]\n",
      "b3 = [[0.08416196]\n",
      " [0.08416196]]\n"
     ]
    }
   ],
   "source": [
    "parameters, grads = update_parameters_test_case()\n",
    "parameters = update_parameters(parameters, grads, 0.1)\n",
    "print (\"W1 = \" + str(parameters[\"W1\"]))\n",
    "print (\"b1 = \" + str(parameters[\"b1\"]))\n",
    "print (\"W2 = \" + str(parameters[\"W2\"]))\n",
    "print (\"b2 = \" + str(parameters[\"b2\"]))\n",
    "print (\"W3 = \" + str(parameters[\"W3\"]))\n",
    "print (\"b3 = \" + str(parameters[\"b3\"]))"
   ]
  }
 ],
 "metadata": {
  "kernelspec": {
   "display_name": "Python 3 (ipykernel)",
   "language": "python",
   "name": "python3"
  },
  "language_info": {
   "codemirror_mode": {
    "name": "ipython",
    "version": 3
   },
   "file_extension": ".py",
   "mimetype": "text/x-python",
   "name": "python",
   "nbconvert_exporter": "python",
   "pygments_lexer": "ipython3",
   "version": "3.12.4"
  }
 },
 "nbformat": 4,
 "nbformat_minor": 5
}
