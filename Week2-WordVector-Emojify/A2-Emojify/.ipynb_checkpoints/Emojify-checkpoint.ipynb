{
 "cells": [
  {
   "cell_type": "markdown",
   "id": "4406f9e7-cf63-443a-b73d-2299a01c6731",
   "metadata": {},
   "source": [
    "# Emojify!\n",
    "Welcome to the second assignment of Week 2! You're going to use word vector representations to build an Emojifier. 🤩 💫 🔥\n",
    "\n",
    "Have you ever wanted to make your text messages more expressive? Your emojifier app will help you do that. Rather than writing:\n",
    "\n",
    "\"Congratulations on the promotion! Let's get coffee and talk. Love you!\"\n",
    "\n",
    "The emojifier can automatically turn this into:\n",
    "\n",
    "\"Congratulations on the promotion! 👍 Let's get coffee and talk. ☕️ Love you! ❤️\"\n",
    "\n",
    "You'll implement a model which inputs a sentence (such as \"Let's go see the baseball game tonight!\") and finds the most appropriate emoji to be used with this sentence (⚾️)."
   ]
  },
  {
   "cell_type": "markdown",
   "id": "4dfba7c0-c61b-4049-a7cd-7264f6b94437",
   "metadata": {},
   "source": [
    "## Using Word Vectors to Improve Emoji Lookups\n",
    "- In many emoji interfaces, you need to remember that ❤️ is the \"heart\" symbol rather than the \"love\" symbol.\n",
    "    - In other words, you'll have to remember to type \"heart\" to find the desired emoji, and typing \"love\" won't bring up that symbol.\n",
    "- You can make a more flexible emoji interface by using word vectors!\n",
    "- When using word vectors, you'll see that even if your training set explicitly relates only a few words to a particular emoji, your algorithm will be able to generalize and associate additional words in the test set to the same emoji.\n",
    "    - This works even if those additional words don't even appear in the training set.\n",
    "    - This allows you to build an accurate classifier mapping from sentences to emojis, even using a small training set."
   ]
  },
  {
   "cell_type": "markdown",
   "id": "65d6802f-d54a-4d36-8252-28a6482b2dca",
   "metadata": {},
   "source": [
    "## What you'll build:\n",
    "1. In this exercise, you'll start with a baseline model (Emojifier-V1) using word embeddings.\n",
    "2. Then you will build a more sophisticated model (Emojifier-V2) that further incorporates an LSTM.\n",
    "\n",
    "By the end of this notebook, you'll be able to:\n",
    "\n",
    "- Create an embedding layer in Keras with pre-trained word vectors\n",
    "- Explain the advantages and disadvantages of the GloVe algorithm\n",
    "- Describe how negative sampling learns word vectors more efficiently than other methods\n",
    "- Build a sentiment classifier using word embeddings\n",
    "- Build and train a more sophisticated classifier using an LSTM"
   ]
  },
  {
   "cell_type": "code",
   "execution_count": 1,
   "id": "5f14d1bd-6961-48ee-98dc-39edec421c27",
   "metadata": {},
   "outputs": [],
   "source": [
    "import numpy as np\n",
    "from emo_utils import *\n",
    "import emoji\n",
    "import matplotlib.pyplot as plt\n",
    "from test_utils import *\n",
    "\n",
    "%matplotlib inline"
   ]
  },
  {
   "cell_type": "markdown",
   "id": "b72ede3f-58a5-4586-a343-65bd216155a9",
   "metadata": {},
   "source": [
    "# 1 - Baseline Model: Emojifier-V1\n",
    "\n",
    "## 1.1 - Dataset EMOJISET\n",
    "Let's start by building a simple baseline classifier.\n",
    "\n",
    "You have a tiny dataset (X, Y) where:\n",
    "\n",
    "- X contains 127 sentences (strings).\n",
    "- Y contains an integer label between 0 and 4 corresponding to an emoji for each sentence.\n",
    "![Emoji](images/emoji.png)"
   ]
  },
  {
   "cell_type": "code",
   "execution_count": 2,
   "id": "3be06a61-e099-4e57-b3a4-00891979189d",
   "metadata": {},
   "outputs": [],
   "source": [
    "X_train, Y_train = read_csv('data/train_emoji.csv')\n",
    "X_test, Y_test = read_csv('data/tesss.csv')"
   ]
  },
  {
   "cell_type": "code",
   "execution_count": 3,
   "id": "3e26c356-dc5a-479f-83e4-710153cd2b2c",
   "metadata": {},
   "outputs": [],
   "source": [
    "maxLen = len(max(X_train, key=len).split())"
   ]
  },
  {
   "cell_type": "code",
   "execution_count": 4,
   "id": "eeb204cc-66c4-4575-882d-0fe5dbb1659f",
   "metadata": {},
   "outputs": [
    {
     "name": "stdout",
     "output_type": "stream",
     "text": [
      "never talk to me again 😞\n",
      "I am proud of your achievements 😄\n",
      "It is the worst day in my life 😞\n",
      "Miss you so much ❤️\n",
      "food is life 🍴\n",
      "I love you mum ❤️\n",
      "Stop saying bullshit 😞\n",
      "congratulations on your acceptance 😄\n",
      "The assignment is too long  😞\n",
      "I want to go play ⚾\n"
     ]
    }
   ],
   "source": [
    "for idx in range(10):\n",
    "    print(X_train[idx], label_to_emoji(Y_train[idx]))"
   ]
  },
  {
   "cell_type": "markdown",
   "id": "883526bd-f05e-437f-8a13-f9e04312ae2e",
   "metadata": {},
   "source": [
    "## 1.2 - Overview of the Emojifier-V1\n",
    "In this section, you'll implement a baseline model called \"Emojifier-v1\"."
   ]
  },
  {
   "cell_type": "markdown",
   "id": "b7c3cf58-cc3f-4df2-b34c-c61eefd57541",
   "metadata": {},
   "source": [
    "## Inputs and Outputs\n",
    "- The input of the model is a string corresponding to a sentence (e.g. \"I love you\").\n",
    "- The output will be a probability vector of shape (1,5), (indicating that there are 5 emojis to choose from).\n",
    "- The (1,5) probability vector is passed to an argmax layer, which extracts the index of the emoji with the highest probability."
   ]
  },
  {
   "cell_type": "markdown",
   "id": "77ec4360-21e6-4f5a-99b7-ade8fbc213bd",
   "metadata": {},
   "source": [
    "## One-hot Encoding\n",
    "- To get your labels into a format suitable for training a softmax classifier, convert __Y__ from its current shape __(m,1)__ into a \"one-hot representation\" __(m,5)__,\n",
    "    - Each row is a one-hot vector giving the label of one example.\n",
    "    - Here, Y_oh stands for \"Y-one-hot\" in the variable names Y_oh_train and Y_oh_test:"
   ]
  },
  {
   "cell_type": "code",
   "execution_count": 5,
   "id": "d2446f61-d880-4dc2-845a-0dd879556eb3",
   "metadata": {},
   "outputs": [
    {
     "name": "stdout",
     "output_type": "stream",
     "text": [
      "[3 2 3 0 4 0 3 2 3 1 3 3 1 3 2 3 2 3 1 2 3 0 2 2 2 1 4 2 2 4 0 3 4 2 0 3 2\n",
      " 2 3 4 2 2 0 2 3 0 3 2 4 3 0 3 3 3 4 2 1 1 1 2 3 1 0 0 0 3 4 4 2 2 1 2 0 3\n",
      " 2 2 0 0 3 1 2 1 2 2 4 3 3 2 4 0 0 0 3 3 3 2 0 1 2 3 0 2 2 2 3 2 2 2 4 1 1\n",
      " 3 3 4 1 2 1 1 3 1 0 4 0 3 3 4 4 1 4 3 0 2]\n"
     ]
    }
   ],
   "source": [
    "print(Y_train)"
   ]
  },
  {
   "cell_type": "code",
   "execution_count": 6,
   "id": "b2cba5fc-2860-4379-8b0f-620c4cef4dfc",
   "metadata": {},
   "outputs": [],
   "source": [
    "Y_oh_train = convert_to_one_hot(Y_train, C = 5)\n",
    "Y_oh_test = convert_to_one_hot(Y_test, C = 5)"
   ]
  },
  {
   "cell_type": "code",
   "execution_count": 7,
   "id": "a233b513-1ec0-47c1-bd02-c3a8156b0182",
   "metadata": {},
   "outputs": [
    {
     "name": "stdout",
     "output_type": "stream",
     "text": [
      "[[0. 0. 0. 1. 0.]\n",
      " [0. 0. 1. 0. 0.]\n",
      " [0. 0. 0. 1. 0.]\n",
      " [1. 0. 0. 0. 0.]\n",
      " [0. 0. 0. 0. 1.]\n",
      " [1. 0. 0. 0. 0.]\n",
      " [0. 0. 0. 1. 0.]\n",
      " [0. 0. 1. 0. 0.]\n",
      " [0. 0. 0. 1. 0.]\n",
      " [0. 1. 0. 0. 0.]]\n"
     ]
    }
   ],
   "source": [
    "print(Y_oh_train[:10])"
   ]
  },
  {
   "cell_type": "code",
   "execution_count": 8,
   "id": "5ad35264-a5e0-4940-9b03-cb75bc3368e8",
   "metadata": {},
   "outputs": [
    {
     "name": "stdout",
     "output_type": "stream",
     "text": [
      "Sentence 'I missed you' has label index 0, which is emoji ❤️\n",
      "Label index 0 in one-hot encoding format is [1. 0. 0. 0. 0.]\n"
     ]
    }
   ],
   "source": [
    "idx = 50\n",
    "print(f\"Sentence '{X_train[idx]}' has label index {Y_train[idx]}, which is emoji {label_to_emoji(Y_train[idx])}\", )\n",
    "print(f\"Label index {Y_train[idx]} in one-hot encoding format is {Y_oh_train[idx]}\")"
   ]
  },
  {
   "cell_type": "markdown",
   "id": "2b3c93ed-efcf-434d-9697-db1df403aac0",
   "metadata": {},
   "source": [
    "## 1.3 - Implementing Emojifier-V1\n",
    "As shown in Figure 2 (above), the first step is to:\n",
    "\n",
    "- Convert each word in the input sentence into their word vector representations.\n",
    "- Take an average of the word vectors.\n",
    "Similar to this week's previous assignment, you'll use pre-trained 50-dimensional GloVe embeddings.\n",
    "\n",
    "Run the following cell to load the word_to_vec_map, which contains all the vector representations."
   ]
  },
  {
   "cell_type": "code",
   "execution_count": 9,
   "id": "a97adf2c-61e8-439d-ae66-964f4f7af9dd",
   "metadata": {},
   "outputs": [],
   "source": [
    "word_to_index, index_to_word, word_to_vec_map = read_glove_vecs('data/glove.6B.50d.txt')"
   ]
  },
  {
   "cell_type": "markdown",
   "id": "c452e4f7-0b2f-4d24-9f5b-f635cf7a59d6",
   "metadata": {},
   "source": [
    "You've loaded:\n",
    "\n",
    "- word_to_index: dictionary mapping from words to their indices in the vocabulary\n",
    "    - (400,001 words, with the valid indices ranging from 0 to 400,000)\n",
    "- index_to_word: dictionary mapping from indices to their corresponding words in the vocabulary\n",
    "- word_to_vec_map: dictionary mapping words to their GloVe vector representation.\n",
    "\n",
    "Run the following cell to check if it works:"
   ]
  },
  {
   "cell_type": "code",
   "execution_count": 10,
   "id": "ee7be092-93fe-4e92-a16c-cf965f6c8d03",
   "metadata": {},
   "outputs": [
    {
     "name": "stdout",
     "output_type": "stream",
     "text": [
      "the index of cucumber in the vocabulary is 113317\n",
      "the 289846th word in the vocabulary is potatos\n"
     ]
    }
   ],
   "source": [
    "word = \"cucumber\"\n",
    "idx = 289846\n",
    "print(\"the index of\", word, \"in the vocabulary is\", word_to_index[word])\n",
    "print(\"the\", str(idx) + \"th word in the vocabulary is\", index_to_word[idx])"
   ]
  },
  {
   "cell_type": "markdown",
   "id": "ca0de72d-18a7-4c84-ad67-ddc50063acf3",
   "metadata": {},
   "source": [
    "## Exercise 1 - sentence_to_avg\n",
    "Implement sentence_to_avg()\n",
    "\n",
    "You'll need to carry out two steps:\n",
    "\n",
    "1. Convert every sentence to lower-case, then split the sentence into a list of words.\n",
    "- X.lower() and X.split() might be useful. 😉\n",
    "2. For each word in the sentence, access its GloVe representation.\n",
    "- Then take the average of all of these word vectors.\n",
    "- You might use numpy.zeros(), which you can read more about here.\n",
    "## Additional Hints\n",
    "- When creating the avg array of zeros, you'll want it to be a vector of the same shape as the other word vectors in the word_to_vec_map.\n",
    "    - You can choose a word that exists in the word_to_vec_map and access its .shape field.\n",
    "    - Be careful not to hard-code the word that you access. In other words, don't assume that if you see the word 'the' in the word_to_vec_map within this notebook, that this word will be in the word_to_vec_map when the function is being called by the automatic grader.\n",
    "\n",
    "__Hint:__ you can use any one of the word vectors that you retrieved from the input sentence to find the shape of a word vector."
   ]
  },
  {
   "cell_type": "code",
   "execution_count": 11,
   "id": "2ec3eb25-0622-4f8c-bf04-58240545636f",
   "metadata": {},
   "outputs": [],
   "source": [
    "def sentence_to_avg(sentence, word_to_vec_map):\n",
    "    \"\"\"\n",
    "    Converts a sentence (string) into a list of words (strings). Extracts the GloVe representation of each word\n",
    "    and averages its value into a single vector encoding the meaning of the sentence.\n",
    "    \n",
    "    Arguments:\n",
    "    sentence -- string, one training example from X\n",
    "    word_to_vec_map -- dictionary mapping every word in a vocabulary into its 50-dimensional vector representation\n",
    "    \n",
    "    Returns:\n",
    "    avg -- average vector encoding information about the sentence, numpy-array of shape (J,), where J can be any number\n",
    "    \"\"\"\n",
    "    # Get a valid word contained in the word_to_vec_map. \n",
    "    any_word = list(word_to_vec_map.keys())[0]\n",
    "    \n",
    "    ### START CODE HERE ###\n",
    "    # Step 1: Split sentence into list of lower case words (≈ 1 line)\n",
    "    words = sentence.lower().split()\n",
    "\n",
    "    # Initialize the average word vector, should have the same shape as your word vectors.\n",
    "    avg = np.zeros(word_to_vec_map[any_word].shape)\n",
    "    \n",
    "    # Initialize count to 0\n",
    "    count = 0\n",
    "    \n",
    "    # Step 2: average the word vectors. You can loop over the words in the list \"words\".\n",
    "    for w in words:\n",
    "        # Check that word exists in word_to_vec_map\n",
    "        if w in list(word_to_vec_map.keys()):\n",
    "            avg += word_to_vec_map[w]\n",
    "            # Increment count\n",
    "            count +=1\n",
    "          \n",
    "    if count > 0:\n",
    "        # Get the average. But only if count > 0\n",
    "        avg = avg/count\n",
    "    \n",
    "    ### END CODE HERE ###\n",
    "    \n",
    "    return avg"
   ]
  },
  {
   "cell_type": "code",
   "execution_count": 12,
   "id": "5af8916f-df30-4d00-92ed-708d1fb3cc5b",
   "metadata": {},
   "outputs": [
    {
     "name": "stdout",
     "output_type": "stream",
     "text": [
      "avg = \n",
      " [-0.008005    0.56370833 -0.50427333  0.258865    0.55131103  0.03104983\n",
      " -0.21013718  0.16893933 -0.09590267  0.141784   -0.15708967  0.18525867\n",
      "  0.6495785   0.38371117  0.21102167  0.11301667  0.02613967  0.26037767\n",
      "  0.05820667 -0.01578167 -0.12078833 -0.02471267  0.4128455   0.5152061\n",
      "  0.38756167 -0.898661   -0.535145    0.33501167  0.68806933 -0.2156265\n",
      "  1.797155    0.10476933 -0.36775333  0.750785    0.10282583  0.348925\n",
      " -0.27262833  0.66768    -0.10706167 -0.283635    0.59580117  0.28747333\n",
      " -0.3366635   0.23393817  0.34349183  0.178405    0.1166155  -0.076433\n",
      "  0.1445417   0.09808667]\n",
      "\u001b[92mAll tests passed!\n"
     ]
    }
   ],
   "source": [
    "avg = sentence_to_avg(\"Morrocan couscous is my favorite dish\", word_to_vec_map)\n",
    "print(\"avg = \\n\", avg)\n",
    "\n",
    "def sentence_to_avg_test(target):\n",
    "    # Create a controlled word to vec map\n",
    "    word_to_vec_map = {'a': [3, 3], 'synonym_of_a': [3, 3], 'a_nw': [2, 4], 'a_s': [3, 2], \n",
    "                       'c': [-2, 1], 'c_n': [-2, 2],'c_ne': [-1, 2], 'c_e': [-1, 1], 'c_se': [-1, 0], \n",
    "                       'c_s': [-2, 0], 'c_sw': [-3, 0], 'c_w': [-3, 1], 'c_nw': [-3, 2]\n",
    "                      }\n",
    "    # Convert lists to np.arrays\n",
    "    for key in word_to_vec_map.keys():\n",
    "        word_to_vec_map[key] = np.array(word_to_vec_map[key])\n",
    "        \n",
    "    avg = target(\"a a_nw c_w a_s\", word_to_vec_map)\n",
    "    assert tuple(avg.shape) == tuple(word_to_vec_map['a'].shape),  \"Check the shape of your avg array\"  \n",
    "    assert np.allclose(avg, [1.25, 2.5]),  \"Check that you are finding the 4 words\"\n",
    "    avg = target(\"love a a_nw c_w a_s\", word_to_vec_map)\n",
    "    assert np.allclose(avg, [1.25, 2.5]), \"Divide by count, not len(words)\"\n",
    "    avg = target(\"love\", word_to_vec_map)\n",
    "    assert np.allclose(avg, [0, 0]), \"Average of no words must give an array of zeros\"\n",
    "    avg = target(\"c_se foo a a_nw c_w a_s deeplearning c_nw\", word_to_vec_map)\n",
    "    assert np.allclose(avg, [0.1666667, 2.0]), \"Debug the last example\"\n",
    "    \n",
    "    print(\"\\033[92mAll tests passed!\")\n",
    "    \n",
    "sentence_to_avg_test(sentence_to_avg)\n",
    "\n",
    "# END UNIT TEST"
   ]
  },
  {
   "cell_type": "markdown",
   "id": "40344902-b344-4fa6-9a2a-a96d0c5558dc",
   "metadata": {},
   "source": [
    "## 1.4 - Implement the Model\n",
    "You now have all the pieces to finish implementing the model() function! After using sentence_to_avg() you need to:\n",
    "\n",
    "- Pass the average through forward propagation\n",
    "- Compute the cost\n",
    "- Backpropagate to update the softmax parameters\n",
    "\n",
    "## Exercise 2 - model\n",
    "Implement the model() function described in Figure (2).\n",
    "\n",
    "The equations you need to implement in the forward pass and to compute the cross-entropy cost are below:\n",
    "- The variable $Y_{oh}$ (\"Y one hot\") is the one-hot encoding of the output labels.\n",
    "\n",
    "$$ z^{(i)} = W_{avg ^{(i)}} \\; + b$$\n",
    "$$ a^{(i)} = softmax(z^{(i)})$$\n",
    "$$ L^{(i)} = - ∑^{n_y -1}_{k=0} Y^{(i)}_{oh,k} \\; * log(a^{(i)}_k) $$"
   ]
  },
  {
   "cell_type": "markdown",
   "id": "a09cb797-5f38-4617-8acc-00c4e5e809e2",
   "metadata": {},
   "source": [
    "Note: It is possible to come up with a more efficient vectorized implementation. For now, just use nested for loops to better understand the algorithm, and for easier debugging.\n",
    "\n",
    "The function softmax() is provided, and has already been imported."
   ]
  },
  {
   "cell_type": "code",
   "execution_count": 13,
   "id": "b3c2bae1-bb6b-485f-9860-a80d58d4c7fb",
   "metadata": {},
   "outputs": [],
   "source": [
    "def model(X, Y, word_to_vec_map, learning_rate = 0.01, num_iterations = 200):\n",
    "    \"\"\"\n",
    "    Model to train word vector representations in numpy.\n",
    "    \n",
    "    Arguments:\n",
    "    X -- input data, numpy array of sentences as strings, of shape (m, 1)\n",
    "    Y -- labels, numpy array of integers between 0 and 7, numpy-array of shape (m, 1)\n",
    "    word_to_vec_map -- dictionary mapping every word in a vocabulary into its 50-dimensional vector representation\n",
    "    learning_rate -- learning_rate for the stochastic gradient descent algorithm\n",
    "    num_iterations -- number of iterations\n",
    "    \n",
    "    Returns:\n",
    "    pred -- vector of predictions, numpy-array of shape (m, 1)\n",
    "    W -- weight matrix of the softmax layer, of shape (n_y, n_h)\n",
    "    b -- bias of the softmax layer, of shape (n_y,)\n",
    "    \"\"\"\n",
    "    \n",
    "    # Get a valid word contained in the word_to_vec_map \n",
    "    any_word = list(word_to_vec_map.keys())[0]\n",
    "        \n",
    "    # Initialize cost. It is needed during grading\n",
    "    cost = 0\n",
    "    \n",
    "    # Define number of training examples\n",
    "    m = Y.shape[0]                             # number of training examples\n",
    "    n_y = len(np.unique(Y))                    # number of classes  \n",
    "    n_h = word_to_vec_map[any_word].shape[0]   # dimensions of the GloVe vectors \n",
    "    \n",
    "    # Initialize parameters using Xavier initialization\n",
    "    W = np.random.randn(n_y, n_h) / np.sqrt(n_h)\n",
    "    b = np.zeros((n_y,))\n",
    "    \n",
    "    # Convert Y to Y_onehot with n_y classes\n",
    "    Y_oh = convert_to_one_hot(Y, C = n_y) \n",
    "    \n",
    "    # Optimization loop\n",
    "    for t in range(num_iterations): # Loop over the number of iterations\n",
    "        for i in range(m):          # Loop over the training examples\n",
    "            \n",
    "            ### START CODE HERE ### (≈ 4 lines of code)\n",
    "            # Average the word vectors of the words from the i'th training example\n",
    "            avg = sentence_to_avg(X[i], word_to_vec_map)\n",
    "\n",
    "            # Forward propagate the avg through the softmax layer\n",
    "            z = np.add(np.dot(W,avg),b)\n",
    "            a = softmax(z)\n",
    "\n",
    "            # Compute cost using the i'th training label's one hot representation and \"A\" (the output of the softmax)\n",
    "            cost = -np.sum(np.dot(Y_oh[i], np.log(a)))\n",
    "            ### END CODE HERE ###\n",
    "            \n",
    "            # Compute gradients \n",
    "            dz = a - Y_oh[i]\n",
    "            dW = np.dot(dz.reshape(n_y,1), avg.reshape(1, n_h))\n",
    "            db = dz\n",
    "\n",
    "            # Update parameters with Stochastic Gradient Descent\n",
    "            W = W - learning_rate * dW\n",
    "            b = b - learning_rate * db\n",
    "        \n",
    "        if t % 10 == 0:\n",
    "            print(\"Epoch: \" + str(t) + \" --- cost = \" + str(cost))\n",
    "            pred = predict(X, Y, W, b, word_to_vec_map) #predict is defined in emo_utils.py\n",
    "\n",
    "    return pred, W, b"
   ]
  },
  {
   "cell_type": "code",
   "execution_count": 14,
   "id": "05195765-6a21-4ee4-8210-da2a9cebd15d",
   "metadata": {},
   "outputs": [
    {
     "name": "stdout",
     "output_type": "stream",
     "text": [
      "Epoch: 0 --- cost = 0.05105772513207823\n",
      "Accuracy: 0.9166666666666666\n",
      "Epoch: 10 --- cost = 0.03893716809550303\n",
      "Accuracy: 0.9166666666666666\n",
      "Epoch: 20 --- cost = 0.03078199487865477\n",
      "Accuracy: 0.9166666666666666\n",
      "Epoch: 30 --- cost = 0.0250625254818359\n",
      "Accuracy: 0.9166666666666666\n",
      "Epoch: 40 --- cost = 0.020906296817970453\n",
      "Accuracy: 0.9166666666666666\n",
      "Epoch: 50 --- cost = 0.017791876552201644\n",
      "Accuracy: 0.9166666666666666\n",
      "Epoch: 60 --- cost = 0.015394747683241103\n",
      "Accuracy: 0.9166666666666666\n",
      "Epoch: 70 --- cost = 0.01350575460904451\n",
      "Accuracy: 1.0\n",
      "Epoch: 80 --- cost = 0.01198593465621373\n",
      "Accuracy: 1.0\n",
      "Epoch: 90 --- cost = 0.01074046826626526\n",
      "Accuracy: 1.0\n",
      "Epoch: 100 --- cost = 0.00970311068897676\n",
      "Accuracy: 1.0\n",
      "\u001b[92mAll tests passed!\n"
     ]
    }
   ],
   "source": [
    "# UNIT TEST\n",
    "def model_test(target):\n",
    "    # Create a controlled word to vec map\n",
    "    word_to_vec_map = {'a': [3, 3], 'synonym_of_a': [3, 3], 'a_nw': [2, 4], 'a_s': [3, 2], 'a_n': [3, 4], \n",
    "                       'c': [-2, 1], 'c_n': [-2, 2],'c_ne': [-1, 2], 'c_e': [-1, 1], 'c_se': [-1, 0], \n",
    "                       'c_s': [-2, 0], 'c_sw': [-3, 0], 'c_w': [-3, 1], 'c_nw': [-3, 2]\n",
    "                      }\n",
    "    # Convert lists to np.arrays\n",
    "    for key in word_to_vec_map.keys():\n",
    "        word_to_vec_map[key] = np.array(word_to_vec_map[key])\n",
    "        \n",
    "    # Training set. Sentences composed of a_* words will be of class 0 and sentences composed of c_* words will be of class 1\n",
    "    X = np.asarray(['a a_s synonym_of_a a_n c_sw', 'a a_s a_n c_sw', 'a_s  a a_n', 'synonym_of_a a a_s a_n c_sw', \" a_s a_n\",\n",
    "                    \" a a_s a_n c \", \" a_n  a c c c_e\",\n",
    "                   'c c_nw c_n c c_ne', 'c_e c c_se c_s', 'c_nw c a_s c_e c_e', 'c_e a_nw c_sw', 'c_sw c c_ne c_ne'])\n",
    "    \n",
    "    Y = np.asarray([0, 0, 0, 0, 0, 0, 1, 1, 1, 1, 1, 1])\n",
    "    \n",
    "    np.random.seed(10)\n",
    "    pred, W, b = model(X, Y, word_to_vec_map, 0.0025, 110)\n",
    "    \n",
    "    assert W.shape == (2, 2), \"W must be of shape 2 x 2\"\n",
    "    assert np.allclose(pred.transpose(), Y), \"Model must give a perfect accuracy\"\n",
    "    assert np.allclose(b[0], -1 * b[1]), \"b should be symmetric in this example\"\n",
    "    \n",
    "    print(\"\\033[92mAll tests passed!\")\n",
    "    \n",
    "model_test(model)"
   ]
  },
  {
   "cell_type": "code",
   "execution_count": 15,
   "id": "34517ee9-7577-4440-8c5c-bccfa006c2af",
   "metadata": {},
   "outputs": [
    {
     "name": "stdout",
     "output_type": "stream",
     "text": [
      "Epoch: 0 --- cost = 1.952049881281007\n",
      "Accuracy: 0.3484848484848485\n",
      "Epoch: 10 --- cost = 1.0040987758894049\n",
      "Accuracy: 0.7272727272727273\n",
      "Epoch: 20 --- cost = 0.5388772571119415\n",
      "Accuracy: 0.803030303030303\n",
      "Epoch: 30 --- cost = 0.33312189973650774\n",
      "Accuracy: 0.803030303030303\n",
      "Epoch: 40 --- cost = 0.23144766289423163\n",
      "Accuracy: 0.8257575757575758\n",
      "Epoch: 50 --- cost = 0.1747265584802322\n",
      "Accuracy: 0.8560606060606061\n",
      "Epoch: 60 --- cost = 0.13985752584011937\n",
      "Accuracy: 0.8787878787878788\n",
      "Epoch: 70 --- cost = 0.11677061223976795\n",
      "Accuracy: 0.8939393939393939\n",
      "Epoch: 80 --- cost = 0.10058743375666776\n",
      "Accuracy: 0.9090909090909091\n",
      "Epoch: 90 --- cost = 0.08872634092095644\n",
      "Accuracy: 0.9242424242424242\n",
      "Epoch: 100 --- cost = 0.07971818726014807\n",
      "Accuracy: 0.9318181818181818\n",
      "Epoch: 110 --- cost = 0.07267535951826085\n",
      "Accuracy: 0.9318181818181818\n",
      "Epoch: 120 --- cost = 0.06703450600041293\n",
      "Accuracy: 0.9318181818181818\n",
      "Epoch: 130 --- cost = 0.06242326850488144\n",
      "Accuracy: 0.9318181818181818\n",
      "Epoch: 140 --- cost = 0.05858708329632528\n",
      "Accuracy: 0.9393939393939394\n",
      "Epoch: 150 --- cost = 0.055346878990539604\n",
      "Accuracy: 0.9393939393939394\n",
      "Epoch: 160 --- cost = 0.052573552521839984\n",
      "Accuracy: 0.9393939393939394\n",
      "Epoch: 170 --- cost = 0.05017200064054583\n",
      "Accuracy: 0.9393939393939394\n",
      "Epoch: 180 --- cost = 0.04807081857515234\n",
      "Accuracy: 0.946969696969697\n",
      "Epoch: 190 --- cost = 0.04621547640746077\n",
      "Accuracy: 0.9545454545454546\n",
      "[[3.]\n",
      " [2.]\n",
      " [3.]\n",
      " [0.]\n",
      " [4.]\n",
      " [0.]\n",
      " [3.]\n",
      " [2.]\n",
      " [3.]\n",
      " [1.]\n",
      " [3.]\n",
      " [3.]\n",
      " [1.]\n",
      " [3.]\n",
      " [2.]\n",
      " [3.]\n",
      " [2.]\n",
      " [3.]\n",
      " [1.]\n",
      " [2.]\n",
      " [3.]\n",
      " [0.]\n",
      " [2.]\n",
      " [2.]\n",
      " [2.]\n",
      " [1.]\n",
      " [4.]\n",
      " [3.]\n",
      " [3.]\n",
      " [4.]\n",
      " [0.]\n",
      " [3.]\n",
      " [4.]\n",
      " [2.]\n",
      " [0.]\n",
      " [3.]\n",
      " [2.]\n",
      " [2.]\n",
      " [3.]\n",
      " [4.]\n",
      " [2.]\n",
      " [2.]\n",
      " [0.]\n",
      " [2.]\n",
      " [3.]\n",
      " [0.]\n",
      " [3.]\n",
      " [2.]\n",
      " [4.]\n",
      " [3.]\n",
      " [0.]\n",
      " [3.]\n",
      " [3.]\n",
      " [3.]\n",
      " [4.]\n",
      " [2.]\n",
      " [1.]\n",
      " [1.]\n",
      " [1.]\n",
      " [2.]\n",
      " [3.]\n",
      " [1.]\n",
      " [0.]\n",
      " [0.]\n",
      " [0.]\n",
      " [3.]\n",
      " [4.]\n",
      " [4.]\n",
      " [2.]\n",
      " [2.]\n",
      " [1.]\n",
      " [2.]\n",
      " [0.]\n",
      " [3.]\n",
      " [2.]\n",
      " [2.]\n",
      " [0.]\n",
      " [3.]\n",
      " [3.]\n",
      " [1.]\n",
      " [2.]\n",
      " [1.]\n",
      " [2.]\n",
      " [2.]\n",
      " [4.]\n",
      " [2.]\n",
      " [3.]\n",
      " [2.]\n",
      " [4.]\n",
      " [0.]\n",
      " [0.]\n",
      " [3.]\n",
      " [3.]\n",
      " [3.]\n",
      " [3.]\n",
      " [2.]\n",
      " [3.]\n",
      " [1.]\n",
      " [2.]\n",
      " [3.]\n",
      " [0.]\n",
      " [2.]\n",
      " [2.]\n",
      " [2.]\n",
      " [3.]\n",
      " [2.]\n",
      " [2.]\n",
      " [2.]\n",
      " [4.]\n",
      " [1.]\n",
      " [1.]\n",
      " [3.]\n",
      " [3.]\n",
      " [4.]\n",
      " [1.]\n",
      " [2.]\n",
      " [1.]\n",
      " [1.]\n",
      " [3.]\n",
      " [1.]\n",
      " [0.]\n",
      " [4.]\n",
      " [0.]\n",
      " [3.]\n",
      " [3.]\n",
      " [4.]\n",
      " [4.]\n",
      " [1.]\n",
      " [4.]\n",
      " [3.]\n",
      " [0.]\n",
      " [2.]]\n"
     ]
    }
   ],
   "source": [
    "np.random.seed(1)\n",
    "pred, W, b = model(X_train, Y_train, word_to_vec_map)\n",
    "print(pred)"
   ]
  },
  {
   "cell_type": "markdown",
   "id": "a5aeec5a-908f-4fd8-9b51-14e891ef6e30",
   "metadata": {},
   "source": [
    "## 1.5 - Examining Test Set Performance\n",
    "Note that the predict function used here is defined in emo_util.py."
   ]
  },
  {
   "cell_type": "code",
   "execution_count": 16,
   "id": "dd0e9109-19ad-4739-bab2-cc4cb7c83974",
   "metadata": {},
   "outputs": [
    {
     "name": "stdout",
     "output_type": "stream",
     "text": [
      "Training set:\n",
      "Accuracy: 0.9545454545454546\n",
      "Test set:\n",
      "Accuracy: 0.8571428571428571\n"
     ]
    }
   ],
   "source": [
    "print(\"Training set:\")\n",
    "pred_train = predict(X_train, Y_train, W, b, word_to_vec_map)\n",
    "print('Test set:')\n",
    "pred_test = predict(X_test, Y_test, W, b, word_to_vec_map)"
   ]
  },
  {
   "cell_type": "markdown",
   "id": "41f0b710-c425-4400-951e-1fd373f8118f",
   "metadata": {},
   "source": [
    "## The Model Matches Emojis to Relevant Words\n",
    "In the training set, the algorithm saw the sentence\n",
    "\n",
    "\"I love you.\"\n",
    "\n",
    "with the label ❤️.\n",
    "\n",
    "- You can check that the word \"cherish\" does not appear in the training set.\n",
    "- Nonetheless, let's see what happens if you write \"I cherish you.\""
   ]
  },
  {
   "cell_type": "code",
   "execution_count": 17,
   "id": "50bbec05-f78c-4ad8-a77f-1f2ec5daa59b",
   "metadata": {},
   "outputs": [
    {
     "name": "stdout",
     "output_type": "stream",
     "text": [
      "Accuracy: 0.8333333333333334\n",
      "\n",
      "i cherish you ❤️\n",
      "i love you ❤️\n",
      "funny lol 😄\n",
      "lets play with a ball ⚾\n",
      "food is ready 🍴\n",
      "not feeling happy 😄\n"
     ]
    }
   ],
   "source": [
    "X_my_sentences = np.array([\"i cherish you\", \"i love you\", \"funny lol\", \"lets play with a ball\", \"food is ready\", \"not feeling happy\"])\n",
    "Y_my_labels = np.array([[0], [0], [2], [1], [4],[3]])\n",
    "\n",
    "pred = predict(X_my_sentences, Y_my_labels , W, b, word_to_vec_map)\n",
    "print_predictions(X_my_sentences, pred)"
   ]
  },
  {
   "cell_type": "markdown",
   "id": "ffebeb67-dba2-4b37-96d9-c4a2344d5c71",
   "metadata": {},
   "source": [
    "Amazing!\n",
    "\n",
    "- Because adore has a similar embedding as love, the algorithm has generalized correctly even to a word it has never seen before.\n",
    "- Words such as heart, dear, beloved or adore have embedding vectors similar to love.\n",
    "    - Feel free to modify the inputs above and try out a variety of input sentences.\n",
    "    - How well does it work?"
   ]
  },
  {
   "cell_type": "markdown",
   "id": "e7460614-ce21-420e-bbc7-7ca7f265ba30",
   "metadata": {},
   "source": [
    "## Word Ordering isn't Considered in this Model\n",
    "- Note that the model doesn't get the following sentence correct:\n",
    "\"not feeling happy\"\n",
    "\n",
    "- This algorithm ignores word ordering, so is not good at understanding phrases like \"not happy.\"\n",
    "## Confusion Matrix\n",
    "Printing the confusion matrix can also help understand which classes are more difficult for your model.\n",
    "A confusion matrix shows how often an example whose label is one class (\"actual\" class) is mislabeled by the algorithm with a different class (\"predicted\" class).\n",
    "Print the confusion matrix below:"
   ]
  },
  {
   "cell_type": "code",
   "execution_count": 18,
   "id": "7e237d36-fa4c-47b8-8641-046a8a8131a1",
   "metadata": {},
   "outputs": [
    {
     "name": "stdout",
     "output_type": "stream",
     "text": [
      "(56,)\n",
      "           ❤️    ⚾    😄    😞   🍴\n",
      "Predicted  0.0  1.0  2.0  3.0  4.0  All\n",
      "Actual                                 \n",
      "0            6    0    0    1    0    7\n",
      "1            0    8    0    0    0    8\n",
      "2            2    0   16    0    0   18\n",
      "3            1    1    2   12    0   16\n",
      "4            0    0    1    0    6    7\n",
      "All          9    9   19   13    6   56\n"
     ]
    },
    {
     "data": {
      "image/png": "[encoded data removed]",
      "text/plain": [
       "<Figure size 480x480 with 2 Axes>"
      ]
     },
     "metadata": {},
     "output_type": "display_data"
    }
   ],
   "source": [
    "# START SKIP FOR GRADING\n",
    "print(Y_test.shape)\n",
    "print('           '+ label_to_emoji(0)+ '    ' + label_to_emoji(1) + '    ' +  label_to_emoji(2)+ '    ' + label_to_emoji(3)+'   ' + label_to_emoji(4))\n",
    "print(pd.crosstab(Y_test, pred_test.reshape(56,), rownames=['Actual'], colnames=['Predicted'], margins=True))\n",
    "plot_confusion_matrix(Y_test, pred_test)\n",
    "# END SKIP FOR GRADING"
   ]
  },
  {
   "cell_type": "markdown",
   "id": "75f03806-7a69-44e9-9c8e-3d2bcd187071",
   "metadata": {},
   "source": [
    "### What you should remember:\n",
    "\n",
    "- Even with a mere 127 training examples, you can get a reasonably good model for Emojifying.\n",
    "    - This is due to the generalization power word vectors gives you.\n",
    "- Emojify-V1 will perform poorly on sentences such as \"This movie is not good and not enjoyable\"\n",
    "    - It doesn't understand combinations of words.\n",
    "    - It just averages all the words' embedding vectors together, without considering the ordering of words.\n",
    "### Not to worry! You will build a better algorithm in the next section!"
   ]
  },
  {
   "cell_type": "markdown",
   "id": "1e01bfa8-5fdb-45cb-90fc-cfc1849cc368",
   "metadata": {},
   "source": [
    "## 2 - Emojifier-V2: Using LSTMs in Keras\n",
    "You're going to build an LSTM model that takes word sequences as input! This model will be able to account for word ordering.\n",
    "\n",
    "Emojifier-V2 will continue to use pre-trained word embeddings to represent words. You'll feed word embeddings into an LSTM, and the LSTM will learn to predict the most appropriate emoji."
   ]
  },
  {
   "cell_type": "code",
   "execution_count": 19,
   "id": "fd9e810b-3cb8-4a1c-aae7-d902bc901486",
   "metadata": {},
   "outputs": [],
   "source": [
    "import numpy as np\n",
    "import tensorflow\n",
    "np.random.seed(0)\n",
    "from tensorflow.keras.models import Model\n",
    "from tensorflow.keras.layers import Dense, Input, Dropout, LSTM, Activation\n",
    "from tensorflow.keras.layers import Embedding\n",
    "from tensorflow.keras.preprocessing import sequence\n",
    "from tensorflow.keras.initializers import glorot_uniform\n",
    "np.random.seed(1)"
   ]
  },
  {
   "cell_type": "markdown",
   "id": "fc926964-afe1-4b65-a453-f41f52b11aff",
   "metadata": {},
   "source": [
    "## 2.1 - Model Overview\n",
    "Here is the Emojifier-v2 you will implement:"
   ]
  },
  {
   "cell_type": "markdown",
   "id": "a21fa19b-5ceb-4276-8b65-8928bdb153d5",
   "metadata": {},
   "source": [
    "![V2](images/v2.png)"
   ]
  },
  {
   "cell_type": "markdown",
   "id": "380d79b2-633b-49f6-a489-919c2c34cecf",
   "metadata": {},
   "source": [
    "## 2.2 Keras and Mini-batching\n",
    "In this exercise, you want to train Keras using mini-batches. However, most deep learning frameworks require that all sequences in the same mini-batch have the same length.\n",
    "\n",
    "This is what allows vectorization to work: If you had a 3-word sentence and a 4-word sentence, then the computations needed for them are different (one takes 3 steps of an LSTM, one takes 4 steps) so it's just not possible to do them both at the same time.\n",
    "\n",
    "## Padding Handles Sequences of Varying Length\n",
    "- The common solution to handling sequences of different length is to use padding. Specifically:\n",
    "    - Set a maximum sequence length\n",
    "    - Pad all sequences to have the same length.\n",
    "## Example of Padding:\n",
    "- Given a maximum sequence length of 20, you could pad every sentence with \"0\"s so that each input sentence is of length 20.\n",
    "- Thus, the sentence \"I love you\" would be represented as $(e_1, e_{love}, e_{you}, \\vec{0}, \\vec{0}, ...., \\vec{0} ).$\n",
    "- In this example, any sentences longer than 20 words would have to be truncated.\n",
    "- One way to choose the maximum sequence length is to just pick the length of the longest sentence in the training set."
   ]
  },
  {
   "cell_type": "markdown",
   "id": "5bfb5392-4474-491a-ac35-7ff197d1f6e6",
   "metadata": {},
   "source": [
    "## 2.3 - The Embedding Layer\n",
    "In Keras, the embedding matrix is represented as a \"layer.\"\n",
    "\n",
    "- The embedding matrix maps word indices to embedding vectors.\n",
    "    - The word indices are positive integers.\n",
    "    - The embedding vectors are dense vectors of fixed size.\n",
    "    - A \"dense\" vector is the opposite of a sparse vector. It means that most of its values are non-zero. As a counter-example, a one-hot encoded vector is not \"dense.\"\n",
    "- The embedding matrix can be derived in two ways:\n",
    "    - Training a model to derive the embeddings from scratch.\n",
    "    - Using a pretrained embedding.\n",
    "## Using and Updating Pre-trained Embeddings\n",
    "In this section, you'll create an Embedding() layer in Keras\n",
    "\n",
    "- You will initialize the Embedding layer with GloVe 50-dimensional vectors.\n",
    "- In the code below, you'll observe how Keras allows you to either train or leave this layer fixed.\n",
    "    - Because your training set is quite small, you'll leave the GloVe embeddings fixed instead of updating them.\n",
    "\n",
    "## Inputs and Outputs to the Embedding Layer\n",
    "- The Embedding() layer's input is an integer matrix of size (batch size, max input length).\n",
    "\n",
    "    - This input corresponds to sentences converted into lists of indices (integers).\n",
    "    - The largest integer (the highest word index) in the input should be no larger than the vocabulary size.\n",
    "- The embedding layer outputs an array of shape (batch size, max input length, dimension of word vectors).\n",
    "\n",
    "- The figure shows the propagation of two example sentences through the embedding layer.\n",
    "\n",
    "    - Both examples have been zero-padded to a length of max_len=5.\n",
    "    - The word embeddings are 50 units in length.\n",
    "    - The final dimension of the representation is (2,max_len,50)."
   ]
  },
  {
   "cell_type": "markdown",
   "id": "65d68ae1-01a0-43b1-b49d-8b4db3239e8b",
   "metadata": {},
   "source": [
    "![Embedding](images/embedding.png)"
   ]
  },
  {
   "cell_type": "markdown",
   "id": "a8a6ba7b-7297-48ca-b348-eee0035fca91",
   "metadata": {},
   "source": [
    "### Prepare the Input Sentences\n",
    "\n",
    "## Exercise 3 - sentences_to_indices\n",
    "Implement sentences_to_indices\n",
    "\n",
    "This function processes an array of sentences X and returns inputs to the embedding layer:\n",
    "\n",
    "- Convert each training sentences into a list of indices (the indices correspond to each word in the sentence)\n",
    "- Zero-pad all these lists so that their length is the length of the longest sentence.\n",
    "### Additional Hints:\n",
    "- Note that you may have considered using the enumerate() function in the for loop, but for the purposes of passing the autograder, please follow the starter code by initializing and incrementing j explicitly."
   ]
  },
  {
   "cell_type": "code",
   "execution_count": 23,
   "id": "62175cd7-b2c4-41f1-bd15-3b589097d4c3",
   "metadata": {},
   "outputs": [
    {
     "name": "stdout",
     "output_type": "stream",
     "text": [
      "0 I\n",
      "1 like\n",
      "2 learning\n"
     ]
    }
   ],
   "source": [
    "for idx, val in enumerate([\"I\", \"like\", \"learning\"]):\n",
    "    print(idx, val)"
   ]
  },
  {
   "cell_type": "code",
   "execution_count": 27,
   "id": "152a2d92-e226-488e-b6ae-6e183ed04025",
   "metadata": {},
   "outputs": [],
   "source": [
    "def sentences_to_indices(X, word_to_index, max_len):\n",
    "    m = X.shape[0]\n",
    "    X_indices = np.zeros([m, max_len])\n",
    "    for i in range(m):\n",
    "        sentence_words = X[i].lower().split()\n",
    "        j = 0\n",
    "        for w in sentence_words:\n",
    "            if w in word_to_index:\n",
    "                X_indices[i, j] = word_to_index[w]\n",
    "                j = j+1\n",
    "    return X_indices"
   ]
  },
  {
   "cell_type": "code",
   "execution_count": 32,
   "id": "a0c2e0ce-3a43-4e2f-a513-8cc5e1e70497",
   "metadata": {},
   "outputs": [
    {
     "name": "stdout",
     "output_type": "stream",
     "text": [
      "[[1. 2. 4. 3.]\n",
      " [4. 8. 6. 5.]\n",
      " [5. 3. 7. 0.]]\n",
      "\u001b[92mAll tests passed!\n"
     ]
    }
   ],
   "source": [
    "#Unit test\n",
    "def sentences_to_indices_test(target):\n",
    "    word_to_index = {}\n",
    "    for idx, val in enumerate([\"i\", \"like\", \"learning\", \"deep\", \"machine\", \"love\", \"smile\", '´0.=']):\n",
    "        word_to_index[val] = idx + 1\n",
    "    max_len = 4\n",
    "    sentences = np.array([\"I like deep learning\", \"deep ´0.= love machine\", \"machine learning smile\"]);\n",
    "    indexes = target(sentences, word_to_index, max_len)\n",
    "    print(indexes)\n",
    "\n",
    "    assert type(indexes) == np.ndarray, \"Wrong type, Use np arrays in the function\"\n",
    "    assert indexes.shape == (sentences.shape[0], max_len), \"Wrong shape of output matrix\"\n",
    "    assert np.allclose(indexes, [[1, 2, 4, 3],\n",
    "                                 [4, 8, 6, 5],\n",
    "                                 [5, 3, 7, 0]]), \"Wrong values. Debug with the given examples\"\n",
    "    print(\"\\033[92mAll tests passed!\")\n",
    "    \n",
    "sentences_to_indices_test(sentences_to_indices)"
   ]
  },
  {
   "cell_type": "code",
   "execution_count": 33,
   "id": "8e707839-da96-4c02-a1ac-cf7b522a52c2",
   "metadata": {},
   "outputs": [
    {
     "name": "stdout",
     "output_type": "stream",
     "text": [
      "X1 = ['funny lol' 'lets play baseball' 'food is ready for you']\n",
      "X1_indices =\n",
      " [[155345. 225122.      0.      0.      0.]\n",
      " [220930. 286375.  69714.      0.      0.]\n",
      " [151204. 192973. 302254. 151349. 394475.]]\n"
     ]
    }
   ],
   "source": [
    "X1 = np.array([\"funny lol\", \"lets play baseball\", \"food is ready for you\"])\n",
    "X1_indices = sentences_to_indices(X1, word_to_index, max_len=5)\n",
    "print(\"X1 =\", X1)\n",
    "print(\"X1_indices =\\n\", X1_indices)"
   ]
  },
  {
   "cell_type": "markdown",
   "id": "5fff3ef9-15b8-481a-8b33-3729b21d2f72",
   "metadata": {},
   "source": [
    "## Build Embedding Layer\n",
    "Now you'll build the Embedding() layer in Keras, using pre-trained word vectors.\n",
    "\n",
    "- The embedding layer takes as input a list of word indices.\n",
    "    - sentences_to_indices() creates these word indices.\n",
    "- The embedding layer will return the word embeddings for a sentence."
   ]
  },
  {
   "cell_type": "markdown",
   "id": "34710c36-c83c-417c-8e1b-676d441e31c0",
   "metadata": {},
   "source": [
    "# Exercise 4 - pretrained_embedding_layer\n",
    "Implement pretrained_embedding_layer() with these steps:\n",
    "\n",
    "1. Initialize the embedding matrix as a numpy array of zeros.\n",
    "- The embedding matrix has a row for each unique word in the vocabulary.\n",
    "    - There is one additional row to handle \"unknown\" words.\n",
    "    - So vocab_size is the number of unique words plus one.\n",
    "- Each row will store the vector representation of one word.\n",
    "    - For example, one row may be 50 positions long if using GloVe word vectors.\n",
    "- In the code below, emb_dim represents the length of a word embedding.\n",
    "2. Fill in each row of the embedding matrix with the vector representation of a word\n",
    "- Each word in word_to_index is a string.\n",
    "- word_to_vec_map is a dictionary where the keys are strings and the values are the word vectors.\n",
    "3. Define the Keras embedding layer.\n",
    "- Use Embedding().\n",
    "- The input dimension is equal to the vocabulary length (number of unique words plus one).\n",
    "- The output dimension is equal to the number of positions in a word embedding.\n",
    "- Make this layer's embeddings fixed.\n",
    "    - If you were to set trainable = True, then it will allow the optimization algorithm to modify the values of the word embeddings.\n",
    "    - In this case, you don't want the model to modify the word embeddings.\n",
    "4. Set the embedding weights to be equal to the embedding matrix.\n",
    "- Note that this is part of the code is already completed for you and does not need to be modified!"
   ]
  },
  {
   "cell_type": "code",
   "execution_count": 36,
   "id": "1e698a64-d5c4-46d7-8593-4e9dab0f003b",
   "metadata": {},
   "outputs": [],
   "source": [
    "def pretrained_embedding_layer(word_to_vec_map, word_to_index):\n",
    "    vocab_size = len(word_to_index) + 1\n",
    "    any_word = list(word_to_vec_map.keys())[0]\n",
    "    emb_dim = word_to_vec_map[any_word].shape[0]\n",
    "\n",
    "    emb_matrix = np.zeros([vocab_size, emb_dim])\n",
    "    for word, idx in word_to_index.items():\n",
    "        emb_matrix[idx, :] = word_to_vec_map[word]\n",
    "    embedding_layer = Embedding(vocab_size, emb_dim, trainable = False)\n",
    "\n",
    "    embedding_layer.build((None,))\n",
    "    embedding_layer.set_weights([emb_matrix])\n",
    "    return embedding_layer"
   ]
  },
  {
   "cell_type": "code",
   "execution_count": 37,
   "id": "aa061a79-9403-4ce4-84a8-4075e4cf2256",
   "metadata": {},
   "outputs": [
    {
     "name": "stdout",
     "output_type": "stream",
     "text": [
      "\u001b[92mAll tests passed!\n"
     ]
    }
   ],
   "source": [
    "# UNIT TEST\n",
    "def pretrained_embedding_layer_test(target):\n",
    "    # Create a controlled word to vec map\n",
    "    word_to_vec_map = {'a': [3, 3], 'synonym_of_a': [3, 3], 'a_nw': [2, 4], 'a_s': [3, 2], 'a_n': [3, 4], \n",
    "                       'c': [-2, 1], 'c_n': [-2, 2],'c_ne': [-1, 2], 'c_e': [-1, 1], 'c_se': [-1, 0], \n",
    "                       'c_s': [-2, 0], 'c_sw': [-3, 0], 'c_w': [-3, 1], 'c_nw': [-3, 2]\n",
    "                      }\n",
    "    # Convert lists to np.arrays\n",
    "    for key in word_to_vec_map.keys():\n",
    "        word_to_vec_map[key] = np.array(word_to_vec_map[key])\n",
    "        \n",
    "    # Create a word_to_index dictionary\n",
    "    word_to_index = {}\n",
    "    for idx, val in enumerate(list(word_to_vec_map.keys())):\n",
    "        word_to_index[val] = idx;\n",
    "        \n",
    "    np.random.seed(1)\n",
    "    embedding_layer = target(word_to_vec_map, word_to_index)\n",
    "    \n",
    "    assert type(embedding_layer) == Embedding, \"Wrong type\"\n",
    "    assert embedding_layer.input_dim == len(list(word_to_vec_map.keys())) + 1, \"Wrong input shape\"\n",
    "    assert embedding_layer.output_dim == len(word_to_vec_map['a']), \"Wrong output shape\"\n",
    "    assert np.allclose(embedding_layer.get_weights(), \n",
    "                       [[[ 3, 3], [ 3, 3], [ 2, 4], [ 3, 2], [ 3, 4],\n",
    "                       [-2, 1], [-2, 2], [-1, 2], [-1, 1], [-1, 0],\n",
    "                       [-2, 0], [-3, 0], [-3, 1], [-3, 2], [ 0, 0]]]), \"Wrong vaulues\"\n",
    "    print(\"\\033[92mAll tests passed!\")\n",
    "       \n",
    "    \n",
    "pretrained_embedding_layer_test(pretrained_embedding_layer)"
   ]
  },
  {
   "cell_type": "code",
   "execution_count": 38,
   "id": "0259845b-1900-4974-9d42-b3ba052c471c",
   "metadata": {},
   "outputs": [
    {
     "name": "stdout",
     "output_type": "stream",
     "text": [
      "weights[0][1][1] = 0.39031\n",
      "Input_dim 400001\n",
      "Output_dim 50\n"
     ]
    }
   ],
   "source": [
    "embedding_layer = pretrained_embedding_layer(word_to_vec_map, word_to_index)\n",
    "print(\"weights[0][1][1] =\", embedding_layer.get_weights()[0][1][1])\n",
    "print(\"Input_dim\", embedding_layer.input_dim)\n",
    "print(\"Output_dim\",embedding_layer.output_dim)"
   ]
  },
  {
   "cell_type": "markdown",
   "id": "e1d76e0f-a2d4-42f9-ac54-482ace6bd45c",
   "metadata": {},
   "source": [
    "## 2.4 - Building the Emojifier-V2\n",
    "Now you're ready to build the Emojifier-V2 model, in which you feed the embedding layer's output to an LSTM network!"
   ]
  },
  {
   "cell_type": "markdown",
   "id": "13d0cc3e-d0e2-4ca7-a16c-92268aa52835",
   "metadata": {},
   "source": [
    "![V2](images/v2.1.png)"
   ]
  },
  {
   "cell_type": "markdown",
   "id": "969deb6a-7088-4219-907c-23e36b6bec80",
   "metadata": {},
   "source": [
    "# Exercise 5 - Emojify_V2\n",
    "Implement Emojify_V2()\n",
    "\n",
    "This function builds a Keras graph of the architecture shown in Figure (3).\n",
    "\n",
    "- The model takes as input an array of sentences of shape (m, max_len, ) defined by input_shape.\n",
    "\n",
    "- The model outputs a softmax probability vector of shape (m, C = 5).\n",
    "\n",
    "- You may need to use the following Keras layers:\n",
    "\n",
    "    - Input()\n",
    "        - Set the shape and dtype parameters.\n",
    "        - The inputs are integers, so you can specify the data type as a string, 'int32'.\n",
    "    - LSTM()\n",
    "        - Set the units and return_sequences parameters.\n",
    "    - Dropout()\n",
    "        - Set the rate parameter.\n",
    "    - Dense()\n",
    "        - Set the units,\n",
    "        - Note that Dense() has an activation parameter. For the purposes of passing the autograder, please do not set the activation within Dense(). Use the separate Activation layer to do so.\n",
    "    - Activation()\n",
    "        - You can pass in the activation of your choice as a lowercase string.\n",
    "    - Model()\n",
    "        - Set inputs and outputs.\n",
    "\n",
    "# Additional Hints\n",
    "- Remember that these Keras layers return an object, and you will feed in the outputs of the previous layer as the input arguments to that object. The returned object can be created and called in the same line.\n",
    "## How to use Keras layers in two lines of code\n",
    "dense_object = Dense(units = ...)\n",
    "X = dense_object(inputs)\n",
    "\n",
    "## How to use Keras layers in one line of code\n",
    "X = Dense(units = ...)(inputs)\n",
    "- The embedding_layer that is returned by pretrained_embedding_layer is a layer object that can be called as a function, passing in a single argument (sentence indices).\n",
    "\n",
    "- Here is some sample code in case you're stuck: 😊\n",
    "\n",
    "raw_inputs = Input(shape=(maxLen,), dtype='int32')\n",
    "preprocessed_inputs = ... # some pre-processing\n",
    "X = LSTM(units = ..., return_sequences= ...)(processed_inputs)\n",
    "X = Dropout(rate = ..., )(X)\n",
    "...\n",
    "X = Dense(units = ...)(X)\n",
    "X = Activation(...)(X)\n",
    "model = Model(inputs=..., outputs=...)"
   ]
  },
  {
   "cell_type": "code",
   "execution_count": 42,
   "id": "fc3717d1-18ed-4d52-a9f6-2ee829d9cf6a",
   "metadata": {},
   "outputs": [],
   "source": [
    "def Emojify_V2(input_shape, word_to_vec_map, word_to_index):\n",
    "    \"\"\"\n",
    "    Function creating the Emojify-v2 model's graph.\n",
    "    \n",
    "    Arguments:\n",
    "    input_shape -- shape of the input, usually (max_len,)\n",
    "    word_to_vec_map -- dictionary mapping every word in a vocabulary into its 50-dimensional vector representation\n",
    "    word_to_index -- dictionary mapping from words to their indices in the vocabulary (400,001 words)\n",
    "\n",
    "    Returns:\n",
    "    model -- a model instance in Keras\n",
    "    \"\"\"\n",
    "    \n",
    "    ### START CODE HERE ###\n",
    "    # Define sentence_indices as the input of the graph.\n",
    "    # It should be of shape input_shape and dtype 'int32' (as it contains indices, which are integers).\n",
    "    sentence_indices = Input(shape=input_shape,dtype='int32')\n",
    "    \n",
    "    # Create the embedding layer pretrained with GloVe Vectors (≈1 line)\n",
    "    embedding_layer = pretrained_embedding_layer(word_to_vec_map, word_to_index)\n",
    "    \n",
    "    # Propagate sentence_indices through your embedding layer\n",
    "    # (See additional hints in the instructions).\n",
    "    embeddings = embedding_layer(sentence_indices)   \n",
    "    \n",
    "    # Propagate the embeddings through an LSTM layer with 128-dimensional hidden state\n",
    "    # The returned output should be a batch of sequences, So, set return_sequences = True\n",
    "    # If return_sequences = False, the LSTM returns only tht last output in output sequence\n",
    "    X = LSTM(units=128,return_sequences = True)(embeddings)\n",
    "    # Add dropout with a probability of 0.5\n",
    "    X = Dropout(0.5)(X)\n",
    "    # Propagate X trough another LSTM layer with 128-dimensional hidden state\n",
    "    # The returned output should be a single hidden state, not a batch of sequences.\n",
    "    X = LSTM(units=128,return_sequences = False)(X)\n",
    "    # Add dropout with a probability of 0.5\n",
    "    X = Dropout(0.5)(X)\n",
    "    # Propagate X through a Dense layer with 5 units\n",
    "    X = Dense(5)(X)\n",
    "    # Add a softmax activation\n",
    "    X = Activation('softmax')(X)\n",
    "    \n",
    "    # Create Model instance which converts sentence_indices into X.\n",
    "    model = Model(inputs=sentence_indices,outputs=X)\n",
    "    \n",
    "    ### END CODE HERE ###\n",
    "    \n",
    "    return model"
   ]
  },
  {
   "cell_type": "code",
   "execution_count": 43,
   "id": "6fec11c9-656c-4607-b759-53a714daaa0b",
   "metadata": {},
   "outputs": [
    {
     "name": "stdout",
     "output_type": "stream",
     "text": [
      "\u001b[32mAll tests passed!\u001b[0m\n"
     ]
    }
   ],
   "source": [
    "# UNIT TEST\n",
    "def Emojify_V2_test(target):\n",
    "    # Create a controlled word to vec map\n",
    "    word_to_vec_map = {'a': [3, 3], 'synonym_of_a': [3, 3], 'a_nw': [2, 4], 'a_s': [3, 2], 'a_n': [3, 4], \n",
    "                       'c': [-2, 1], 'c_n': [-2, 2],'c_ne': [-1, 2], 'c_e': [-1, 1], 'c_se': [-1, 0], \n",
    "                       'c_s': [-2, 0], 'c_sw': [-3, 0], 'c_w': [-3, 1], 'c_nw': [-3, 2]\n",
    "                      }\n",
    "    # Convert lists to np.arrays\n",
    "    for key in word_to_vec_map.keys():\n",
    "        word_to_vec_map[key] = np.array(word_to_vec_map[key])\n",
    "        \n",
    "    # Create a word_to_index dictionary\n",
    "    word_to_index = {}\n",
    "    for idx, val in enumerate(list(word_to_vec_map.keys())):\n",
    "        word_to_index[val] = idx;\n",
    "        \n",
    "    maxLen = 4\n",
    "    model = target((maxLen,), word_to_vec_map, word_to_index)\n",
    "    \n",
    "    expectedModel = [['InputLayer', [(None, 4)], 0], ['Embedding', (None, 4, 2), 30], ['LSTM', (None, 4, 128), 67072, (None, 4, 2), 'tanh', True], ['Dropout', (None, 4, 128), 0, 0.5], ['LSTM', (None, 128), 131584, (None, 4, 128), 'tanh', False], ['Dropout', (None, 128), 0, 0.5], ['Dense', (None, 5), 645, 'linear'], ['Activation', (None, 5), 0]]\n",
    "    comparator(summary(model), expectedModel)\n",
    "    \n",
    "    \n",
    "Emojify_V2_test(Emojify_V2)"
   ]
  },
  {
   "cell_type": "markdown",
   "id": "f4d6241f-7e2f-4a18-8ebb-4318a7eae63d",
   "metadata": {},
   "source": [
    "Run the following cell to create your model and check its summary.\n",
    "\n",
    "- Because all sentences in the dataset are less than 10 words, max_len = 10 was chosen.\n",
    "- You should see that your architecture uses 20,223,927 parameters, of which 20,000,050 (the word embeddings) are non-trainable, with the remaining 223,877 being trainable.\n",
    "- Because your vocabulary size has 400,001 words (with valid indices from 0 to 400,000) there are 400,001*50 = 20,000,050 non-trainable parameters."
   ]
  },
  {
   "cell_type": "code",
   "execution_count": 44,
   "id": "7c29b6fe-e96e-498e-9f63-23ddd1782140",
   "metadata": {},
   "outputs": [
    {
     "name": "stdout",
     "output_type": "stream",
     "text": [
      "Model: \"functional_5\"\n",
      "_________________________________________________________________\n",
      "Layer (type)                 Output Shape              Param #   \n",
      "=================================================================\n",
      "input_3 (InputLayer)         [(None, 10)]              0         \n",
      "_________________________________________________________________\n",
      "embedding_4 (Embedding)      (None, 10, 50)            20000050  \n",
      "_________________________________________________________________\n",
      "lstm_4 (LSTM)                (None, 10, 128)           91648     \n",
      "_________________________________________________________________\n",
      "dropout_4 (Dropout)          (None, 10, 128)           0         \n",
      "_________________________________________________________________\n",
      "lstm_5 (LSTM)                (None, 128)               131584    \n",
      "_________________________________________________________________\n",
      "dropout_5 (Dropout)          (None, 128)               0         \n",
      "_________________________________________________________________\n",
      "dense_2 (Dense)              (None, 5)                 645       \n",
      "_________________________________________________________________\n",
      "activation_2 (Activation)    (None, 5)                 0         \n",
      "=================================================================\n",
      "Total params: 20,223,927\n",
      "Trainable params: 223,877\n",
      "Non-trainable params: 20,000,050\n",
      "_________________________________________________________________\n"
     ]
    }
   ],
   "source": [
    "model = Emojify_V2((maxLen,), word_to_vec_map, word_to_index)\n",
    "model.summary()"
   ]
  },
  {
   "cell_type": "markdown",
   "id": "e79189bc-d23b-49d1-96c9-6985109fee9a",
   "metadata": {},
   "source": [
    "## Compile the Model\n",
    "As usual, after creating your model in Keras, you need to compile it and define what loss, optimizer and metrics you want to use. Compile your model using categorical_crossentropy loss, adam optimizer and ['accuracy'] metrics:"
   ]
  },
  {
   "cell_type": "code",
   "execution_count": 45,
   "id": "41a08280-de34-4eda-a5a8-f3bb1089b9af",
   "metadata": {},
   "outputs": [],
   "source": [
    "model.compile(loss='categorical_crossentropy', optimizer='adam', metrics=['accuracy'])"
   ]
  },
  {
   "cell_type": "markdown",
   "id": "b2672466-d730-4935-b5e4-cfcc39a99f9f",
   "metadata": {},
   "source": [
    "## 2.5 - Train the Model\n",
    "It's time to train your model! Your Emojifier-V2 model takes as input an array of shape (m, max_len) and outputs probability vectors of shape (m, number of classes). Thus, you have to convert X_train (array of sentences as strings) to X_train_indices (array of sentences as list of word indices), and Y_train (labels as indices) to Y_train_oh (labels as one-hot vectors)."
   ]
  },
  {
   "cell_type": "code",
   "execution_count": 46,
   "id": "0f3c91fb-149e-4c89-9467-37d1e4b4cc7e",
   "metadata": {},
   "outputs": [],
   "source": [
    "X_train_indices = sentences_to_indices(X_train, word_to_index, maxLen)\n",
    "Y_train_oh = convert_to_one_hot(Y_train, C = 5)"
   ]
  },
  {
   "cell_type": "markdown",
   "id": "010ea206-7231-417f-97d3-bdc448024d3d",
   "metadata": {},
   "source": [
    "Fit the Keras model on X_train_indices and Y_train_oh, using epochs = 50 and batch_size = 32."
   ]
  },
  {
   "cell_type": "code",
   "execution_count": 47,
   "id": "ceb1894c-deb9-4b77-bd7f-dac94fbd36f5",
   "metadata": {},
   "outputs": [
    {
     "name": "stdout",
     "output_type": "stream",
     "text": [
      "Epoch 1/50\n",
      "5/5 [==============================] - 0s 15ms/step - loss: 1.5843 - accuracy: 0.2348\n",
      "Epoch 2/50\n",
      "5/5 [==============================] - 0s 14ms/step - loss: 1.4944 - accuracy: 0.3333\n",
      "Epoch 3/50\n",
      "5/5 [==============================] - 0s 17ms/step - loss: 1.4367 - accuracy: 0.3712\n",
      "Epoch 4/50\n",
      "5/5 [==============================] - 0s 9ms/step - loss: 1.3578 - accuracy: 0.5152\n",
      "Epoch 5/50\n",
      "5/5 [==============================] - 0s 4ms/step - loss: 1.2876 - accuracy: 0.5455\n",
      "Epoch 6/50\n",
      "5/5 [==============================] - 0s 4ms/step - loss: 1.1632 - accuracy: 0.5379\n",
      "Epoch 7/50\n",
      "5/5 [==============================] - 0s 7ms/step - loss: 1.0495 - accuracy: 0.6515\n",
      "Epoch 8/50\n",
      "5/5 [==============================] - 0s 12ms/step - loss: 0.9773 - accuracy: 0.6364\n",
      "Epoch 9/50\n",
      "5/5 [==============================] - 0s 6ms/step - loss: 0.8712 - accuracy: 0.7121\n",
      "Epoch 10/50\n",
      "5/5 [==============================] - 0s 6ms/step - loss: 0.7525 - accuracy: 0.7576\n",
      "Epoch 11/50\n",
      "5/5 [==============================] - 0s 4ms/step - loss: 0.6996 - accuracy: 0.7803\n",
      "Epoch 12/50\n",
      "5/5 [==============================] - 0s 3ms/step - loss: 0.6466 - accuracy: 0.7652\n",
      "Epoch 13/50\n",
      "5/5 [==============================] - 0s 7ms/step - loss: 0.4926 - accuracy: 0.8485\n",
      "Epoch 14/50\n",
      "5/5 [==============================] - 0s 1ms/step - loss: 0.4683 - accuracy: 0.8485\n",
      "Epoch 15/50\n",
      "5/5 [==============================] - 0s 3ms/step - loss: 0.4038 - accuracy: 0.8485\n",
      "Epoch 16/50\n",
      "5/5 [==============================] - 0s 3ms/step - loss: 0.3387 - accuracy: 0.8712\n",
      "Epoch 17/50\n",
      "5/5 [==============================] - 0s 3ms/step - loss: 0.3582 - accuracy: 0.8636\n",
      "Epoch 18/50\n",
      "5/5 [==============================] - 0s 4ms/step - loss: 0.2798 - accuracy: 0.9015\n",
      "Epoch 19/50\n",
      "5/5 [==============================] - 0s 7ms/step - loss: 0.3518 - accuracy: 0.8864\n",
      "Epoch 20/50\n",
      "5/5 [==============================] - 0s 6ms/step - loss: 0.3482 - accuracy: 0.8788\n",
      "Epoch 21/50\n",
      "5/5 [==============================] - 0s 7ms/step - loss: 0.3612 - accuracy: 0.8788\n",
      "Epoch 22/50\n",
      "5/5 [==============================] - 0s 7ms/step - loss: 0.2513 - accuracy: 0.9167\n",
      "Epoch 23/50\n",
      "5/5 [==============================] - 0s 5ms/step - loss: 0.2608 - accuracy: 0.9167\n",
      "Epoch 24/50\n",
      "5/5 [==============================] - 0s 3ms/step - loss: 0.2019 - accuracy: 0.9318\n",
      "Epoch 25/50\n",
      "5/5 [==============================] - 0s 3ms/step - loss: 0.1829 - accuracy: 0.9242\n",
      "Epoch 26/50\n",
      "5/5 [==============================] - 0s 6ms/step - loss: 0.2275 - accuracy: 0.9318\n",
      "Epoch 27/50\n",
      "5/5 [==============================] - 0s 3ms/step - loss: 0.1843 - accuracy: 0.9394\n",
      "Epoch 28/50\n",
      "5/5 [==============================] - 0s 3ms/step - loss: 0.1319 - accuracy: 0.9621\n",
      "Epoch 29/50\n",
      "5/5 [==============================] - 0s 3ms/step - loss: 0.3835 - accuracy: 0.8788\n",
      "Epoch 30/50\n",
      "5/5 [==============================] - 0s 3ms/step - loss: 0.2772 - accuracy: 0.9091\n",
      "Epoch 31/50\n",
      "5/5 [==============================] - 0s 7ms/step - loss: 0.2419 - accuracy: 0.9318\n",
      "Epoch 32/50\n",
      "5/5 [==============================] - 0s 5ms/step - loss: 0.1295 - accuracy: 0.9470\n",
      "Epoch 33/50\n",
      "5/5 [==============================] - 0s 3ms/step - loss: 0.1749 - accuracy: 0.9394\n",
      "Epoch 34/50\n",
      "5/5 [==============================] - 0s 7ms/step - loss: 0.1251 - accuracy: 0.9470\n",
      "Epoch 35/50\n",
      "5/5 [==============================] - 0s 6ms/step - loss: 0.1639 - accuracy: 0.9318\n",
      "Epoch 36/50\n",
      "5/5 [==============================] - 0s 4ms/step - loss: 0.1104 - accuracy: 0.9621\n",
      "Epoch 37/50\n",
      "5/5 [==============================] - 0s 5ms/step - loss: 0.0568 - accuracy: 0.9924\n",
      "Epoch 38/50\n",
      "5/5 [==============================] - 0s 5ms/step - loss: 0.0582 - accuracy: 0.9848\n",
      "Epoch 39/50\n",
      "5/5 [==============================] - 0s 4ms/step - loss: 0.0471 - accuracy: 0.9848\n",
      "Epoch 40/50\n",
      "5/5 [==============================] - 0s 5ms/step - loss: 0.0421 - accuracy: 0.9848\n",
      "Epoch 41/50\n",
      "5/5 [==============================] - 0s 5ms/step - loss: 0.0323 - accuracy: 1.0000\n",
      "Epoch 42/50\n",
      "5/5 [==============================] - 0s 5ms/step - loss: 0.0222 - accuracy: 1.0000\n",
      "Epoch 43/50\n",
      "5/5 [==============================] - 0s 5ms/step - loss: 0.0132 - accuracy: 1.0000\n",
      "Epoch 44/50\n",
      "5/5 [==============================] - 0s 5ms/step - loss: 0.0119 - accuracy: 1.0000\n",
      "Epoch 45/50\n",
      "5/5 [==============================] - 0s 3ms/step - loss: 0.0134 - accuracy: 1.0000\n",
      "Epoch 46/50\n",
      "5/5 [==============================] - 0s 5ms/step - loss: 0.0400 - accuracy: 0.9848\n",
      "Epoch 47/50\n",
      "5/5 [==============================] - 0s 5ms/step - loss: 0.0247 - accuracy: 1.0000\n",
      "Epoch 48/50\n",
      "5/5 [==============================] - 0s 4ms/step - loss: 0.0180 - accuracy: 0.9924\n",
      "Epoch 49/50\n",
      "5/5 [==============================] - 0s 5ms/step - loss: 0.0075 - accuracy: 1.0000\n",
      "Epoch 50/50\n",
      "5/5 [==============================] - 0s 5ms/step - loss: 0.0136 - accuracy: 0.9924\n"
     ]
    },
    {
     "data": {
      "text/plain": [
       "<tensorflow.python.keras.callbacks.History at 0x23c2e6b2040>"
      ]
     },
     "execution_count": 47,
     "metadata": {},
     "output_type": "execute_result"
    }
   ],
   "source": [
    "model.fit(X_train_indices, Y_train_oh, epochs = 50, batch_size = 32, shuffle=True)"
   ]
  },
  {
   "cell_type": "markdown",
   "id": "cea30e1c-24e7-4d6a-b190-b412ecc30474",
   "metadata": {},
   "source": [
    "Your model should perform around __90% to 100% accuracy__ on the training set. Exact model accuracy may vary!\n",
    "\n",
    "Run the following cell to evaluate your model on the test set:"
   ]
  },
  {
   "cell_type": "code",
   "execution_count": 48,
   "id": "7de6ffa4-5b4e-4ae1-986c-bcef813f41db",
   "metadata": {},
   "outputs": [
    {
     "name": "stdout",
     "output_type": "stream",
     "text": [
      "2/2 [==============================] - 0s 10ms/step - loss: 0.2358 - accuracy: 0.8929\n",
      "\n",
      "Test accuracy =  0.8928571343421936\n"
     ]
    }
   ],
   "source": [
    "X_test_indices = sentences_to_indices(X_test, word_to_index, max_len = maxLen)\n",
    "Y_test_oh = convert_to_one_hot(Y_test, C = 5)\n",
    "loss, acc = model.evaluate(X_test_indices, Y_test_oh)\n",
    "print()\n",
    "print(\"Test accuracy = \", acc)"
   ]
  },
  {
   "cell_type": "markdown",
   "id": "2c9bb43d-01fd-4b1f-806d-f2fb823d8e19",
   "metadata": {},
   "source": [
    "You should get a test accuracy between 80% and 95%. Run the cell below to see the mislabelled examples:"
   ]
  },
  {
   "cell_type": "code",
   "execution_count": 56,
   "id": "1e2cc114-75a6-4b16-80a4-15d5342bfdcb",
   "metadata": {},
   "outputs": [
    {
     "name": "stdout",
     "output_type": "stream",
     "text": [
      "Expected emoji:😞 prediction: work is hard\t😄\n",
      "Expected emoji:😞 prediction: This girl is messing with me\t❤️\n",
      "Expected emoji:❤️ prediction: I love taking breaks\t😞\n",
      "Expected emoji:😞 prediction: she is a bully\t❤️\n",
      "Expected emoji:❤️ prediction: I love you to the stars and back\t😄\n",
      "Expected emoji:😞 prediction: go away\t⚾\n"
     ]
    }
   ],
   "source": [
    "# This code allows you to see the mislabelled examples\n",
    "C = 5\n",
    "y_test_oh = np.eye(C)[Y_test.reshape(-1)]\n",
    "X_test_indices = sentences_to_indices(X_test, word_to_index, maxLen)\n",
    "pred = model.predict(X_test_indices)\n",
    "for i in range(len(X_test)):\n",
    "    x = X_test_indices\n",
    "    num = np.argmax(pred[i])\n",
    "    if(num != Y_test[i]):\n",
    "        print('Expected emoji:'+ label_to_emoji(Y_test[i]) + ' prediction: '+ X_test[i] + label_to_emoji(num).strip())\n"
   ]
  },
  {
   "cell_type": "code",
   "execution_count": 57,
   "id": "3fe1d36f-78b7-4847-ae74-b9b3bc7a0aee",
   "metadata": {},
   "outputs": [
    {
     "name": "stdout",
     "output_type": "stream",
     "text": [
      "I cannot play ⚾\n"
     ]
    }
   ],
   "source": [
    "# Change the sentence below to see your prediction. Make sure all the words are in the Glove embeddings.  \n",
    "x_test = np.array(['I cannot play'])\n",
    "X_test_indices = sentences_to_indices(x_test, word_to_index, maxLen)\n",
    "print(x_test[0] +' '+  label_to_emoji(np.argmax(model.predict(X_test_indices))))"
   ]
  },
  {
   "cell_type": "markdown",
   "id": "9e3f9f7b-e6f4-4de8-bf45-daf5000c53df",
   "metadata": {},
   "source": [
    "## LSTM Version Accounts for Word Order\n",
    "The Emojify-V1 model did not \"not feeling happy\" correctly, but your implementation of Emojify-V2 got it right!\n",
    "If it didn't, be aware that Keras' outputs are slightly random each time, so this is probably why.\n",
    "The current model still isn't very robust at understanding negation (such as \"not happy\")\n",
    "This is because the training set is small and doesn't have a lot of examples of negation.\n",
    "If the training set were larger, the LSTM model would be much better than the Emojify-V1 model at understanding more complex sentences."
   ]
  },
  {
   "cell_type": "code",
   "execution_count": 58,
   "id": "144cefb9-6e2f-4acb-9691-227c478d90f7",
   "metadata": {},
   "outputs": [
    {
     "name": "stdout",
     "output_type": "stream",
     "text": [
      "Congratulations on finishing this assignment and building an Emojifier. 😄\n"
     ]
    }
   ],
   "source": [
    "# Change the sentence below to see your prediction. Make sure all the words are in the Glove embeddings.  \n",
    "x_test = np.array([\"Congratulations on finishing this assignment and building an Emojifier.\"])\n",
    "X_test_indices = sentences_to_indices(x_test, word_to_index, maxLen)\n",
    "print(x_test[0] +' '+  label_to_emoji(np.argmax(model.predict(X_test_indices))))"
   ]
  },
  {
   "cell_type": "code",
   "execution_count": null,
   "id": "9357be66-89ad-4869-85a8-bdd3fc0ddfa0",
   "metadata": {},
   "outputs": [],
   "source": []
  }
 ],
 "metadata": {
  "kernelspec": {
   "display_name": "Python 3 (ipykernel)",
   "language": "python",
   "name": "python3"
  },
  "language_info": {
   "codemirror_mode": {
    "name": "ipython",
    "version": 3
   },
   "file_extension": ".py",
   "mimetype": "text/x-python",
   "name": "python",
   "nbconvert_exporter": "python",
   "pygments_lexer": "ipython3",
   "version": "3.8.20"
  }
 },
 "nbformat": 4,
 "nbformat_minor": 5
}
