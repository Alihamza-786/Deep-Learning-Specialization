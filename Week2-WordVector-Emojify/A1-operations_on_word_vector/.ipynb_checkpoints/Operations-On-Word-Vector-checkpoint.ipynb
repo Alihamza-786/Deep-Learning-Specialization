{
 "cells": [
  {
   "cell_type": "markdown",
   "id": "412dabce-74ac-410c-adba-177cf5ce68db",
   "metadata": {},
   "source": [
    "# Operations on Word Vectors\n",
    "Welcome to your first assignment of Week 2, Course 5 of the Deep Learning Specialization!\n",
    "\n",
    "Because word embeddings are very computationally expensive to train, most ML practitioners will load a pre-trained set of embeddings. In this notebook you'll try your hand at loading, measuring similarity between, and modifying pre-trained embeddings.\n",
    "\n",
    "## After this assignment you'll be able to:\n",
    "\n",
    "- Explain how word embeddings capture relationships between words\n",
    "- Load pre-trained word vectors\n",
    "- Measure similarity between word vectors using cosine similarity\n",
    "- Use word embeddings to solve word analogy problems such as Man is to Woman as King is to ______.\n",
    "  \n",
    "At the end of this notebook you'll have a chance to try an optional exercise, where you'll modify word embeddings to reduce their gender bias. Reducing bias is an important consideration in ML, so you're encouraged to take this challenge!"
   ]
  },
  {
   "cell_type": "code",
   "execution_count": 1,
   "id": "fe71e3e6-d54f-4102-8da5-9bca5e4e7240",
   "metadata": {},
   "outputs": [],
   "source": [
    "import numpy as np\n",
    "from w2v_utils import *"
   ]
  },
  {
   "cell_type": "code",
   "execution_count": 24,
   "id": "78daf55f-bb70-4f17-aec6-763f5c913d45",
   "metadata": {},
   "outputs": [],
   "source": [
    "words, word_to_vec_map = read_glove_vecs('data/glove.6B.50d.txt')"
   ]
  },
  {
   "cell_type": "markdown",
   "id": "23b0a7bf-fec3-4b99-9995-700dca829a6f",
   "metadata": {},
   "source": [
    "## 2 - Embedding Vectors Versus One-Hot Vectors\n",
    "Recall from the lesson videos that one-hot vectors don't do a good job of capturing the level of similarity between words. This is because every one-hot vector has the same Euclidean distance from any other one-hot vector.\n",
    "\n",
    "Embedding vectors, such as GloVe vectors, provide much more useful information about the meaning of individual words.\n",
    "Now, see how you can use GloVe vectors to measure the similarity between two words!"
   ]
  },
  {
   "cell_type": "markdown",
   "id": "bcff01f2-8bd6-4a64-965f-41674a8ccd3d",
   "metadata": {},
   "source": [
    "## 3 - Cosine Similarity\n",
    "To measure the similarity between two words, you need a way to measure the degree of similarity between two embedding vectors for the two words. Given two vectors __u__ and __v__, cosine similarity is defined as follows:\n",
    "$$CosineSimilarity(u,v) = \\frac{u.v}{||u||_2 \\;||v||_2} = cos(θ) \\tag {1}$$\n",
    " \n",
    " \n",
    "\n",
    " - u.v is the dot product (or inner product) of two vectors\n",
    " - $||u||_2$is the norm (or length) of the vector \n",
    " - θ is the angle between u and v\n",
    "- The cosine similarity depends on the angle between u and v\n",
    "\t- If u and v are very similar, their cosine similarity will be close to 1.\n",
    "\t- If they are dissimilar, the cosine similarity will take a smaller value."
   ]
  },
  {
   "cell_type": "markdown",
   "id": "fea0475e-b8f9-44de-8dbb-a55664fd34f1",
   "metadata": {},
   "source": [
    "![Cosine](images/cosine.png)"
   ]
  },
  {
   "cell_type": "markdown",
   "id": "47b75bbe-6832-4286-b9fa-9ea95ff61a68",
   "metadata": {},
   "source": [
    "## Exercise 1 - cosine_similarity\n",
    "Implement the function cosine_similarity() to evaluate the similarity between word vectors.\n",
    "\n",
    "Reminder: The norm of u is defined as $||u||_2$ = $\\sqrt{∑^n_{i=1} u^2_i}$\n",
    "\n",
    "$$CosineSimilarity(u,v) = \\frac{u.v}{||u||_2 \\;||v||_2} = cos(θ)$$\n",
    "\n",
    "### Additional Hints\n",
    "You may find np.dot, np.sum, or np.sqrt useful depending upon the implementation that you choose."
   ]
  },
  {
   "cell_type": "code",
   "execution_count": 43,
   "id": "2a2a9568-9f4e-42b3-8d22-3226ee5f729b",
   "metadata": {},
   "outputs": [],
   "source": [
    "def cosine_similarity(u,v):\n",
    "    if np.all(u==v):\n",
    "        return 1\n",
    "    dot = np.dot(u,v)\n",
    "    norm_u = np.sqrt(np.sum(u*u))\n",
    "    norm_v = np.sqrt(np.sum(v*v))\n",
    "\n",
    "    cosine_similarity = dot / (norm_u * norm_v)\n",
    "    return cosine_similarity"
   ]
  },
  {
   "cell_type": "code",
   "execution_count": 26,
   "id": "abed77a0-2d27-4e05-920d-724eeaf9241e",
   "metadata": {},
   "outputs": [
    {
     "name": "stdout",
     "output_type": "stream",
     "text": [
      "cosine_similarity(father, mother) =  0.8909038442893615\n",
      "cosine_similarity(ball, crocodile) =  0.27439246261379424\n",
      "cosine_similarity(france - paris, rome - italy) =  -0.6751479308174201\n",
      "\u001b[92mAll test passed!\n"
     ]
    }
   ],
   "source": [
    "father = word_to_vec_map[\"father\"]\n",
    "mother = word_to_vec_map[\"mother\"]\n",
    "ball = word_to_vec_map[\"ball\"]\n",
    "crocodile = word_to_vec_map[\"crocodile\"]\n",
    "france = word_to_vec_map[\"france\"]\n",
    "italy = word_to_vec_map[\"italy\"]\n",
    "paris = word_to_vec_map[\"paris\"]\n",
    "rome = word_to_vec_map[\"rome\"]\n",
    "\n",
    "print(\"cosine_similarity(father, mother) = \", cosine_similarity(father, mother))\n",
    "print(\"cosine_similarity(ball, crocodile) = \",cosine_similarity(ball, crocodile))\n",
    "print(\"cosine_similarity(france - paris, rome - italy) = \",cosine_similarity(france - paris, rome - italy))\n",
    "# END SKIP FOR GRADING\n",
    "\n",
    "# PUBLIC TESTS\n",
    "def cosine_similarity_test(target):\n",
    "    a = np.random.uniform(-10, 10, 10)\n",
    "    b = np.random.uniform(-10, 10, 10)\n",
    "    c = np.random.uniform(-1, 1, 23)\n",
    "        \n",
    "    assert np.isclose(cosine_similarity(a, a), 1), \"cosine_similarity(a, a) must be 1\"\n",
    "    assert np.isclose(cosine_similarity((c >= 0) * 1, (c < 0) * 1), 0), \"cosine_similarity(a, not(a)) must be 0\"\n",
    "    assert np.isclose(cosine_similarity(a, -a), -1), \"cosine_similarity(a, -a) must be -1\"\n",
    "    assert np.isclose(cosine_similarity(a, b), cosine_similarity(a * 2, b * 4)), \"cosine_similarity must be scale-independent. You must divide by the product of the norms of each input\"\n",
    "\n",
    "    print(\"\\033[92mAll test passed!\")\n",
    "    \n",
    "cosine_similarity_test(cosine_similarity)"
   ]
  },
  {
   "cell_type": "markdown",
   "id": "b795af1a-c037-4e5d-bc6d-6ca62d9b363c",
   "metadata": {},
   "source": [
    "## 4 - Word Analogy Task\n",
    "- In the word analogy task, complete this sentence:\n",
    "\"a is to b as c is to ____\".\n",
    "\n",
    "- An example is:\n",
    "'man is to woman as king is to queen' .\n",
    "\n",
    "- You're trying to find a word d, such that the associated word vectors $e_a, e_b, e_c, e_d$\n",
    " are related in the following manner:\n",
    "$e_b - e_a ≈ e_d - e_c$\n",
    "- Measure the similarity between $e_b - e_a$ and $e_d - e_c$ using cosine similarity.\n",
    "\n",
    "\n",
    "## Exercise 2 - complete_analogy"
   ]
  },
  {
   "cell_type": "code",
   "execution_count": 30,
   "id": "8bbe69a6-44ee-445c-9a77-7bfad2ed1c07",
   "metadata": {},
   "outputs": [],
   "source": [
    "def complete_analogy(word_a, word_b, word_c, word_to_vec_map):\n",
    "    \"\"\"\n",
    "    Performs the word analogy task as explained above: a is to b as c is to ____. \n",
    "    \n",
    "    Arguments:\n",
    "    word_a -- a word, string\n",
    "    word_b -- a word, string\n",
    "    word_c -- a word, string\n",
    "    word_to_vec_map -- dictionary that maps words to their corresponding vectors. \n",
    "    \n",
    "    Returns:\n",
    "    best_word --  the word such that v_b - v_a is close to v_best_word - v_c, as measured by cosine similarity\n",
    "    \"\"\"\n",
    "    \n",
    "    # convert words to lowercase\n",
    "    word_a, word_b, word_c = word_a.lower(), word_b.lower(), word_c.lower()\n",
    "    \n",
    "    ### START CODE HERE ###\n",
    "    # Get the word embeddings e_a, e_b and e_c (≈1-3 lines)\n",
    "    e_a, e_b, e_c = word_to_vec_map[word_a], word_to_vec_map[word_b], word_to_vec_map[word_c]\n",
    "    ### END CODE HERE ###\n",
    "    \n",
    "    words = word_to_vec_map.keys()\n",
    "    max_cosine_sim = -100              # Initialize max_cosine_sim to a large negative number\n",
    "    best_word = None                   # Initialize best_word with None, it will help keep track of the word to output\n",
    "    \n",
    "    # loop over the whole word vector set\n",
    "    for w in words:   \n",
    "        # to avoid best_word being one the input words, skip the input word_c\n",
    "        # skip word_c from query\n",
    "        if w == word_c:\n",
    "            continue\n",
    "        \n",
    "        ### START CODE HERE ###\n",
    "        # Compute cosine similarity between the vector (e_b - e_a) and the vector ((w's vector representation) - e_c)  (≈1 line)\n",
    "        cosine_sim = cosine_similarity(e_b - e_a, word_to_vec_map[w] - e_c)\n",
    "        \n",
    "        # If the cosine_sim is more than the max_cosine_sim seen so far,\n",
    "            # then: set the new max_cosine_sim to the current cosine_sim and the best_word to the current word (≈3 lines)\n",
    "        if cosine_sim > max_cosine_sim:\n",
    "            max_cosine_sim = cosine_sim\n",
    "            best_word = w\n",
    "        ### END CODE HERE ###\n",
    "        \n",
    "    return best_word"
   ]
  },
  {
   "cell_type": "code",
   "execution_count": 31,
   "id": "725153b9-4fb2-439a-96b5-675a1aa93105",
   "metadata": {},
   "outputs": [
    {
     "name": "stdout",
     "output_type": "stream",
     "text": [
      "\u001b[92mAll tests passed\n"
     ]
    },
    {
     "name": "stderr",
     "output_type": "stream",
     "text": [
      "C:\\Users\\theha\\AppData\\Local\\Temp\\ipykernel_13984\\4163701915.py:8: RuntimeWarning: invalid value encountered in true_divide\n",
      "  cosine_similarity = dot / (norm_u * norm_v)\n"
     ]
    }
   ],
   "source": [
    "# PUBLIC TEST\n",
    "def complete_analogy_test(target):\n",
    "    a = [3, 3] # Center at a\n",
    "    a_nw = [2, 4] # North-West oriented vector from a\n",
    "    a_s = [3, 2] # South oriented vector from a\n",
    "    \n",
    "    c = [-2, 1] # Center at c\n",
    "    # Create a controlled word to vec map\n",
    "    word_to_vec_map = {'a': a,\n",
    "                       'synonym_of_a': a,\n",
    "                       'a_nw': a_nw, \n",
    "                       'a_s': a_s, \n",
    "                       'c': c, \n",
    "                       'c_n': [-2, 2], # N\n",
    "                       'c_ne': [-1, 2], # NE\n",
    "                       'c_e': [-1, 1], # E\n",
    "                       'c_se': [-1, 0], # SE\n",
    "                       'c_s': [-2, 0], # S\n",
    "                       'c_sw': [-3, 0], # SW\n",
    "                       'c_w': [-3, 1], # W\n",
    "                       'c_nw': [-3, 2] # NW\n",
    "                      }\n",
    "    \n",
    "    # Convert lists to np.arrays\n",
    "    for key in word_to_vec_map.keys():\n",
    "        word_to_vec_map[key] = np.array(word_to_vec_map[key])\n",
    "            \n",
    "    assert(target('a', 'a_nw', 'c', word_to_vec_map) == 'c_nw')\n",
    "    assert(target('a', 'a_s', 'c', word_to_vec_map) == 'c_s')\n",
    "    assert(target('a', 'synonym_of_a', 'c', word_to_vec_map) != 'c'), \"Best word cannot be input query\"\n",
    "    assert(target('a', 'c', 'a', word_to_vec_map) == 'c')\n",
    "\n",
    "    print(\"\\033[92mAll tests passed\")\n",
    "    \n",
    "complete_analogy_test(complete_analogy)"
   ]
  },
  {
   "cell_type": "code",
   "execution_count": 32,
   "id": "4253fc3c-f649-445c-bb74-037315bd5b2d",
   "metadata": {},
   "outputs": [
    {
     "name": "stdout",
     "output_type": "stream",
     "text": [
      "italy -> italian :: spain -> spanish\n",
      "india -> delhi :: japan -> tokyo\n",
      "man -> woman :: boy -> girl\n",
      "small -> smaller :: large -> smaller\n"
     ]
    }
   ],
   "source": [
    "# START SKIP FOR GRADING\n",
    "triads_to_try = [('italy', 'italian', 'spain'), ('india', 'delhi', 'japan'), ('man', 'woman', 'boy'), ('small', 'smaller', 'large')]\n",
    "for triad in triads_to_try:\n",
    "    print ('{} -> {} :: {} -> {}'.format( *triad, complete_analogy(*triad, word_to_vec_map)))"
   ]
  },
  {
   "cell_type": "markdown",
   "id": "d98c9fe2-6871-4efd-ae47-e34fbf7c7957",
   "metadata": {},
   "source": [
    "# 5 - Debiasing Word Vectors (OPTIONAL/UNGRADED)\n",
    "In the following exercise, you'll examine gender biases that can be reflected in a word embedding, and explore algorithms for reducing the bias. In addition to learning about the topic of debiasing, this exercise will also help hone your intuition about what word vectors are doing. This section involves a bit of linear algebra, though you can certainly complete it without being an expert! Go ahead and give it a shot. This portion of the notebook is optional and is not graded...so just have fun and explore.\n",
    "\n",
    "First, see how the GloVe word embeddings relate to gender. You'll begin by computing a vector g = $e_{woman} - e_{man}$, where $e_{woman}$ represents the word vector corresponding to the word woman, and $e_man$ corresponds to the word vector corresponding to the word man. The resulting vector \n",
    "__g__ roughly encodes the concept of \"gender\".\n",
    "\n",
    "You might get a more accurate representation if you compute $g1 = e_{mother} - e_{father}, = e_{girl} - e_{boy},$ etc. and average over them, but just using $e_{woman} -e_{man}$ will give good enough results for now."
   ]
  },
  {
   "cell_type": "code",
   "execution_count": 33,
   "id": "f81a58a5-2e9b-471d-9a61-81a68e3587fc",
   "metadata": {},
   "outputs": [
    {
     "name": "stdout",
     "output_type": "stream",
     "text": [
      "[-0.087144    0.2182     -0.40986    -0.03922    -0.1032      0.94165\n",
      " -0.06042     0.32988     0.46144    -0.35962     0.31102    -0.86824\n",
      "  0.96006     0.01073     0.24337     0.08193    -1.02722    -0.21122\n",
      "  0.695044   -0.00222     0.29106     0.5053     -0.099454    0.40445\n",
      "  0.30181     0.1355     -0.0606     -0.07131    -0.19245    -0.06115\n",
      " -0.3204      0.07165    -0.13337    -0.25068714 -0.14293    -0.224957\n",
      " -0.149       0.048882    0.12191    -0.27362    -0.165476   -0.20426\n",
      "  0.54376    -0.271425   -0.10245    -0.32108     0.2516     -0.33455\n",
      " -0.04371     0.01258   ]\n"
     ]
    }
   ],
   "source": [
    "g = word_to_vec_map['woman'] - word_to_vec_map['man']\n",
    "print(g)"
   ]
  },
  {
   "cell_type": "markdown",
   "id": "df204304-c355-4729-ac7a-ee3609c519bb",
   "metadata": {},
   "source": [
    "Now, consider the cosine similarity of different words with __g__. What does a positive value of similarity mean, versus a negative cosine similarity?"
   ]
  },
  {
   "cell_type": "code",
   "execution_count": 34,
   "id": "dfb90e8c-7406-4b44-894a-f8c8034274c9",
   "metadata": {},
   "outputs": [
    {
     "name": "stdout",
     "output_type": "stream",
     "text": [
      "List of names and their similarities with constructed vector:\n",
      "john -0.23163356145973724\n",
      "marie 0.31559793539607295\n",
      "sophie 0.31868789859418784\n",
      "ronaldo -0.3124479685032943\n",
      "priya 0.17632041839009407\n",
      "rahul -0.16915471039231722\n",
      "danielle 0.24393299216283892\n",
      "reza -0.0793042967219955\n",
      "katy 0.2831068659572615\n",
      "yasmin 0.23313857767928753\n"
     ]
    }
   ],
   "source": [
    "print ('List of names and their similarities with constructed vector:')\n",
    "\n",
    "# girls and boys name\n",
    "name_list = ['john', 'marie', 'sophie', 'ronaldo', 'priya', 'rahul', 'danielle', 'reza', 'katy', 'yasmin']\n",
    "\n",
    "for w in name_list:\n",
    "    print (w, cosine_similarity(word_to_vec_map[w], g))"
   ]
  },
  {
   "cell_type": "markdown",
   "id": "ed3881a2-b9ee-48ae-80df-f919aaaa0760",
   "metadata": {},
   "source": [
    "As you can see, female first names tend to have a positive cosine similarity with our constructed vector \n",
    ", while male first names tend to have a negative cosine similarity. This is not surprising, and the result seems acceptable.\n",
    "\n",
    "Now try with some other words:"
   ]
  },
  {
   "cell_type": "code",
   "execution_count": 36,
   "id": "3ac1f459-49f4-4f6d-b962-e208427308a7",
   "metadata": {},
   "outputs": [
    {
     "name": "stdout",
     "output_type": "stream",
     "text": [
      "Other words and their similarities:\n",
      "\n",
      "lipstick 0.2769191625638267\n",
      "guns -0.1888485567898898\n",
      "science -0.060829065409296994\n",
      "arts 0.008189312385880351\n",
      "literature 0.0647250443345993\n",
      "warrior -0.20920164641125288\n",
      "doctor 0.1189528941093504\n",
      "tree -0.07089399175478091\n",
      "receptionist 0.3307794175059374\n",
      "technology -0.13193732447554293\n",
      "fashion 0.03563894625772701\n",
      "teacher 0.1792092343182567\n",
      "engineer -0.08039280494524072\n",
      "pilot 0.0010764498991917152\n",
      "computer -0.10330358873850494\n",
      "singer 0.1850051813649629\n"
     ]
    }
   ],
   "source": [
    "print('Other words and their similarities:\\n')\n",
    "word_list = ['lipstick', 'guns', 'science', 'arts', 'literature', 'warrior','doctor', 'tree', 'receptionist', \n",
    "             'technology',  'fashion', 'teacher', 'engineer', 'pilot', 'computer', 'singer']\n",
    "for w in word_list:\n",
    "    print (w, cosine_similarity(word_to_vec_map[w], g))"
   ]
  },
  {
   "cell_type": "markdown",
   "id": "04a709a8-ecf3-473d-a9f1-23e1b5a69d40",
   "metadata": {},
   "source": [
    "Do you notice anything surprising? It is astonishing how these results reflect certain unhealthy gender stereotypes. For example, we see “computer” is negative and is closer in value to male first names, while “literature” is positive and is closer to female first names. Ouch!\n",
    "\n",
    "You'll see below how to reduce the bias of these vectors, using an algorithm due to Boliukbasi et al., 2016. Note that some word pairs such as \"actor\"/\"actress\" or \"grandmother\"/\"grandfather\" should remain gender-specific, while other words such as \"receptionist\" or \"technology\" should be neutralized, i.e. not be gender-related. You'll have to treat these two types of words differently when debiasing."
   ]
  },
  {
   "cell_type": "markdown",
   "id": "343a9b4a-f641-4efc-a568-0087e673e5de",
   "metadata": {},
   "source": [
    "You'll see below how to reduce the bias of these vectors, using an algorithm due to Boliukbasi et al., 2016. Note that some word pairs such as \"actor\"/\"actress\" or \"grandmother\"/\"grandfather\" should remain gender-specific, while other words such as \"receptionist\" or \"technology\" should be neutralized, i.e. not be gender-related. You'll have to treat these two types of words differently when debiasing."
   ]
  },
  {
   "cell_type": "markdown",
   "id": "912e82cf-7066-4f68-94b7-5bc2a0db96e7",
   "metadata": {},
   "source": [
    "# 5.1 - Neutralize Bias for Non-Gender Specific Words\n",
    "The figure below should help you visualize what neutralizing does. If you're using a 50-dimensional word embedding, the 50 dimensional space can be split into two parts: The bias-direction __g__, and the remaining 49 dimensions, which is called __g⊥__ here. In linear algebra, we say that the 49-dimensional __g⊥__ is perpendicular (or \"orthogonal\") to __g__, meaning it is at 90 degrees to __g__\n",
    ". The neutralization step takes a vector such as __$e_{receptionist}$__ and zeros out the component in the direction of __g__, giving us $e^{debiased}_{receptionist}$.\n",
    "\n",
    "Even though __g⊥__ is 49-dimensional, given the limitations of what you can draw on a 2D screen, it's illustrated using a 1-dimensional axis below."
   ]
  },
  {
   "cell_type": "markdown",
   "id": "2247c6f5-7e28-4076-a138-03b31f6b63cd",
   "metadata": {},
   "source": [
    "![Bias](images/bias.png)"
   ]
  },
  {
   "cell_type": "markdown",
   "id": "05a6ca40-404d-4476-b81e-cc6ff9d513da",
   "metadata": {},
   "source": [
    "## Exercise 3 - neutralize\n",
    "Implement neutralize() to remove the bias of words such as \"receptionist\" or \"scientist.\"\n",
    "\n",
    "Given an input embedding __e__, you can use the following formulas to compute e^{debiased} :\n",
    "\n",
    "$$e^{biasComponent} = \\frac {e.g}{||g||^2_2} * g \\tag {2}$$\n",
    "\n",
    "$$e^{debiased} =  e - e^{biasComponent} \\tag {3}$$\n",
    "\n",
    "If you are an expert in linear algebra, you may recognize e^{bias_component} as the projection of __e__ onto the direction __g__. If you're not an expert in linear algebra, don't worry about this. ;)"
   ]
  },
  {
   "cell_type": "code",
   "execution_count": 40,
   "id": "3169bbfb-51f9-47cf-915d-afd73cc52301",
   "metadata": {},
   "outputs": [],
   "source": [
    "def neutralize(word, g, word_to_vec_map):\n",
    "    e = word_to_vec_map[word]\n",
    "    g_norm_squared = np.sum(g*g)\n",
    "    e_biascomponent = (np.dot(e,g) / g_norm_squared) * g\n",
    "    e_debiased = e - e_biascomponent\n",
    "    return e_debiased"
   ]
  },
  {
   "cell_type": "code",
   "execution_count": 41,
   "id": "29076fbe-1562-477d-a28d-0d24aa44184f",
   "metadata": {},
   "outputs": [
    {
     "name": "stdout",
     "output_type": "stream",
     "text": [
      "cosine similarity between receptionistand g, before neutralizing:  0.3307794175059374\n",
      "cosine similarity between receptionistand g, after neutralizing:  -5.2569290990191626e-17\n"
     ]
    }
   ],
   "source": [
    "e = \"receptionist\"\n",
    "print(\"cosine similarity between \" + e + \"and g, before neutralizing: \", cosine_similarity(word_to_vec_map[\"receptionist\"], g))\n",
    "\n",
    "e_debiased = neutralize(\"receptionist\", g, word_to_vec_map)\n",
    "print(\"cosine similarity between \" + e + \"and g, after neutralizing: \", cosine_similarity(e_debiased, g))\n"
   ]
  },
  {
   "cell_type": "markdown",
   "id": "f891f7f4-c4cf-4ed0-8223-36c674a1d1f8",
   "metadata": {},
   "source": [
    "$$ μ = \\frac {e_{w1}+e_{w2}}{2} \\tag{4}$$\n",
    "$$ μ_B =\\frac {μ \\;. bias\\_axis}{||bias\\_axis||^2_2} * bias\\_axis \\tag {5}$$\n",
    "\n",
    "$$ μ⊥ = μ- μ_B \\tag {6} $$ \n",
    "\n",
    "$$ e_{w1B} = \\frac {e_{w1} \\;. bias\\_axis} { ||bias\\_axis||^2_2} * bias\\_axis \\tag {7}$$\n",
    "$$ e_{w2B} = \\frac {e_{w2} \\;. bias\\_axis} { ||bias\\_axis||^2_2} * bias\\_axis \\tag {8}$$\n",
    "$$ e^{corrected}_{w1B} = \\sqrt{|1 - \\;||μ_⊥||^2_2 \\;|} * \\frac {e_{w1B} - μB}{||(e_{w1} - μ_⊥) - μ_B||_2} \\tag {9}$$\n",
    "$$ e^{corrected}_{w2B} = \\sqrt{|1 - \\;||μ_⊥||^2_2 \\;|} * \\frac {e_{w2B} - μB}{||(e_{w2} - μ_⊥) - μ_B||_2} \\tag {10}$$\n",
    "$$ e_1 = e^{corrected}_{w1B} + μ_⊥ \\tag {11}$$\n",
    "$$ e_2 = e^{corrected}_{w2B} + μ_⊥ \\tag {12}$$"
   ]
  },
  {
   "cell_type": "markdown",
   "id": "74645c29-b8b3-4e0f-bc74-f6fb6396f812",
   "metadata": {},
   "source": [
    "## Exercise 4 - equalize\n",
    "Implement the equalize() function below.\n",
    "\n",
    "Use the equations above to get the final equalized version of the pair of words. Good luck!\n",
    "\n",
    "- __Hint__\n",
    "\n",
    "- Use np.linalg.norm\n",
    "\n",
    "- Reminder: The norm of u is defined as $||u||_2$ = $\\sqrt{∑^n_{i=1} u^2_i}$\n",
    "\n",
    "- norm_u = np.sqrt(np.sum(u*u))"
   ]
  },
  {
   "cell_type": "code",
   "execution_count": 52,
   "id": "41b2c439-b79f-404a-a185-52ad0bc1627e",
   "metadata": {},
   "outputs": [],
   "source": [
    "def equalize(pair, bias_axis, word_to_vec_map):\n",
    "\n",
    "    #step 1\n",
    "    w1, w2 = pair\n",
    "    e_w1, e_w2 = word_to_vec_map[w1], word_to_vec_map[w2]\n",
    "\n",
    "    #step2\n",
    "    mu = (e_w1 + e_w2 ) / 2\n",
    "\n",
    "    #step3\n",
    "    bias_axis_sq = np.sum(bias_axis * bias_axis)\n",
    "    mu_B = (np.dot(mu, bias_axis) / bias_axis_sq) * bias_axis\n",
    "    mu_orth = mu - mu_B\n",
    "\n",
    "    #step 4\n",
    "    e_w1B = (np.dot(e_w1, bias_axis) / bias_axis_sq) * bias_axis\n",
    "    e_w2B = (np.dot(e_w2, bias_axis) / bias_axis_sq) * bias_axis\n",
    "\n",
    "    #step5\n",
    "    correction_term = np.sqrt(np.abs(1 - np.sum(mu_orth **2)))\n",
    "    \n",
    "    e_w1B_norm = np.sqrt(np.sum(((e_w1 - mu_orth) - mu_B) ** 2))\n",
    "    e_w2B_norm = np.sqrt(np.sum(((e_w2 - mu_orth) - mu_B) ** 2))\n",
    "    \n",
    "    corrected_e_w1B = correction_term * ((e_w1B - mu_B) / e_w1B_norm)\n",
    "    corrected_e_w2B = correction_term * ((e_w2B - mu_B) / e_w2B_norm)\n",
    "\n",
    "    #step6\n",
    "    e1 = corrected_e_w1B + mu_orth\n",
    "    e2 = corrected_e_w2B + mu_orth\n",
    "\n",
    "    return e1, e2"
   ]
  },
  {
   "cell_type": "code",
   "execution_count": 53,
   "id": "04c1d42d-4e28-4374-909d-564f6082218b",
   "metadata": {},
   "outputs": [
    {
     "name": "stdout",
     "output_type": "stream",
     "text": [
      "cosine similarities before equalizing:\n",
      "cosine_similarity(word_to_vec_map[\"man\"], gender) =  -0.1171109576533683\n",
      "cosine_similarity(word_to_vec_map[\"woman\"], gender) =  0.3566661884627037\n",
      "\n",
      "cosine similarities after equalizing:\n",
      "cosine_similarity(e1, gender) =  -0.7004364289309387\n",
      "cosine_similarity(e2, gender) =  0.7004364289309387\n"
     ]
    }
   ],
   "source": [
    "print(\"cosine similarities before equalizing:\")\n",
    "print(\"cosine_similarity(word_to_vec_map[\\\"man\\\"], gender) = \", cosine_similarity(word_to_vec_map[\"man\"], g))\n",
    "print(\"cosine_similarity(word_to_vec_map[\\\"woman\\\"], gender) = \", cosine_similarity(word_to_vec_map[\"woman\"], g))\n",
    "print()\n",
    "e1, e2 = equalize((\"man\", \"woman\"), g, word_to_vec_map)\n",
    "print(\"cosine similarities after equalizing:\")\n",
    "print(\"cosine_similarity(e1, gender) = \", cosine_similarity(e1, g))\n",
    "print(\"cosine_similarity(e2, gender) = \", cosine_similarity(e2, g))"
   ]
  },
  {
   "cell_type": "markdown",
   "id": "118286bc-f083-4f23-aa5d-00196d4a4e9b",
   "metadata": {},
   "source": [
    "## 6 - References\n",
    "- The debiasing algorithm is from Bolukbasi et al., 2016, Man is to Computer Programmer as Woman is to Homemaker? Debiasing Word Embeddings\n",
    "- The GloVe word embeddings were due to Jeffrey Pennington, Richard Socher, and Christopher D. Manning. (https://nlp.stanford.edu/projects/glove/)"
   ]
  }
 ],
 "metadata": {
  "kernelspec": {
   "display_name": "Python 3 (ipykernel)",
   "language": "python",
   "name": "python3"
  },
  "language_info": {
   "codemirror_mode": {
    "name": "ipython",
    "version": 3
   },
   "file_extension": ".py",
   "mimetype": "text/x-python",
   "name": "python",
   "nbconvert_exporter": "python",
   "pygments_lexer": "ipython3",
   "version": "3.8.20"
  }
 },
 "nbformat": 4,
 "nbformat_minor": 5
}
