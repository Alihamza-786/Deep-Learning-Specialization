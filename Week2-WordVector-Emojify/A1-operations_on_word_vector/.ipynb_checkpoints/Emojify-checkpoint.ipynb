{
 "cells": [
  {
   "cell_type": "markdown",
   "id": "4406f9e7-cf63-443a-b73d-2299a01c6731",
   "metadata": {},
   "source": [
    "# Emojify!\n",
    "Welcome to the second assignment of Week 2! You're going to use word vector representations to build an Emojifier. 🤩 💫 🔥\n",
    "\n",
    "Have you ever wanted to make your text messages more expressive? Your emojifier app will help you do that. Rather than writing:\n",
    "\n",
    "\"Congratulations on the promotion! Let's get coffee and talk. Love you!\"\n",
    "\n",
    "The emojifier can automatically turn this into:\n",
    "\n",
    "\"Congratulations on the promotion! 👍 Let's get coffee and talk. ☕️ Love you! ❤️\"\n",
    "\n",
    "You'll implement a model which inputs a sentence (such as \"Let's go see the baseball game tonight!\") and finds the most appropriate emoji to be used with this sentence (⚾️)."
   ]
  },
  {
   "cell_type": "markdown",
   "id": "4dfba7c0-c61b-4049-a7cd-7264f6b94437",
   "metadata": {},
   "source": [
    "## Using Word Vectors to Improve Emoji Lookups\n",
    "- In many emoji interfaces, you need to remember that ❤️ is the \"heart\" symbol rather than the \"love\" symbol.\n",
    "    - In other words, you'll have to remember to type \"heart\" to find the desired emoji, and typing \"love\" won't bring up that symbol.\n",
    "- You can make a more flexible emoji interface by using word vectors!\n",
    "- When using word vectors, you'll see that even if your training set explicitly relates only a few words to a particular emoji, your algorithm will be able to generalize and associate additional words in the test set to the same emoji.\n",
    "    - This works even if those additional words don't even appear in the training set.\n",
    "    - This allows you to build an accurate classifier mapping from sentences to emojis, even using a small training set."
   ]
  },
  {
   "cell_type": "markdown",
   "id": "65d6802f-d54a-4d36-8252-28a6482b2dca",
   "metadata": {},
   "source": [
    "## What you'll build:\n",
    "1. In this exercise, you'll start with a baseline model (Emojifier-V1) using word embeddings.\n",
    "2. Then you will build a more sophisticated model (Emojifier-V2) that further incorporates an LSTM.\n",
    "\n",
    "By the end of this notebook, you'll be able to:\n",
    "\n",
    "- Create an embedding layer in Keras with pre-trained word vectors\n",
    "- Explain the advantages and disadvantages of the GloVe algorithm\n",
    "- Describe how negative sampling learns word vectors more efficiently than other methods\n",
    "- Build a sentiment classifier using word embeddings\n",
    "- Build and train a more sophisticated classifier using an LSTM"
   ]
  },
  {
   "cell_type": "code",
   "execution_count": 2,
   "id": "5f14d1bd-6961-48ee-98dc-39edec421c27",
   "metadata": {},
   "outputs": [
    {
     "ename": "ModuleNotFoundError",
     "evalue": "No module named 'emo_utils'",
     "output_type": "error",
     "traceback": [
      "\u001b[1;31m---------------------------------------------------------------------------\u001b[0m",
      "\u001b[1;31mModuleNotFoundError\u001b[0m                       Traceback (most recent call last)",
      "Cell \u001b[1;32mIn[2], line 2\u001b[0m\n\u001b[0;32m      1\u001b[0m \u001b[38;5;28;01mimport\u001b[39;00m \u001b[38;5;21;01mnumpy\u001b[39;00m \u001b[38;5;28;01mas\u001b[39;00m \u001b[38;5;21;01mnp\u001b[39;00m\n\u001b[1;32m----> 2\u001b[0m \u001b[38;5;28;01mfrom\u001b[39;00m \u001b[38;5;21;01memo_utils\u001b[39;00m \u001b[38;5;28;01mimport\u001b[39;00m \u001b[38;5;241m*\u001b[39m\n\u001b[0;32m      3\u001b[0m \u001b[38;5;28;01mimport\u001b[39;00m \u001b[38;5;21;01memoji\u001b[39;00m\n\u001b[0;32m      4\u001b[0m \u001b[38;5;28;01mimport\u001b[39;00m \u001b[38;5;21;01mmatplotlib\u001b[39;00m\u001b[38;5;21;01m.\u001b[39;00m\u001b[38;5;21;01mpyplot\u001b[39;00m \u001b[38;5;28;01mas\u001b[39;00m \u001b[38;5;21;01mplt\u001b[39;00m\n",
      "\u001b[1;31mModuleNotFoundError\u001b[0m: No module named 'emo_utils'"
     ]
    }
   ],
   "source": [
    "import numpy as np\n",
    "from emo_utils import *\n",
    "import emoji\n",
    "import matplotlib.pyplot as plt\n",
    "from test_utils import *\n",
    "\n",
    "%matplotlib inline"
   ]
  },
  {
   "cell_type": "code",
   "execution_count": null,
   "id": "1fda41c8-249c-453f-b91a-fc7dd6eb0c43",
   "metadata": {},
   "outputs": [],
   "source": []
  }
 ],
 "metadata": {
  "kernelspec": {
   "display_name": "Python 3 (ipykernel)",
   "language": "python",
   "name": "python3"
  },
  "language_info": {
   "codemirror_mode": {
    "name": "ipython",
    "version": 3
   },
   "file_extension": ".py",
   "mimetype": "text/x-python",
   "name": "python",
   "nbconvert_exporter": "python",
   "pygments_lexer": "ipython3",
   "version": "3.8.20"
  }
 },
 "nbformat": 4,
 "nbformat_minor": 5
}
