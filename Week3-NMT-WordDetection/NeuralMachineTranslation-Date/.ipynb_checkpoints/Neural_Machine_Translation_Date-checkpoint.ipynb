{
 "cells": [
  {
   "cell_type": "markdown",
   "id": "5c484204-294e-4f56-a865-fdd7a1c4f237",
   "metadata": {},
   "source": [
    "# Neural Machine Translation\n",
    "Welcome to your first programming assignment for this week!\n",
    "\n",
    "- You will build a Neural Machine Translation (NMT) model to translate human-readable dates (\"25th of June, 2009\") into machine-readable dates (\"2009-06-25\").\n",
    "- You will do this using an attention model, one of the most sophisticated sequence-to-sequence models."
   ]
  },
  {
   "cell_type": "code",
   "execution_count": 8,
   "id": "132302bc-d98e-4ad7-b8c6-947f5f727ba1",
   "metadata": {},
   "outputs": [],
   "source": [
    "from tensorflow.keras.layers import Bidirectional, Concatenate, Permute, Dot, Input, LSTM, Multiply\n",
    "from tensorflow.keras.layers import RepeatVector, Dense, Activation, Lambda\n",
    "from tensorflow.keras.optimizers import Adam\n",
    "from tensorflow.keras.utils import to_categorical\n",
    "from tensorflow.keras.models import load_model, Model\n",
    "import tensorflow.keras.backend as K\n",
    "import tensorflow as tf\n",
    "import numpy as np\n",
    "\n",
    "from faker import Faker\n",
    "import random\n",
    "from tqdm import tqdm\n",
    "from babel.dates import format_date\n",
    "from nmt_utils import *\n",
    "import matplotlib.pyplot as plt\n",
    "%matplotlib inline"
   ]
  },
  {
   "cell_type": "code",
   "execution_count": 38,
   "id": "5c376896-bdf3-47b8-8980-85b381372c1d",
   "metadata": {},
   "outputs": [
    {
     "name": "stdout",
     "output_type": "stream",
     "text": [
      "Python version: 3.8.20 (default, Oct  3 2024, 15:19:54) [MSC v.1929 64 bit (AMD64)]\n",
      "TensorFlow: 2.3.0\n",
      "NumPy: 1.18.5\n"
     ]
    }
   ],
   "source": [
    "import sys\n",
    "print(\"Python version:\", sys.version)\n",
    "print(\"TensorFlow:\", tf.__version__)\n",
    "print(\"NumPy:\", np.__version__)"
   ]
  },
  {
   "cell_type": "markdown",
   "id": "a16155d6-61bf-45c3-887e-828474ed968f",
   "metadata": {},
   "source": [
    "# Translating Human Readable Dates Into Machine Readable Dates\n",
    "- The model you will build here could be used to translate from one language to another, such as translating from English to Hindi.\n",
    "- However, language translation requires massive datasets and usually takes days of training on GPUs.\n",
    "- To give you a place to experiment with these models without using massive datasets, we will perform a simpler \"date translation\" task.\n",
    "- The network will input a date written in a variety of possible formats (e.g. \"the 29th of August 1958\", \"03/30/1968\", \"24 JUNE 1987\")\n",
    "- The network will translate them into standardized, machine readable dates (e.g. \"1958-08-29\", \"1968-03-30\", \"1987-06-24\").\n",
    "- We will have the network learn to output dates in the common machine-readable format YYYY-MM-DD.\n",
    "\n",
    "## 1.1 - Dataset\n",
    "We will train the model on a dataset of 10,000 human readable dates and their equivalent, standardized, machine readable dates. Let's run the following cells to load the dataset and print some examples."
   ]
  },
  {
   "cell_type": "code",
   "execution_count": 9,
   "id": "4f9df684-05b4-45fe-8b2f-14f320bf0b47",
   "metadata": {},
   "outputs": [
    {
     "name": "stderr",
     "output_type": "stream",
     "text": [
      "100%|█████████████████████████████████████████████████████████████████████████| 10000/10000 [00:00<00:00, 25473.86it/s]\n"
     ]
    }
   ],
   "source": [
    "m = 10000\n",
    "dataset, human_vocab, machine_vocab, inv_machine_vocab = load_dataset(m)"
   ]
  },
  {
   "cell_type": "code",
   "execution_count": 10,
   "id": "6bd7e9db-1a46-4937-9458-6decc41891ee",
   "metadata": {},
   "outputs": [
    {
     "data": {
      "text/plain": [
       "[('9 may 1998', '1998-05-09'),\n",
       " ('10.11.19', '2019-11-10'),\n",
       " ('9/10/70', '1970-09-10'),\n",
       " ('monday august 19 2024', '2024-08-19'),\n",
       " ('saturday april 28 1990', '1990-04-28'),\n",
       " ('thursday january 26 1995', '1995-01-26'),\n",
       " ('monday march 7 1983', '1983-03-07'),\n",
       " ('22 may 1988', '1988-05-22'),\n",
       " ('8 jul 2008', '2008-07-08'),\n",
       " ('wednesday september 8 1999', '1999-09-08')]"
      ]
     },
     "execution_count": 10,
     "metadata": {},
     "output_type": "execute_result"
    }
   ],
   "source": [
    "dataset[:10]"
   ]
  },
  {
   "cell_type": "markdown",
   "id": "b122d392-429a-42e7-989e-1e3a26733e1d",
   "metadata": {},
   "source": [
    "- dataset: a list of tuples of (human readable date, machine readable date).\n",
    "- human_vocab: a python dictionary mapping all characters used in the human readable dates to an integer-valued index.\n",
    "- machine_vocab: a python dictionary mapping all characters used in machine readable dates to an integer-valued index.\n",
    "    - Note: These indices are not necessarily consistent with human_vocab.\n",
    "- inv_machine_vocab: the inverse dictionary of machine_vocab, mapping from indices back to characters.\n",
    "Let's preprocess the data and map the raw text data into the index values.\n",
    "\n",
    "- We will set Tx=30\n",
    "    - We assume Tx is the maximum length of the human readable date.\n",
    "    - If we get a longer input, we would have to truncate it.\n",
    "- We will set Ty=10\n",
    "    - \"YYYY-MM-DD\" is 10 characters long."
   ]
  },
  {
   "cell_type": "code",
   "execution_count": 11,
   "id": "2a29b37f-9c11-4431-bdb4-c14d903f5674",
   "metadata": {},
   "outputs": [
    {
     "name": "stdout",
     "output_type": "stream",
     "text": [
      "X.shape: (10000, 30)\n",
      "Y.shape: (10000, 10)\n",
      "Xoh.shape: (10000, 30, 37)\n",
      "Yoh.shape: (10000, 10, 11)\n"
     ]
    }
   ],
   "source": [
    "Tx = 30\n",
    "Ty = 10\n",
    "X, Y, Xoh, Yoh = preprocess_data(dataset, human_vocab, machine_vocab, Tx, Ty)\n",
    "print(\"X.shape:\", X.shape)\n",
    "print(\"Y.shape:\", Y.shape)\n",
    "print(\"Xoh.shape:\", Xoh.shape)\n",
    "print(\"Yoh.shape:\", Yoh.shape)"
   ]
  },
  {
   "cell_type": "markdown",
   "id": "4e52c577-d1e6-47e7-a24d-d14d4bf66bfc",
   "metadata": {},
   "source": [
    "- X: a processed version of the human readable dates in the training set.\n",
    "    - Each character in X is replaced by an index (integer) mapped to the character using human_vocab.\n",
    "    - Each date is padded to ensure a length of $T_x$ using a special character (< pad >).\n",
    "    - X.shape = (m, Tx) where m is the number of training examples in a batch.\n",
    "- Y: a processed version of the machine readable dates in the training set.\n",
    "    - Each character is replaced by the index (integer) it is mapped to in machine_vocab.\n",
    "    - Y.shape = (m, Ty).\n",
    "- Xoh: one-hot version of X\n",
    "    - Each index in X is converted to the one-hot representation (if the index is 2, the one-hot version has the index position 2 set to 1, and the remaining positions are 0.\n",
    "    - Xoh.shape = (m, Tx, len(human_vocab))\n",
    "- Yoh: one-hot version of Y\n",
    "    - Each index in Y is converted to the one-hot representation.\n",
    "    - Yoh.shape = (m, Ty, len(machine_vocab)).\n",
    "    - len(machine_vocab) = 11 since there are 10 numeric digits (0 to 9) and the - symbol.\n",
    "- Let's also look at some examples of preprocessed training examples.\n",
    "- Feel free to play with index in the cell below to navigate the dataset and see how source/target dates are preprocessed."
   ]
  },
  {
   "cell_type": "code",
   "execution_count": 12,
   "id": "c9af1c93-ac7d-4c4b-a063-6f6b644ff17e",
   "metadata": {
    "scrolled": true
   },
   "outputs": [
    {
     "name": "stdout",
     "output_type": "stream",
     "text": [
      "Source date: 9 may 1998\n",
      "Target date: 1998-05-09\n",
      "\n",
      "Source after preprocessing (indices): [12  0 24 13 34  0  4 12 12 11 36 36 36 36 36 36 36 36 36 36 36 36 36 36\n",
      " 36 36 36 36 36 36]\n",
      "Target after preprocessing (indices): [ 2 10 10  9  0  1  6  0  1 10]\n",
      "\n",
      "Source after preprocessing (one-hot): [[0. 0. 0. ... 0. 0. 0.]\n",
      " [1. 0. 0. ... 0. 0. 0.]\n",
      " [0. 0. 0. ... 0. 0. 0.]\n",
      " ...\n",
      " [0. 0. 0. ... 0. 0. 1.]\n",
      " [0. 0. 0. ... 0. 0. 1.]\n",
      " [0. 0. 0. ... 0. 0. 1.]]\n",
      "Target after preprocessing (one-hot): [[0. 0. 1. 0. 0. 0. 0. 0. 0. 0. 0.]\n",
      " [0. 0. 0. 0. 0. 0. 0. 0. 0. 0. 1.]\n",
      " [0. 0. 0. 0. 0. 0. 0. 0. 0. 0. 1.]\n",
      " [0. 0. 0. 0. 0. 0. 0. 0. 0. 1. 0.]\n",
      " [1. 0. 0. 0. 0. 0. 0. 0. 0. 0. 0.]\n",
      " [0. 1. 0. 0. 0. 0. 0. 0. 0. 0. 0.]\n",
      " [0. 0. 0. 0. 0. 0. 1. 0. 0. 0. 0.]\n",
      " [1. 0. 0. 0. 0. 0. 0. 0. 0. 0. 0.]\n",
      " [0. 1. 0. 0. 0. 0. 0. 0. 0. 0. 0.]\n",
      " [0. 0. 0. 0. 0. 0. 0. 0. 0. 0. 1.]]\n"
     ]
    }
   ],
   "source": [
    "index = 0\n",
    "print(\"Source date:\", dataset[index][0])\n",
    "print(\"Target date:\", dataset[index][1])\n",
    "print()\n",
    "print(\"Source after preprocessing (indices):\", X[index])\n",
    "print(\"Target after preprocessing (indices):\", Y[index])\n",
    "print()\n",
    "print(\"Source after preprocessing (one-hot):\", Xoh[index])\n",
    "print(\"Target after preprocessing (one-hot):\", Yoh[index])"
   ]
  },
  {
   "cell_type": "markdown",
   "id": "48155f94-1851-4ee8-be57-1798ebe1868f",
   "metadata": {},
   "source": [
    "# 2 - Neural Machine Translation with Attention\n",
    "- If you had to translate a book's paragraph from French to English, you would not read the whole paragraph, then close the book and translate.\n",
    "- Even during the translation process, you would read/re-read and focus on the parts of the French paragraph corresponding to the parts of the English you are writing down.\n",
    "- The attention mechanism tells a Neural Machine Translation model where it should pay attention to at any step.\n",
    "\n",
    "## 2.1 - Attention Mechanism\n",
    "In this part, you will implement the attention mechanism presented in the lecture videos.\n",
    "\n",
    "Here is a figure to remind you how the model works.\n",
    "- The diagram on the left shows the attention model.\n",
    "- The diagram on the right shows what one \"attention\" step does to calculate the attention variables $α^{<t, \\; t^ \\prime>}$.\n",
    "- The attention variables $α^{<t, \\; t^ \\prime>}$ are used to compute the context variable $context^{<t>}$ for each timestep in the output (t=1,...,$T_y$)."
   ]
  },
  {
   "cell_type": "markdown",
   "id": "cfc6ca7d-f2fe-45da-ab11-74d5d9b1633c",
   "metadata": {},
   "source": [
    "![Attention](images/attention.png)"
   ]
  },
  {
   "cell_type": "markdown",
   "id": "891b4887-0a8a-49c0-ae63-e188dd8a7b5e",
   "metadata": {},
   "source": [
    "## Pre-attention and Post-attention LSTMs on both sides of the attention mechanism\n",
    "- There are two separate LSTMs in this model (see diagram on the left): pre-attention and post-attention LSTMs.\n",
    "\n",
    "- Pre-attention Bi-LSTM is the one at the bottom of the picture is a Bi-directional LSTM and comes before the attention mechanism.\n",
    "\n",
    "    - The attention mechanism is shown in the middle of the left-hand diagram.\n",
    "    - The pre-attention Bi-LSTM goes through $T_x$ time steps\n",
    "- Post-attention LSTM: at the top of the diagram comes after the attention mechanism.\n",
    "\n",
    "    - The post-attention LSTM goes through $T_y$ time steps.\n",
    "- The post-attention LSTM passes the hidden state $s^{<t>}$ and cell state $c^{<t>}$\n",
    " from one time step to the next.\n",
    "\n",
    "## An LSTM has both a hidden state and cell state\n",
    "- In the lecture videos, we were using only a basic RNN for the post-attention sequence model\n",
    "    - This means that the state captured by the RNN was outputting only the hidden state $s^{<t>}$.\n",
    "- In this assignment, we are using an LSTM instead of a basic RNN.\n",
    "So the LSTM has both the hidden state $s^{<t>}$ and the cell state $c^{<t>}$.\n",
    "\n",
    "## Each time step does not use predictions from the previous time step\n",
    "- Unlike previous text generation examples earlier in the course, in this model, the post-attention LSTM at time __t__ does not take the previous time step's prediction $y^{<t-1>}$ as input.\n",
    "- The post-attention LSTM at time 't' only takes the hidden state $s^{<t>}$ and cell state $c^{<t>}$ as input.\n",
    "- We have designed the model this way because unlike language generation (where adjacent characters are highly correlated) there isn't as strong a dependency between the previous character and the next character in a YYYY-MM-DD date."
   ]
  },
  {
   "cell_type": "markdown",
   "id": "4942258e-764b-4535-933d-abbf6d01956d",
   "metadata": {},
   "source": [
    "## Concatenation of hidden states from the forward and backward pre-attention LSTMs\n",
    "- $\\vec a^{<t>}$: hidden state of the forward-direction, pre-attention LSTM.\n",
    "- $\\overleftarrow a^{<t>}$: hidden state of the backward-direction, pre-attention LSTM.\n",
    "- $a^{<t>} = [\\vec a^{<t>}, \\overleftarrow a^{<t>}]$: the concatenation of the activations of both the forward-direction $\\vec a^{<t>}$ and backward-directions $\\overleftarrow a^{<t>}$ of the pre-attention Bi-LSTM.\n",
    "\n",
    "## Computing \"energies\" $e^{<t, t ^\\prime >}$ as a function of $s^{<t-1>} and \\; a^{<t^\\prime>}$\n",
    " \n",
    "- Recall in the lesson videos \"Attention Model\", at time 6:45 to 8:16, the definition of \"e\" as a function of $s^{<t-1>}$\n",
    " and $a^{<t>}$.\n",
    "\n",
    "    - \"e\" is called the \"energies\" variable.\n",
    "    - $s^{<t-1>}$ is the hidden state of the post-attention LSTM\n",
    "    - $a^{<t^\\prime>}$ is the hidden state of the pre-attention LSTM.\n",
    "    - $s^{<t-1>}$ and $a^{<t>}$ are fed into a simple neural network, which learns the function to output $e^{<t, t^\\prime>}$.\n",
    "    - $e^{<t, t^\\prime>}$ is then used when computing the attention $α^{<t, t^\\prime>}$ that  $y^{<t>}$ should pay to  $a^{<t^\\prime>}$ .\n",
    "\n",
    "## Diagram on the right\n",
    "- The diagram on the right of figure 1 uses a RepeatVector node to copy $s^{<t-1>}$'s value $T_x$ times.\n",
    "- Then it uses Concatenation to concatenate  $s^{<t-1>}$ and $a^{<t>}$.\n",
    "- The concatenation of  $s^{<t-1>}$ and $a^{<t>}$ is fed into a \"Dense\" layer, which computes $e^{<t, t^\\prime>}$.\n",
    "- $e^{<t, t^\\prime>}$ is then passed through a softmax to compute $α^{<t, t^\\prime>}$.\n",
    "- Note that the diagram doesn't explicitly show variable $e^{<t, t^\\prime>}$, but $e^{<t, t^\\prime>}$ is above the Dense layer and below the Softmax layer in the diagram in the right half of figure 1.\n",
    "- We'll explain how to use RepeatVector and Concatenation in Keras below.\n",
    "\n",
    "# Implementation Details\n",
    "Let's implement this neural translator. You will start by implementing two functions: one_step_attention() and model().\n",
    "\n",
    "# one_step_attention\n",
    "- The inputs to the one_step_attention at time step __t__ are:\n",
    "    - [$a^{<1>}, a^{<2>},..., a^{<T_x>} $] : all hidden states of the pre-attention Bi-LSTM.\n",
    "    - $s^{<t-1>}$ : the previous hidden state of the post-attention LSTM\n",
    "- one_step_attention computes:\n",
    "    - [$α^{<t,1>}, α^{<t,2>},..., α^{<t,T_x>} $]: the attention weights\n",
    "    - $context^{<t>}$: the context vector:\n",
    "$$context^{<t>} = \\sum_{t^\\prime=1}^{T_x}\\; α^{<t,t^\\prime>} \\; a^{<t^\\prime>}\\tag{1} $$\n",
    "\n",
    "## Clarifying 'context' and 'c'\n",
    "In the lecture videos, the context was denoted  $c^{<t>}$\n",
    "In the assignment, we are calling the context  $context^{<t>}$.\n",
    "This is to avoid confusion with the post-attention LSTM's internal memory cell variable, which is also denoted $c^{<t>}$."
   ]
  },
  {
   "cell_type": "markdown",
   "id": "c7bfa3ef-b9d7-461d-8178-5be31f9f27b0",
   "metadata": {},
   "source": [
    "# Exercise 1 - one_step_attention\n",
    "Implement one_step_attention().\n",
    "\n",
    "- The function model() will call the layers in one_step_attention() $T_y$ times using a for-loop.\n",
    "- It is important that all $T_y$ copies have the same weights.\n",
    "    - It should not reinitialize the weights every time.\n",
    "    - In other words, all $T_y$ steps should have shared weights.\n",
    "- Here's how you can implement layers with shareable weights in Keras:\n",
    "1. Define the layer objects in a variable scope that is outside of the one_step_attention function. For example, defining the objects as global variables would work.\n",
    "    - Note that defining these variables inside the scope of the function model would technically work, since model will then call the one_step_attention function. For the purposes of making grading and troubleshooting easier, we are defining these as global variables. Note that the automatic grader will expect these to be global variables as well.\n",
    "\n",
    "2. Call these objects when propagating the input.\n",
    "- We have defined the layers you need as global variables.\n",
    "    - Please run the following cells to create them.\n",
    "    - Please note that the automatic grader expects these global variables with the given variable names. For grading purposes, please do not rename the global variables.\n",
    "- Please check the Keras documentation to learn more about these layers. The layers are functions. Below are examples of how to call these functions.\n",
    "    - [RepeatVector()](https://www.tensorflow.org/api_docs/python/tf/keras/layers/RepeatVector)   \n",
    "\n",
    "var_repeated = repeat_layer(var1)\n",
    "* [Concatenate()](https://www.tensorflow.org/api_docs/python/tf/keras/layers/Concatenate)   \n",
    "concatenated_vars = concatenate_layer([var1,var2,var3])\n",
    "* [Dense()](https://keras.io/layers/core/#dense)  \n",
    "var_out = dense_layer(var_in)\n",
    "* [Activation()](https://keras.io/layers/core/#activation)  \n",
    "activation = activation_layer(var_in)  \n",
    "* [Dot()](https://www.tensorflow.org/api_docs/python/tf/keras/layers/Dot)  \n",
    "dot_product = dot_layer([var1,var2])"
   ]
  },
  {
   "cell_type": "code",
   "execution_count": 15,
   "id": "c8d293bd-17f7-4a64-a634-03903febd30b",
   "metadata": {},
   "outputs": [],
   "source": [
    "# Defined shared layers as global variables\n",
    "repeator = RepeatVector(Tx)\n",
    "concatenator = Concatenate(axis=-1)\n",
    "densor1 = Dense(10, activation = \"tanh\")\n",
    "densor2 = Dense(1, activation = \"relu\")\n",
    "activator = Activation(softmax, name='attention_weights') # We are using a custom softmax(axis = 1) loaded in this notebook\n",
    "dotor = Dot(axes = 1)"
   ]
  },
  {
   "cell_type": "code",
   "execution_count": 16,
   "id": "7bef1436-1564-430f-9fd2-30a113184b1c",
   "metadata": {},
   "outputs": [],
   "source": [
    "# GRADED FUNCTION: one_step_attention\n",
    "\n",
    "def one_step_attention(a, s_prev):\n",
    "    \"\"\"\n",
    "    Performs one step of attention: Outputs a context vector computed as a dot product of the attention weights\n",
    "    \"alphas\" and the hidden states \"a\" of the Bi-LSTM.\n",
    "    \n",
    "    Arguments:\n",
    "    a -- hidden state output of the Bi-LSTM, numpy-array of shape (m, Tx, 2*n_a)\n",
    "    s_prev -- previous hidden state of the (post-attention) LSTM, numpy-array of shape (m, n_s)\n",
    "    \n",
    "    Returns:\n",
    "    context -- context vector, input of the next (post-attetion) LSTM cell\n",
    "    \"\"\"\n",
    "    \n",
    "    ### START CODE HERE ###\n",
    "    # Use repeator to repeat s_prev to be of shape (m, Tx, n_s) so that you can concatenate it with all hidden states \"a\" (≈ 1 line)\n",
    "    s_prev = repeator(s_prev) \n",
    "    # Use concatenator to concatenate a and s_prev on the last axis (≈ 1 line)\n",
    "    concat = concatenator([a,s_prev]) \n",
    "    # Use densor1 to propagate concat through a small fully-connected neural network to compute the \"intermediate energies\" variable e. (≈1 lines)\n",
    "    e = densor1(concat) \n",
    "    # Use densor2 to propagate e through a small fully-connected neural network to compute the \"energies\" variable energies. (≈1 lines)\n",
    "    energies = densor2(e) \n",
    "    # Use \"activator\" on \"energies\" to compute the attention weights \"alphas\" (≈ 1 line)\n",
    "    alphas = activator(energies) \n",
    "    # Use dotor together with \"alphas\" and \"a\" to compute the context vector to be given to the next (post-attention) LSTM-cell (≈ 1 line)\n",
    "    context = dotor([alphas,a]) \n",
    "    ### END CODE HERE ###\n",
    "    \n",
    "    return context"
   ]
  },
  {
   "cell_type": "code",
   "execution_count": 17,
   "id": "2ebe8035-1a5a-4cb8-91e9-39e40c45b1f5",
   "metadata": {},
   "outputs": [
    {
     "name": "stdout",
     "output_type": "stream",
     "text": [
      "\u001b[92mAll tests passed!\n"
     ]
    }
   ],
   "source": [
    "# UNIT TEST\n",
    "def one_step_attention_test(target):\n",
    "\n",
    "    m = 10\n",
    "    Tx = 30\n",
    "    n_a = 32\n",
    "    n_s = 64\n",
    "    #np.random.seed(10)\n",
    "    a = np.random.uniform(1, 0, (m, Tx, 2 * n_a)).astype(np.float32)\n",
    "    s_prev =np.random.uniform(1, 0, (m, n_s)).astype(np.float32) * 1\n",
    "    context = target(a, s_prev)\n",
    "    \n",
    "    assert type(context) == tf.python.framework.ops.EagerTensor, \"Unexpected type. It should be a Tensor\"\n",
    "    assert tuple(context.shape) == (m, 1, n_s), \"Unexpected output shape\"\n",
    "    assert np.all(context.numpy() > 0), \"All output values must be > 0 in this example\"\n",
    "    assert np.all(context.numpy() < 1), \"All output values must be < 1 in this example\"\n",
    "\n",
    "    #assert np.allclose(context[0][0][0:5].numpy(), [0.50877404, 0.57160693, 0.45448175, 0.50074816, 0.53651875]), \"Unexpected values in the result\"\n",
    "    print(\"\\033[92mAll tests passed!\")\n",
    "    \n",
    "one_step_attention_test(one_step_attention)"
   ]
  },
  {
   "cell_type": "markdown",
   "id": "06d4e74e-1b84-4237-b000-eb1a080f74fa",
   "metadata": {},
   "source": [
    "# Exercise 2 - modelf\n",
    "Implement modelf() as explained in figure 1 and the instructions:\n",
    "\n",
    "- modelf first runs the input through a Bi-LSTM to get $[a^{<1>}, a^{<2>},..., a^{<T_x>}]$.\n",
    "- Then, modelf calls one_step_attention() $T_y$\n",
    " times using a for loop. At each iteration of this loop:\n",
    "    - It gives the computed context vector $context^{<t>}$ to the post-attention LSTM.\n",
    "    - It runs the output of the post-attention LSTM through a dense layer with softmax activation.\n",
    "    - The softmax generates a prediction $\\hat y^{<t>}$.\n",
    "\n",
    "Again, we have defined global layers that will share weights to be used in modelf()."
   ]
  },
  {
   "cell_type": "code",
   "execution_count": 19,
   "id": "14da9898-0d34-4a9e-8e2a-9037b84e5054",
   "metadata": {},
   "outputs": [],
   "source": [
    "n_a = 32 # number of units for the pre-attention, bi-directional LSTM's hidden state 'a'\n",
    "n_s = 64 # number of units for the post-attention LSTM's hidden state \"s\"\n",
    "\n",
    "# Please note, this is the post attention LSTM cell.  \n",
    "post_activation_LSTM_cell = LSTM(n_s, return_state = True) # Please do not modify this global variable.\n",
    "output_layer = Dense(len(machine_vocab), activation=softmax)"
   ]
  },
  {
   "cell_type": "code",
   "execution_count": 20,
   "id": "2b84fe0d-b807-45ab-9ee5-52b690e6e488",
   "metadata": {},
   "outputs": [],
   "source": [
    "# UNQ_C2 (UNIQUE CELL IDENTIFIER, DO NOT EDIT)\n",
    "# GRADED FUNCTION: model\n",
    "\n",
    "def modelf(Tx, Ty, n_a, n_s, human_vocab_size, machine_vocab_size):\n",
    "    \"\"\"\n",
    "    Arguments:\n",
    "    Tx -- length of the input sequence\n",
    "    Ty -- length of the output sequence\n",
    "    n_a -- hidden state size of the Bi-LSTM\n",
    "    n_s -- hidden state size of the post-attention LSTM\n",
    "    human_vocab_size -- size of the python dictionary \"human_vocab\"\n",
    "    machine_vocab_size -- size of the python dictionary \"machine_vocab\"\n",
    "\n",
    "    Returns:\n",
    "    model -- Keras model instance\n",
    "    \"\"\"\n",
    "    \n",
    "    # Define the inputs of your model with a shape (Tx,)\n",
    "    # Define s0 (initial hidden state) and c0 (initial cell state)\n",
    "    # for the decoder LSTM with shape (n_s,)\n",
    "    X = Input(shape=(Tx, human_vocab_size))\n",
    "    s0 = Input(shape=(n_s,), name='s0')\n",
    "    c0 = Input(shape=(n_s,), name='c0')\n",
    "    s = s0\n",
    "    c = c0\n",
    "    \n",
    "    # Initialize empty list of outputs\n",
    "    outputs = []\n",
    "    \n",
    "    ### START CODE HERE ###\n",
    "    \n",
    "    # Step 1: Define your pre-attention Bi-LSTM. (≈ 1 line)\n",
    "    a = Bidirectional(LSTM(n_a, return_sequences=True),input_shape=(m, Tx, n_a*2))(X) \n",
    "    \n",
    "    # Step 2: Iterate for Ty steps\n",
    "    for t in range(Ty):\n",
    "    \n",
    "        # Step 2.A: Perform one step of the attention mechanism to get back the context vector at step t (≈ 1 line)\n",
    "        context = one_step_attention(a, s)\n",
    "        \n",
    "        # Step 2.B: Apply the post-attention LSTM cell to the \"context\" vector.\n",
    "        # Don't forget to pass: initial_state = [hidden state, cell state] (≈ 1 line)\n",
    "        s, _, c = post_activation_LSTM_cell(context,initial_state = [s, c] ) \n",
    "        \n",
    "        # Step 2.C: Apply Dense layer to the hidden state output of the post-attention LSTM (≈ 1 line)\n",
    "        out = output_layer(s)\n",
    "        \n",
    "        # Step 2.D: Append \"out\" to the \"outputs\" list (≈ 1 line)\n",
    "        outputs.append(out)\n",
    "    \n",
    "    # Step 3: Create model instance taking three inputs and returning the list of outputs. (≈ 1 line)\n",
    "    model = Model(inputs=[X,s0,c0],outputs=outputs)\n",
    "    \n",
    "    ### END CODE HERE ###\n",
    "    \n",
    "    return model"
   ]
  },
  {
   "cell_type": "code",
   "execution_count": 21,
   "id": "df970e81-2d16-4a5d-89c5-f5657996840d",
   "metadata": {},
   "outputs": [
    {
     "name": "stdout",
     "output_type": "stream",
     "text": [
      "[['InputLayer', [(None, 30, 37)], 0], ['InputLayer', [(None, 64)], 0], ['Bidirectional', (None, 30, 64), 17920], ['RepeatVector', (None, 30, 64), 0, 30], ['Concatenate', (None, 30, 128), 0], ['Dense', (None, 30, 10), 1290, 'tanh'], ['Dense', (None, 30, 1), 11, 'relu'], ['Activation', (None, 30, 1), 0], ['Dot', (None, 1, 64), 0], ['InputLayer', [(None, 64)], 0], ['LSTM', [(None, 64), (None, 64), (None, 64)], 33024, [(None, 1, 64), (None, 64), (None, 64)], 'tanh'], ['Dense', (None, 11), 715, 'softmax']]\n",
      "\u001b[32mAll tests passed!\u001b[0m\n"
     ]
    }
   ],
   "source": [
    "# UNIT TEST\n",
    "from test_utils import *\n",
    "\n",
    "def modelf_test(target):\n",
    "    m = 10\n",
    "    Tx = 30\n",
    "    n_a = 32\n",
    "    n_s = 64\n",
    "    len_human_vocab = 37\n",
    "    len_machine_vocab = 11\n",
    "    \n",
    "    \n",
    "    model = target(Tx, Ty, n_a, n_s, len_human_vocab, len_machine_vocab)\n",
    "    \n",
    "    print(summary(model))\n",
    "\n",
    "    \n",
    "    expected_summary = [['InputLayer', [(None, 30, 37)], 0],\n",
    "                         ['InputLayer', [(None, 64)], 0],\n",
    "                         ['Bidirectional', (None, 30, 64), 17920],\n",
    "                         ['RepeatVector', (None, 30, 64), 0, 30],\n",
    "                         ['Concatenate', (None, 30, 128), 0],\n",
    "                         ['Dense', (None, 30, 10), 1290, 'tanh'],\n",
    "                         ['Dense', (None, 30, 1), 11, 'relu'],\n",
    "                         ['Activation', (None, 30, 1), 0],\n",
    "                         ['Dot', (None, 1, 64), 0],\n",
    "                         ['InputLayer', [(None, 64)], 0],\n",
    "                         ['LSTM',[(None, 64), (None, 64), (None, 64)], 33024,[(None, 1, 64), (None, 64), (None, 64)],'tanh'],\n",
    "                         ['Dense', (None, 11), 715, 'softmax']]\n",
    "\n",
    "    assert len(model.outputs) == 10, f\"Wrong output shape. Expected 10 != {len(model.outputs)}\"\n",
    "\n",
    "    comparator(summary(model), expected_summary)\n",
    "    \n",
    "\n",
    "modelf_test(modelf)"
   ]
  },
  {
   "cell_type": "code",
   "execution_count": 22,
   "id": "6700d619-3461-4d41-9a70-3f7d69a75c2f",
   "metadata": {},
   "outputs": [],
   "source": [
    "model = modelf(Tx, Ty, n_a, n_s, len(human_vocab), len(machine_vocab))"
   ]
  },
  {
   "cell_type": "code",
   "execution_count": 23,
   "id": "00c86d53-ec4a-4b6f-baf9-badd65136faa",
   "metadata": {},
   "outputs": [
    {
     "name": "stdout",
     "output_type": "stream",
     "text": [
      "Model: \"functional_3\"\n",
      "__________________________________________________________________________________________________\n",
      "Layer (type)                    Output Shape         Param #     Connected to                     \n",
      "==================================================================================================\n",
      "input_2 (InputLayer)            [(None, 30, 37)]     0                                            \n",
      "__________________________________________________________________________________________________\n",
      "s0 (InputLayer)                 [(None, 64)]         0                                            \n",
      "__________________________________________________________________________________________________\n",
      "bidirectional_1 (Bidirectional) (None, 30, 64)       17920       input_2[0][0]                    \n",
      "__________________________________________________________________________________________________\n",
      "repeat_vector_1 (RepeatVector)  (None, 30, 64)       0           s0[0][0]                         \n",
      "                                                                 lstm_1[10][0]                    \n",
      "                                                                 lstm_1[11][0]                    \n",
      "                                                                 lstm_1[12][0]                    \n",
      "                                                                 lstm_1[13][0]                    \n",
      "                                                                 lstm_1[14][0]                    \n",
      "                                                                 lstm_1[15][0]                    \n",
      "                                                                 lstm_1[16][0]                    \n",
      "                                                                 lstm_1[17][0]                    \n",
      "                                                                 lstm_1[18][0]                    \n",
      "__________________________________________________________________________________________________\n",
      "concatenate_1 (Concatenate)     (None, 30, 128)      0           bidirectional_1[0][0]            \n",
      "                                                                 repeat_vector_1[10][0]           \n",
      "                                                                 bidirectional_1[0][0]            \n",
      "                                                                 repeat_vector_1[11][0]           \n",
      "                                                                 bidirectional_1[0][0]            \n",
      "                                                                 repeat_vector_1[12][0]           \n",
      "                                                                 bidirectional_1[0][0]            \n",
      "                                                                 repeat_vector_1[13][0]           \n",
      "                                                                 bidirectional_1[0][0]            \n",
      "                                                                 repeat_vector_1[14][0]           \n",
      "                                                                 bidirectional_1[0][0]            \n",
      "                                                                 repeat_vector_1[15][0]           \n",
      "                                                                 bidirectional_1[0][0]            \n",
      "                                                                 repeat_vector_1[16][0]           \n",
      "                                                                 bidirectional_1[0][0]            \n",
      "                                                                 repeat_vector_1[17][0]           \n",
      "                                                                 bidirectional_1[0][0]            \n",
      "                                                                 repeat_vector_1[18][0]           \n",
      "                                                                 bidirectional_1[0][0]            \n",
      "                                                                 repeat_vector_1[19][0]           \n",
      "__________________________________________________________________________________________________\n",
      "dense_2 (Dense)                 (None, 30, 10)       1290        concatenate_1[10][0]             \n",
      "                                                                 concatenate_1[11][0]             \n",
      "                                                                 concatenate_1[12][0]             \n",
      "                                                                 concatenate_1[13][0]             \n",
      "                                                                 concatenate_1[14][0]             \n",
      "                                                                 concatenate_1[15][0]             \n",
      "                                                                 concatenate_1[16][0]             \n",
      "                                                                 concatenate_1[17][0]             \n",
      "                                                                 concatenate_1[18][0]             \n",
      "                                                                 concatenate_1[19][0]             \n",
      "__________________________________________________________________________________________________\n",
      "dense_3 (Dense)                 (None, 30, 1)        11          dense_2[10][0]                   \n",
      "                                                                 dense_2[11][0]                   \n",
      "                                                                 dense_2[12][0]                   \n",
      "                                                                 dense_2[13][0]                   \n",
      "                                                                 dense_2[14][0]                   \n",
      "                                                                 dense_2[15][0]                   \n",
      "                                                                 dense_2[16][0]                   \n",
      "                                                                 dense_2[17][0]                   \n",
      "                                                                 dense_2[18][0]                   \n",
      "                                                                 dense_2[19][0]                   \n",
      "__________________________________________________________________________________________________\n",
      "attention_weights (Activation)  (None, 30, 1)        0           dense_3[10][0]                   \n",
      "                                                                 dense_3[11][0]                   \n",
      "                                                                 dense_3[12][0]                   \n",
      "                                                                 dense_3[13][0]                   \n",
      "                                                                 dense_3[14][0]                   \n",
      "                                                                 dense_3[15][0]                   \n",
      "                                                                 dense_3[16][0]                   \n",
      "                                                                 dense_3[17][0]                   \n",
      "                                                                 dense_3[18][0]                   \n",
      "                                                                 dense_3[19][0]                   \n",
      "__________________________________________________________________________________________________\n",
      "dot_1 (Dot)                     (None, 1, 64)        0           attention_weights[10][0]         \n",
      "                                                                 bidirectional_1[0][0]            \n",
      "                                                                 attention_weights[11][0]         \n",
      "                                                                 bidirectional_1[0][0]            \n",
      "                                                                 attention_weights[12][0]         \n",
      "                                                                 bidirectional_1[0][0]            \n",
      "                                                                 attention_weights[13][0]         \n",
      "                                                                 bidirectional_1[0][0]            \n",
      "                                                                 attention_weights[14][0]         \n",
      "                                                                 bidirectional_1[0][0]            \n",
      "                                                                 attention_weights[15][0]         \n",
      "                                                                 bidirectional_1[0][0]            \n",
      "                                                                 attention_weights[16][0]         \n",
      "                                                                 bidirectional_1[0][0]            \n",
      "                                                                 attention_weights[17][0]         \n",
      "                                                                 bidirectional_1[0][0]            \n",
      "                                                                 attention_weights[18][0]         \n",
      "                                                                 bidirectional_1[0][0]            \n",
      "                                                                 attention_weights[19][0]         \n",
      "                                                                 bidirectional_1[0][0]            \n",
      "__________________________________________________________________________________________________\n",
      "c0 (InputLayer)                 [(None, 64)]         0                                            \n",
      "__________________________________________________________________________________________________\n",
      "lstm_1 (LSTM)                   [(None, 64), (None,  33024       dot_1[10][0]                     \n",
      "                                                                 s0[0][0]                         \n",
      "                                                                 c0[0][0]                         \n",
      "                                                                 dot_1[11][0]                     \n",
      "                                                                 lstm_1[10][0]                    \n",
      "                                                                 lstm_1[10][2]                    \n",
      "                                                                 dot_1[12][0]                     \n",
      "                                                                 lstm_1[11][0]                    \n",
      "                                                                 lstm_1[11][2]                    \n",
      "                                                                 dot_1[13][0]                     \n",
      "                                                                 lstm_1[12][0]                    \n",
      "                                                                 lstm_1[12][2]                    \n",
      "                                                                 dot_1[14][0]                     \n",
      "                                                                 lstm_1[13][0]                    \n",
      "                                                                 lstm_1[13][2]                    \n",
      "                                                                 dot_1[15][0]                     \n",
      "                                                                 lstm_1[14][0]                    \n",
      "                                                                 lstm_1[14][2]                    \n",
      "                                                                 dot_1[16][0]                     \n",
      "                                                                 lstm_1[15][0]                    \n",
      "                                                                 lstm_1[15][2]                    \n",
      "                                                                 dot_1[17][0]                     \n",
      "                                                                 lstm_1[16][0]                    \n",
      "                                                                 lstm_1[16][2]                    \n",
      "                                                                 dot_1[18][0]                     \n",
      "                                                                 lstm_1[17][0]                    \n",
      "                                                                 lstm_1[17][2]                    \n",
      "                                                                 dot_1[19][0]                     \n",
      "                                                                 lstm_1[18][0]                    \n",
      "                                                                 lstm_1[18][2]                    \n",
      "__________________________________________________________________________________________________\n",
      "dense_5 (Dense)                 (None, 11)           715         lstm_1[10][0]                    \n",
      "                                                                 lstm_1[11][0]                    \n",
      "                                                                 lstm_1[12][0]                    \n",
      "                                                                 lstm_1[13][0]                    \n",
      "                                                                 lstm_1[14][0]                    \n",
      "                                                                 lstm_1[15][0]                    \n",
      "                                                                 lstm_1[16][0]                    \n",
      "                                                                 lstm_1[17][0]                    \n",
      "                                                                 lstm_1[18][0]                    \n",
      "                                                                 lstm_1[19][0]                    \n",
      "==================================================================================================\n",
      "Total params: 52,960\n",
      "Trainable params: 52,960\n",
      "Non-trainable params: 0\n",
      "__________________________________________________________________________________________________\n"
     ]
    }
   ],
   "source": [
    "model.summary()"
   ]
  },
  {
   "cell_type": "code",
   "execution_count": 25,
   "id": "b980c3a8-7010-4980-a3f5-08146b4629c3",
   "metadata": {},
   "outputs": [],
   "source": [
    "### START CODE HERE ### (≈2 lines)\n",
    "opt = Adam(lr=0.005, beta_1=0.9, beta_2=0.999,decay=0.01) \n",
    "model.compile(loss='categorical_crossentropy', optimizer=opt,metrics=['accuracy'])\n",
    "### END CODE HERE ###"
   ]
  },
  {
   "cell_type": "code",
   "execution_count": 26,
   "id": "7b085dc2-a012-4e89-b7b9-9f4b2edd52d6",
   "metadata": {},
   "outputs": [
    {
     "name": "stdout",
     "output_type": "stream",
     "text": [
      "\u001b[92mAll tests passed!\n"
     ]
    }
   ],
   "source": [
    "# UNIT TESTS\n",
    "assert opt.lr == 0.005, \"Set the lr parameter to 0.005\"\n",
    "assert opt.beta_1 == 0.9, \"Set the beta_1 parameter to 0.9\"\n",
    "assert opt.beta_2 == 0.999, \"Set the beta_2 parameter to 0.999\"\n",
    "assert opt.decay == 0.01, \"Set the decay parameter to 0.01\"\n",
    "assert model.loss == \"categorical_crossentropy\", \"Wrong loss. Use 'categorical_crossentropy'\"\n",
    "assert model.optimizer == opt, \"Use the optimizer that you have instantiated\"\n",
    "assert model.compiled_metrics._user_metrics[0] == 'accuracy', \"set metrics to ['accuracy']\"\n",
    "\n",
    "print(\"\\033[92mAll tests passed!\")"
   ]
  },
  {
   "cell_type": "code",
   "execution_count": 27,
   "id": "b16f5496-8321-412d-8c95-a78e20df2f0b",
   "metadata": {},
   "outputs": [],
   "source": [
    "s0 = np.zeros((m, n_s))\n",
    "c0 = np.zeros((m, n_s))\n",
    "outputs = list(Yoh.swapaxes(0,1))"
   ]
  },
  {
   "cell_type": "code",
   "execution_count": 28,
   "id": "097ba0bf-8298-4d0d-b128-18502149528f",
   "metadata": {},
   "outputs": [
    {
     "name": "stdout",
     "output_type": "stream",
     "text": [
      "100/100 [==============================] - 3s 31ms/step - loss: 16.2698 - dense_5_loss: 1.0737 - dense_5_1_loss: 0.9783 - dense_5_2_loss: 1.7401 - dense_5_3_loss: 2.6599 - dense_5_4_loss: 0.7536 - dense_5_5_loss: 1.2643 - dense_5_6_loss: 2.6591 - dense_5_7_loss: 0.9359 - dense_5_8_loss: 1.6838 - dense_5_9_loss: 2.5212 - dense_5_accuracy: 0.6038 - dense_5_1_accuracy: 0.7445 - dense_5_2_accuracy: 0.2813 - dense_5_3_accuracy: 0.0967 - dense_5_4_accuracy: 0.9626 - dense_5_5_accuracy: 0.3377 - dense_5_6_accuracy: 0.0474 - dense_5_7_accuracy: 0.9421 - dense_5_8_accuracy: 0.2568 - dense_5_9_accuracy: 0.1208\n"
     ]
    },
    {
     "data": {
      "text/plain": [
       "<tensorflow.python.keras.callbacks.History at 0x189f5e02f70>"
      ]
     },
     "execution_count": 28,
     "metadata": {},
     "output_type": "execute_result"
    }
   ],
   "source": [
    "model.fit([Xoh, s0, c0], outputs, epochs=1, batch_size=100)"
   ]
  },
  {
   "cell_type": "markdown",
   "id": "1f9e8d20-176e-4edc-96b3-7e86d0214bb7",
   "metadata": {},
   "source": [
    "Thus, `dense_2_acc_8: 0.89` means that you are predicting the 7th character of the output correctly 89% of the time in the current batch of data.\n",
    "We have run this model for longer, and saved the weights. Run the next cell to load our weights. (By training a model for several minutes, you should be able to obtain a model of similar accuracy, but loading our model will save you time.)"
   ]
  },
  {
   "cell_type": "code",
   "execution_count": 31,
   "id": "4a083273-4ff8-4af5-bddc-82014a5ebb0f",
   "metadata": {},
   "outputs": [
    {
     "name": "stdout",
     "output_type": "stream",
     "text": [
      "source: 3 May 1979\n",
      "output: 1993-03-03 \n",
      "\n",
      "source: 5 April 09\n",
      "output: 1994-04-04 \n",
      "\n",
      "source: 21th of August 2016\n",
      "output: 2001-02-22 \n",
      "\n",
      "source: Tue 10 Jul 2007\n",
      "output: 2000-02-22 \n",
      "\n",
      "source: Saturday May 9 2018\n",
      "output: 1987-09-23 \n",
      "\n",
      "source: March 3 2001\n",
      "output: 2003-03-23 \n",
      "\n",
      "source: March 3rd 2001\n",
      "output: 2003-03-23 \n",
      "\n",
      "source: 1 March 2001\n",
      "output: 2001-02-23 \n",
      "\n"
     ]
    }
   ],
   "source": [
    "EXAMPLES = ['3 May 1979', '5 April 09', '21th of August 2016', 'Tue 10 Jul 2007', 'Saturday May 9 2018', 'March 3 2001', 'March 3rd 2001', '1 March 2001']\n",
    "s00 = np.zeros((1, n_s))\n",
    "c00 = np.zeros((1, n_s))\n",
    "for example in EXAMPLES:\n",
    "    source = string_to_int(example, Tx, human_vocab)\n",
    "    #print(source)\n",
    "    source = np.array(list(map(lambda x: to_categorical(x, num_classes=len(human_vocab)), source))).swapaxes(0,1)\n",
    "    source = np.swapaxes(source, 0, 1)\n",
    "    source = np.expand_dims(source, axis=0)\n",
    "    prediction = model.predict([source, s00, c00])\n",
    "    prediction = np.argmax(prediction, axis = -1)\n",
    "    output = [inv_machine_vocab[int(i)] for i in prediction]\n",
    "    print(\"source:\", example)\n",
    "    print(\"output:\", ''.join(output),\"\\n\")"
   ]
  },
  {
   "cell_type": "markdown",
   "id": "6f954df8-fe06-417d-bff3-b55bc1bb8370",
   "metadata": {},
   "source": [
    "# 3 - Visualizing Attention (Optional / Ungraded)\n",
    "Since the problem has a fixed output length of 10, it is also possible to carry out this task using 10 different softmax units to generate the 10 characters of the output. But one advantage of the attention model is that each part of the output (such as the month) knows it needs to depend only on a small part of the input (the characters in the input giving the month). We can visualize what each part of the output is looking at which part of the input.\n",
    "\n",
    "Consider the task of translating \"Saturday 9 May 2018\" to \"2018-05-09\". If we visualize the computed $\\alpha ^{<t,t^\\prime>}$\n",
    " we get this:"
   ]
  },
  {
   "cell_type": "code",
   "execution_count": 32,
   "id": "84f9a7e1-c420-46fd-aad7-21c655fa7045",
   "metadata": {},
   "outputs": [
    {
     "data": {
      "text/plain": [
       "<Figure size 640x480 with 0 Axes>"
      ]
     },
     "metadata": {},
     "output_type": "display_data"
    },
    {
     "data": {
      "image/png": "[encoded data removed]",
      "text/plain": [
       "<Figure size 800x850 with 2 Axes>"
      ]
     },
     "metadata": {},
     "output_type": "display_data"
    }
   ],
   "source": [
    "attention_map = plot_attention_map(model, human_vocab, inv_machine_vocab, \"Tuesday 09 Oct 1993\", num = 7, n_s = 64);"
   ]
  },
  {
   "cell_type": "code",
   "execution_count": null,
   "id": "5a089193-2ecb-4ba5-b56d-374f0691fe29",
   "metadata": {},
   "outputs": [],
   "source": []
  }
 ],
 "metadata": {
  "kernelspec": {
   "display_name": "Python 3 (ipykernel)",
   "language": "python",
   "name": "python3"
  },
  "language_info": {
   "codemirror_mode": {
    "name": "ipython",
    "version": 3
   },
   "file_extension": ".py",
   "mimetype": "text/x-python",
   "name": "python",
   "nbconvert_exporter": "python",
   "pygments_lexer": "ipython3",
   "version": "3.8.20"
  }
 },
 "nbformat": 4,
 "nbformat_minor": 5
}
