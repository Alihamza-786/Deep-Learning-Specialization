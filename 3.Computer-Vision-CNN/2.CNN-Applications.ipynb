{
 "cells": [
  {
   "cell_type": "code",
   "execution_count": 1,
   "id": "337d120c-4df5-4ae3-af01-28af32884b4a",
   "metadata": {},
   "outputs": [],
   "source": [
    "import math\n",
    "import numpy as np\n",
    "import h5py\n",
    "import matplotlib.pyplot as plt\n",
    "import scipy\n",
    "from PIL import Image\n",
    "from scipy import ndimage\n",
    "import tensorflow as tf\n",
    "from tensorflow.python.framework import ops\n",
    "from cnn_utils import *\n",
    "\n",
    "%matplotlib inline\n",
    "np.random.seed(1)"
   ]
  },
  {
   "cell_type": "code",
   "execution_count": 3,
   "id": "6d0b7a8d-7b01-4e60-b1f5-729443ce0cf3",
   "metadata": {},
   "outputs": [],
   "source": [
    "# Loading the data (signs)\n",
    "X_train_orig, Y_train_orig, X_test_orig, Y_test_orig, classes = load_dataset()"
   ]
  },
  {
   "cell_type": "code",
   "execution_count": 5,
   "id": "4c54da85-ffdd-4611-99e6-0907a9aea731",
   "metadata": {},
   "outputs": [
    {
     "name": "stdout",
     "output_type": "stream",
     "text": [
      "y = 2\n"
     ]
    },
    {
     "data": {
      "image/png": "[encoded data removed]",
      "text/plain": [
       "<Figure size 640x480 with 1 Axes>"
      ]
     },
     "metadata": {},
     "output_type": "display_data"
    }
   ],
   "source": [
    "# Example of a picture\n",
    "index = 6\n",
    "plt.imshow(X_train_orig[index])\n",
    "print (\"y = \" + str(np.squeeze(Y_train_orig[:, index])))"
   ]
  },
  {
   "cell_type": "code",
   "execution_count": 7,
   "id": "3e043fd9-9f7d-4fbb-a29e-9e127057b4cc",
   "metadata": {},
   "outputs": [
    {
     "name": "stdout",
     "output_type": "stream",
     "text": [
      "number of training examples = 1080\n",
      "number of test examples = 120\n",
      "X_train shape: (1080, 64, 64, 3)\n",
      "Y_train shape: (1080, 6)\n",
      "X_test shape: (120, 64, 64, 3)\n",
      "Y_test shape: (120, 6)\n"
     ]
    }
   ],
   "source": [
    "X_train = X_train_orig/255.\n",
    "X_test = X_test_orig/255.\n",
    "Y_train = convert_to_one_hot(Y_train_orig, 6).T\n",
    "Y_test = convert_to_one_hot(Y_test_orig, 6).T\n",
    "print (\"number of training examples = \" + str(X_train.shape[0]))\n",
    "print (\"number of test examples = \" + str(X_test.shape[0]))\n",
    "print (\"X_train shape: \" + str(X_train.shape))\n",
    "print (\"Y_train shape: \" + str(Y_train.shape))\n",
    "print (\"X_test shape: \" + str(X_test.shape))\n",
    "print (\"Y_test shape: \" + str(Y_test.shape))\n",
    "conv_layers = {}"
   ]
  },
  {
   "cell_type": "code",
   "execution_count": 9,
   "id": "836da67a-703b-4fa6-bfab-27cd1744dc1d",
   "metadata": {},
   "outputs": [],
   "source": [
    "# GRADED FUNCTION: create_placeholders\n",
    "\n",
    "def create_placeholders(n_H0, n_W0, n_C0, n_y):\n",
    "    ### START CODE HERE ### (≈2 lines)\n",
    "    X = tf.TensorSpec(shape=[None, n_H0, n_W0, n_C0], dtype=tf.float32)\n",
    "    Y = tf.TensorSpec(shape=[None, n_y], dtype=tf.float32)\n",
    "    ### END CODE HERE ###\n",
    "    \n",
    "    return X, Y"
   ]
  },
  {
   "cell_type": "code",
   "execution_count": 11,
   "id": "651298df-c0bf-40f9-a0f2-aa07244de23c",
   "metadata": {},
   "outputs": [
    {
     "name": "stdout",
     "output_type": "stream",
     "text": [
      "X = TensorSpec(shape=(None, 64, 64, 3), dtype=tf.float32, name=None)\n",
      "Y = TensorSpec(shape=(None, 6), dtype=tf.float32, name=None)\n"
     ]
    }
   ],
   "source": [
    "X, Y = create_placeholders(64, 64, 3, 6)\n",
    "print (\"X = \" + str(X))\n",
    "print (\"Y = \" + str(Y))"
   ]
  },
  {
   "cell_type": "code",
   "execution_count": 13,
   "id": "f2252a68-a171-4728-8a5a-bd8a2542c9a8",
   "metadata": {},
   "outputs": [],
   "source": [
    "# GRADED FUNCTION: initialize_parameters\n",
    "\n",
    "def initialize_parameters():\n",
    "    initializer = tf.keras.initializers.GlorotUniform(seed=1)\n",
    "    W1 = tf.Variable(initializer(shape=(4, 4, 3, 8)), trainable=True, name=\"W1\")\n",
    "    W2 = tf.Variable(initializer(shape=(2, 2, 8, 16)), trainable=True, name=\"W2\")\n",
    "    ### END CODE HERE ###\n",
    "\n",
    "    parameters = {\"W1\": W1,\n",
    "                  \"W2\": W2}\n",
    "    \n",
    "    return parameters"
   ]
  },
  {
   "cell_type": "code",
   "execution_count": 15,
   "id": "777ffbd4-346e-4514-a22c-33abb880231d",
   "metadata": {},
   "outputs": [
    {
     "name": "stdout",
     "output_type": "stream",
     "text": [
      "W1[1,1,1] = [-0.07297277  0.04355428 -0.0658147   0.04896635  0.06719168  0.15787889\n",
      "  0.00253935  0.08261944]\n",
      "W2[1,1,1] = [ 0.1919449  -0.05628496 -0.1297453  -0.093014   -0.14830768  0.19019622\n",
      " -0.09055126  0.09372121 -0.03170478  0.08754992  0.07513338  0.1628921\n",
      "  0.00530177  0.07907039 -0.13447177 -0.22707456]\n"
     ]
    }
   ],
   "source": [
    "parameters = initialize_parameters()\n",
    "# Check specific elements of W1 and W2\n",
    "print(\"W1[1,1,1] =\", parameters[\"W1\"][1, 1, 1].numpy())  # Convert Tensor to NumPy for printing\n",
    "print(\"W2[1,1,1] =\", parameters[\"W2\"][1, 1, 1].numpy())"
   ]
  },
  {
   "cell_type": "code",
   "execution_count": 17,
   "id": "75e18ce2-5edd-4cf9-8470-54aafc2ab3e7",
   "metadata": {},
   "outputs": [],
   "source": [
    "def forward_propagation(X, parameters):\n",
    "    # Retrieve the parameters from the dictionary \"parameters\"\n",
    "    W1 = parameters['W1']\n",
    "    W2 = parameters['W2']\n",
    "\n",
    "    ### START CODE HERE ###\n",
    "    # CONV2D: stride of 1, padding 'SAME'\n",
    "    Z1 = tf.nn.conv2d(X, W1, strides=[1, 1, 1, 1], padding='SAME')\n",
    "    # RELU\n",
    "    A1 = tf.nn.relu(Z1)\n",
    "    # MAXPOOL: window 8x8, stride 8, padding 'SAME'\n",
    "    P1 = tf.nn.max_pool2d(A1, ksize=8, strides=8, padding='SAME')\n",
    "    # CONV2D: filters W2, stride 1, padding 'SAME'\n",
    "    Z2 = tf.nn.conv2d(P1, W2, strides=[1, 1, 1, 1], padding='SAME')\n",
    "    # RELU\n",
    "    A2 = tf.nn.relu(Z2)\n",
    "    # MAXPOOL: window 4x4, stride 4, padding 'SAME'\n",
    "    P2 = tf.nn.max_pool2d(A2, ksize=4, strides=4, padding='SAME')\n",
    "    # FLATTEN\n",
    "    P2_flattened = tf.reshape(P2, [P2.shape[0], -1])  # Flatten while keeping batch size\n",
    "    # FULLY-CONNECTED without non-linear activation function\n",
    "    Z3 = tf.keras.layers.Dense(6, activation=None)(P2_flattened)\n",
    "    ### END CODE HERE ###\n",
    "\n",
    "    return Z3"
   ]
  },
  {
   "cell_type": "code",
   "execution_count": 19,
   "id": "ce8d8248-e3cf-4e5f-8a2d-6e53745ac1ae",
   "metadata": {},
   "outputs": [
    {
     "name": "stdout",
     "output_type": "stream",
     "text": [
      "Z3 = [[ 1.1516829   1.0480745   0.86547667  0.382222    0.18759553 -1.0472085 ]\n",
      " [ 0.9830084   1.0896772   0.99412346  0.21589063  0.10498679 -1.3689249 ]]\n"
     ]
    }
   ],
   "source": [
    "# Main Execution\n",
    "np.random.seed(1)\n",
    "tf.random.set_seed(1)\n",
    "\n",
    "# Create example inputs\n",
    "X_input = tf.random.normal([2, 64, 64, 3])  # Example input tensor\n",
    "parameters = initialize_parameters()\n",
    "Z3 = forward_propagation(X_input, parameters)\n",
    "\n",
    "# Print the result\n",
    "print(\"Z3 =\", Z3.numpy())"
   ]
  },
  {
   "cell_type": "code",
   "execution_count": 21,
   "id": "30af207a-9403-487f-b5bf-5735b52b18a4",
   "metadata": {},
   "outputs": [],
   "source": [
    "# GRADED FUNCTION: compute_cost \n",
    "\n",
    "def compute_cost(Z3, Y):\n",
    "    \n",
    "    ### START CODE HERE ### (1 line of code)\n",
    "    cost = tf.reduce_mean(tf.nn.softmax_cross_entropy_with_logits(logits=Z3,labels=Y))\n",
    "    ### END CODE HERE ###\n",
    "    \n",
    "    return cost"
   ]
  },
  {
   "cell_type": "code",
   "execution_count": 43,
   "id": "076054e0-75c9-4881-b6f8-21af00cdd8c9",
   "metadata": {},
   "outputs": [
    {
     "name": "stdout",
     "output_type": "stream",
     "text": [
      "cost = -3.4331038\n"
     ]
    }
   ],
   "source": [
    "# Main Execution\n",
    "np.random.seed(1)\n",
    "tf.random.set_seed(1)\n",
    "\n",
    "# Create example inputs\n",
    "X_input = tf.random.normal([4, 64, 64, 3])  # Input tensor\n",
    "Y_input = tf.random.normal([4, 6])          # Example labels\n",
    "\n",
    "X_train = tf.convert_to_tensor(X_train, dtype=tf.float32)\n",
    "X_test = tf.convert_to_tensor(X_test, dtype=tf.float32)\n",
    "# Initialize parameters\n",
    "parameters = initialize_parameters()\n",
    "\n",
    "# Forward propagation\n",
    "Z3 = forward_propagation(X_input, parameters)\n",
    "\n",
    "# Compute cost\n",
    "cost = compute_cost(Z3, Y_input)\n",
    "\n",
    "# Print the cost\n",
    "print(\"cost =\", cost.numpy())"
   ]
  },
  {
   "cell_type": "code",
   "execution_count": 45,
   "id": "96cdd6ba-c508-4e4f-8c26-9b9517023fe4",
   "metadata": {},
   "outputs": [],
   "source": [
    "def model(X_train, Y_train, X_test, Y_test, learning_rate=0.009,\n",
    "          num_epochs=100, minibatch_size=64, print_cost=True):\n",
    "    tf.random.set_seed(1)  # to keep results consistent\n",
    "    seed = 3               # to keep results consistent\n",
    "    (m, n_H0, n_W0, n_C0) = X_train.shape\n",
    "    n_y = Y_train.shape[1]\n",
    "    costs = []\n",
    "\n",
    "    # Create the model variables\n",
    "    parameters = initialize_parameters()\n",
    "\n",
    "    # Create a dataset using tf.data for easier batch processing\n",
    "    train_dataset = tf.data.Dataset.from_tensor_slices((X_train, Y_train)).shuffle(buffer_size=m, seed=seed).batch(minibatch_size)\n",
    "    test_dataset = tf.data.Dataset.from_tensor_slices((X_test, Y_test)).batch(minibatch_size)\n",
    "\n",
    "    # Initialize optimizer and loss\n",
    "    optimizer = tf.keras.optimizers.Adam(learning_rate=learning_rate)\n",
    "\n",
    "    # Training loop\n",
    "    for epoch in range(num_epochs):\n",
    "        minibatch_cost = 0.0\n",
    "\n",
    "        for (minibatch_X, minibatch_Y) in train_dataset:\n",
    "            with tf.GradientTape() as tape:\n",
    "                Z3 = forward_propagation(minibatch_X, parameters)\n",
    "                cost = compute_cost(Z3, minibatch_Y)\n",
    "\n",
    "            grads = tape.gradient(cost, parameters.values())\n",
    "            optimizer.apply_gradients(zip(grads, parameters.values()))\n",
    "            minibatch_cost += cost.numpy() / len(train_dataset)\n",
    "\n",
    "        # Print cost every epoch\n",
    "        if print_cost and epoch % 5 == 0:\n",
    "            print(f\"Cost after epoch {epoch}: {minibatch_cost:.4f}\")\n",
    "        costs.append(minibatch_cost)\n",
    "\n",
    "    # Plot the cost\n",
    "    if print_cost:\n",
    "        plt.plot(np.squeeze(costs))\n",
    "        plt.ylabel('cost')\n",
    "        plt.xlabel('epochs')\n",
    "        plt.title(f\"Learning rate = {learning_rate}\")\n",
    "        plt.show()\n",
    "\n",
    "    # Compute accuracy\n",
    "    def compute_accuracy(dataset):\n",
    "        total_correct = 0\n",
    "        total_samples = 0\n",
    "        for (minibatch_X, minibatch_Y) in dataset:\n",
    "            Z3 = forward_propagation(minibatch_X, parameters)\n",
    "            predictions = tf.argmax(Z3, axis=1)\n",
    "            labels = tf.argmax(minibatch_Y, axis=1)\n",
    "            total_correct += tf.reduce_sum(tf.cast(predictions == labels, tf.float32)).numpy()\n",
    "            total_samples += minibatch_Y.shape[0]\n",
    "        return total_correct / total_samples\n",
    "\n",
    "    train_accuracy = compute_accuracy(train_dataset)\n",
    "    test_accuracy = compute_accuracy(test_dataset)\n",
    "\n",
    "    print(f\"Train Accuracy: {train_accuracy:.4f}\")\n",
    "    print(f\"Test Accuracy: {test_accuracy:.4f}\")\n",
    "\n",
    "    return train_accuracy, test_accuracy, parameters\n"
   ]
  },
  {
   "cell_type": "code",
   "execution_count": 47,
   "id": "f883eb8b-a631-4521-b98a-958c1624ec87",
   "metadata": {},
   "outputs": [
    {
     "name": "stdout",
     "output_type": "stream",
     "text": [
      "Cost after epoch 0: 1.7970\n",
      "Cost after epoch 5: 1.7918\n",
      "Cost after epoch 10: 1.7918\n",
      "Cost after epoch 15: 1.7918\n",
      "Cost after epoch 20: 1.7918\n",
      "Cost after epoch 25: 1.7918\n",
      "Cost after epoch 30: 1.7918\n",
      "Cost after epoch 35: 1.7918\n",
      "Cost after epoch 40: 1.7918\n",
      "Cost after epoch 45: 1.7918\n",
      "Cost after epoch 50: 1.7918\n",
      "Cost after epoch 55: 1.7918\n",
      "Cost after epoch 60: 1.7918\n",
      "Cost after epoch 65: 1.7918\n",
      "Cost after epoch 70: 1.7918\n",
      "Cost after epoch 75: 1.7918\n",
      "Cost after epoch 80: 1.7918\n",
      "Cost after epoch 85: 1.7918\n",
      "Cost after epoch 90: 1.7918\n",
      "Cost after epoch 95: 1.7918\n"
     ]
    },
    {
     "data": {
      "image/png": "[encoded data removed]",
      "text/plain": [
       "<Figure size 640x480 with 1 Axes>"
      ]
     },
     "metadata": {},
     "output_type": "display_data"
    },
    {
     "name": "stdout",
     "output_type": "stream",
     "text": [
      "Train Accuracy: 0.1667\n",
      "Test Accuracy: 0.1667\n"
     ]
    }
   ],
   "source": [
    "_, _, parameters = model(X_train, Y_train, X_test, Y_test)\n"
   ]
  }
 ],
 "metadata": {
  "kernelspec": {
   "display_name": "Python 3 (ipykernel)",
   "language": "python",
   "name": "python3"
  },
  "language_info": {
   "codemirror_mode": {
    "name": "ipython",
    "version": 3
   },
   "file_extension": ".py",
   "mimetype": "text/x-python",
   "name": "python",
   "nbconvert_exporter": "python",
   "pygments_lexer": "ipython3",
   "version": "3.12.4"
  }
 },
 "nbformat": 4,
 "nbformat_minor": 5
}
