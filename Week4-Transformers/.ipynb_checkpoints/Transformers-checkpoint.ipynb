{
 "cells": [
  {
   "cell_type": "markdown",
   "id": "6c332b42-2df3-4e3c-b5c8-c0b55987c7d7",
   "metadata": {},
   "source": [
    "# Transformer Network\n",
    "## After this assignment you'll be able to:\n",
    "\n",
    "- Create positional encodings to capture sequential relationships in data\n",
    "- Calculate scaled dot-product self-attention with word embeddings\n",
    "- Implement masked multi-head attention\n",
    "- Build and train a Transformer model"
   ]
  },
  {
   "cell_type": "code",
   "execution_count": 1,
   "id": "b50a6da9-e5f5-459a-96ea-17856bcb78d7",
   "metadata": {},
   "outputs": [
    {
     "name": "stdout",
     "output_type": "stream",
     "text": [
      "Python version       : 3.9.22 | packaged by conda-forge | (main, Apr 14 2025, 23:26:18) [MSC v.1929 64 bit (AMD64)]\n",
      "TensorFlow version   : 2.12.0\n",
      "Keras version        : 2.12.0\n",
      "Transformers version : 4.30.0\n",
      "NumPy version        : 1.23.5\n",
      "Matplotlib version   : 3.9.4\n"
     ]
    }
   ],
   "source": [
    "import sys\n",
    "import tensorflow as tf\n",
    "import keras\n",
    "import transformers\n",
    "import numpy as np\n",
    "import matplotlib\n",
    "\n",
    "print(f\"Python version       : {sys.version}\")\n",
    "print(f\"TensorFlow version   : {tf.__version__}\")\n",
    "print(f\"Keras version        : {keras.__version__}\")\n",
    "print(f\"Transformers version : {transformers.__version__}\")\n",
    "print(f\"NumPy version        : {np.__version__}\")\n",
    "print(f\"Matplotlib version   : {matplotlib.__version__}\")"
   ]
  },
  {
   "cell_type": "code",
   "execution_count": 2,
   "id": "c927d486-aafc-4a7c-a4f7-27a7a47c7a1e",
   "metadata": {},
   "outputs": [],
   "source": [
    "import tensorflow as tf\n",
    "import time\n",
    "import numpy as np\n",
    "import matplotlib.pyplot as plt\n",
    "\n",
    "from tensorflow.keras.layers import Embedding, MultiHeadAttention, Dense, Input, Dropout, LayerNormalization\n",
    "from transformers import DistilBertTokenizerFast #, TFDistilBertModel\n",
    "from transformers import TFDistilBertForTokenClassification"
   ]
  },
  {
   "cell_type": "markdown",
   "id": "60ad4c65-7b2e-422a-b8dd-2a58a50d37ed",
   "metadata": {},
   "source": [
    "# 1 - Positional Encoding\n",
    "In sequence to sequence tasks, the relative order of your data is extremely important to its meaning. When you were training sequential neural networks such as RNNs, you fed your inputs into the network in order. Information about the order of your data was automatically fed into your model. However, when you train a Transformer network using multi-head attention, you feed your data into the model all at once. While this dramatically reduces training time, there is no information about the order of your data. This is where positional encoding is useful - you can specifically encode the positions of your inputs and pass them into the network using these sine and cosine formulas:\n",
    "\n",
    "$$PE_{(pos, 2i)} = sin(\\frac{pos}{10000^{\\frac {2i}{d}}}) \\tag 1$$\n",
    "$$PE_{(pos, 2i+1)} = cos(\\frac{pos}{10000^{\\frac {2i}{d}}}) \\tag 2$$\n",
    "\n",
    " - __d__ is the dimension of the word embedding and positional encoding\n",
    " - __pos__ is the position of the word.\n",
    " - __k__ refers to each of the different dimensions in the positional encodings, with __i__ equal to __k // 2.__\n",
    "\n",
    "To develop some intuition about positional encodings, you can think of them broadly as a feature that contains the information about the relative positions of words. The sum of the positional encoding and word embedding is ultimately what is fed into the model. If you just hard code the positions in, say by adding a matrix of 1's or whole numbers to the word embedding, the semantic meaning is distorted. Conversely, the values of the sine and cosine equations are small enough (between -1 and 1) that when you add the positional encoding to a word embedding, the word embedding is not significantly distorted, and is instead enriched with positional information. Using a combination of these two equations helps your Transformer network attend to the relative positions of your input data. This was a short discussion on positional encodings, but to develop further intuition, check out the Positional Encoding Ungraded Lab.\n",
    "\n",
    "Note: In the lectures Andrew uses vertical vectors, but in this assignment all vectors are horizontal. All matrix multiplications should be adjusted accordingly.\n",
    "\n",
    "# 1.1 - Sine and Cosine Angles\n",
    "Notice that even though the sine and cosine positional encoding equations take in different arguments (2i versus 2i+1, or even versus odd numbers) the inner terms for both equations are the same:\n",
    "\n",
    "$$\\theta (pos,i,d) = \\frac {pos}{10000^\\frac{2i}{d}} \\tag 3$$\n",
    "\n",
    "Consider the inner term as you calculate the positional encoding for a word in a sequence.\n",
    "\n",
    "$PE_{(pos, 0)} = sin(\\frac{pos}{10000^{\\frac {0}{d}}})$, since solving 2i = 0 gives i = 0\n",
    "\n",
    "$PE_{(pos, 1)} = cos(\\frac{pos}{10000^{\\frac {0}{d}}})$, since solving 2i + 1 = 1 gives i = 0"
   ]
  },
  {
   "cell_type": "markdown",
   "id": "37e6b8ad-e916-4a8b-9bbb-8aec7f068f3e",
   "metadata": {},
   "source": [
    "The angle is the same for both! The angles for $PE_{(pos,2)}$ and $PE_{(pos,3)}$ are the same as well, since for both, i = 1 and therefore the inner term is $(\\frac{pos}{10000^{\\frac{2}{d}}})$. This relationship holds true for all paired sine and cosine curves:"
   ]
  },
  {
   "cell_type": "markdown",
   "id": "e9dc04b8-d3bf-4cae-840c-7312478efd9f",
   "metadata": {},
   "source": [
    "| k             | 0                 | 1                 | 2                 | 3      | ...   | d-2               | d-1               |\n",
    "|---------------|------------------|------------------|------------------|--------|-------|------------------|------------------|\n",
    "| encoding(0) = | $\\sin(\\theta(0,0,d))$ | $\\cos(\\theta(0,0,d))$ | $\\sin(\\theta(0,1,d))$ |$\\cos(\\theta(0,1,d))$| ...   | $\\sin(\\theta(0,\\frac{d}{2},d))$ | $\\cos(\\theta(0,\\frac{d}{2},d))$ |\n",
    "| encoding(1) = | $\\sin(\\theta(1,0,d))$ | $\\cos(\\theta(1,0,d))$ | $\\sin(\\theta(1,1,d))$ |$\\cos(\\theta(1,1,d))$| ...   | $\\sin(\\theta(1,\\frac{d}{2},d))$ | $\\cos(\\theta(1,\\frac{d}{2},d))$ |\n",
    "| encoding(pos) = | $\\sin(\\theta(pos,0,d))$ | $\\cos(\\theta(pos,0,d))$ | $\\sin(\\theta(pos,1,d))$ |$\\cos(\\theta(pos,1,d))$| ...   | $\\sin(\\theta(pos,\\frac{d}{2},d))$ | $\\cos(\\theta(pos,\\frac{d}{2},d))$ |\n",
    "\n",
    "# Exercise 1 - get_angles\n",
    "Implement the function get_angles() to calculate the possible angles for the sine and cosine positional encodings\n",
    "\n",
    "## Hints\n",
    "\n",
    "- If k = [0, 1, 2, 3, 4, 5], then, i must be i = [0, 0, 1, 1, 2, 2]\n",
    "\n",
    "- i = k//2\n"
   ]
  },
  {
   "cell_type": "code",
   "execution_count": 3,
   "id": "6a86f0ff-5d35-4cae-b5b6-daae7e5486a9",
   "metadata": {},
   "outputs": [],
   "source": [
    "# UNQ_C1 (UNIQUE CELL IDENTIFIER, DO NOT EDIT)\n",
    "# GRADED FUNCTION get_angles\n",
    "def get_angles(pos, k, d):\n",
    "    \"\"\"\n",
    "    Get the angles for the positional encoding\n",
    "    \n",
    "    Arguments:\n",
    "        pos -- Column vector containing the positions [[0], [1], ...,[N-1]]\n",
    "        k --   Row vector containing the dimension span [[0, 1, 2, ..., d-1]]\n",
    "        d(integer) -- Encoding size\n",
    "    \n",
    "    Returns:\n",
    "        angles -- (pos, d) numpy array \n",
    "    \"\"\"\n",
    "    \n",
    "    # START CODE HERE\n",
    "    # Get i from dimension span k\n",
    "    i = k // 2\n",
    "    # Calculate the angles using pos, i and d\n",
    "    angles = pos / 10000**(2*i/d)\n",
    "    # END CODE HERE\n",
    "    \n",
    "    return angles"
   ]
  },
  {
   "cell_type": "code",
   "execution_count": 4,
   "id": "ade132e7-45dd-4342-9475-ab5151d7f72d",
   "metadata": {},
   "outputs": [
    {
     "name": "stdout",
     "output_type": "stream",
     "text": [
      "\u001b[92mAll tests passed\n"
     ]
    },
    {
     "data": {
      "text/plain": [
       "array([[0.e+00, 0.e+00, 0.e+00, 0.e+00, 0.e+00, 0.e+00, 0.e+00, 0.e+00],\n",
       "       [1.e+00, 1.e+00, 1.e-01, 1.e-01, 1.e-02, 1.e-02, 1.e-03, 1.e-03],\n",
       "       [2.e+00, 2.e+00, 2.e-01, 2.e-01, 2.e-02, 2.e-02, 2.e-03, 2.e-03],\n",
       "       [3.e+00, 3.e+00, 3.e-01, 3.e-01, 3.e-02, 3.e-02, 3.e-03, 3.e-03]])"
      ]
     },
     "execution_count": 4,
     "metadata": {},
     "output_type": "execute_result"
    }
   ],
   "source": [
    "from public_tests import *\n",
    "\n",
    "get_angles_test(get_angles)\n",
    "\n",
    "# Example\n",
    "position = 4\n",
    "d_model = 8\n",
    "pos_m = np.arange(position)[:, np.newaxis]\n",
    "dims = np.arange(d_model)[np.newaxis, :]\n",
    "get_angles(pos_m, dims, d_model)"
   ]
  },
  {
   "cell_type": "markdown",
   "id": "83f02472-6c54-4382-b845-94516502e7df",
   "metadata": {},
   "source": [
    "# Exercise 2 - positional_encoding\n",
    "Implement the function positional_encoding() to calculate the sine and cosine positional encodings\n",
    "\n",
    "Reminder: Use the sine equation when __i__ is an even number and the cosine equation when __i__ is an odd number."
   ]
  },
  {
   "cell_type": "code",
   "execution_count": 5,
   "id": "fadd7bd0-4fd3-4d73-af1c-6a0e113a7254",
   "metadata": {},
   "outputs": [],
   "source": [
    "def positional_encoding(positions, d):\n",
    "    \"\"\"\n",
    "    Precomputes a matrix with all the positional encodings \n",
    "    \n",
    "    Arguments:\n",
    "        positions (int) -- Maximum number of positions to be encoded \n",
    "        d (int) -- Encoding size \n",
    "    \n",
    "    Returns:\n",
    "        pos_encoding -- (1, position, d_model) A matrix with the positional encodings\n",
    "    \"\"\"\n",
    "    # START CODE HERE\n",
    "    # initialize a matrix angle_rads of all the angles \n",
    "    angle_rads = get_angles(np.arange(positions)[:, np.newaxis],\n",
    "                            np.arange(d)[np.newaxis, :],\n",
    "                            d)\n",
    "  \n",
    "    # apply sin to even indices in the array; 2i\n",
    "    angle_rads[:, 0::2] = np.sin(angle_rads[:, 0::2])\n",
    "  \n",
    "    # apply cos to odd indices in the array; 2i+1\n",
    "    angle_rads[:, 1::2] = np.cos(angle_rads[:, 1::2])\n",
    "    # END CODE HERE\n",
    "    \n",
    "    pos_encoding = angle_rads[np.newaxis, ...]\n",
    "    \n",
    "    return tf.cast(pos_encoding, dtype=tf.float32)"
   ]
  },
  {
   "cell_type": "code",
   "execution_count": 6,
   "id": "7e294266-5634-4982-b020-53d7b5db4bf6",
   "metadata": {},
   "outputs": [
    {
     "name": "stdout",
     "output_type": "stream",
     "text": [
      "\u001b[92mAll tests passed\n"
     ]
    }
   ],
   "source": [
    "# UNIT TEST    \n",
    "positional_encoding_test(positional_encoding, get_angles)"
   ]
  },
  {
   "cell_type": "code",
   "execution_count": 7,
   "id": "51b8acc7-5c20-45bd-8891-31a5753394e0",
   "metadata": {},
   "outputs": [
    {
     "name": "stdout",
     "output_type": "stream",
     "text": [
      "(1, 50, 512)\n"
     ]
    },
    {
     "data": {
      "image/png": "[encoded data removed]",
      "text/plain": [
       "<Figure size 640x480 with 2 Axes>"
      ]
     },
     "metadata": {},
     "output_type": "display_data"
    }
   ],
   "source": [
    "pos_encoding = positional_encoding(50, 512)\n",
    "\n",
    "print (pos_encoding.shape)\n",
    "\n",
    "plt.pcolormesh(pos_encoding[0], cmap='RdBu')\n",
    "plt.xlabel('d')\n",
    "plt.xlim((0, 512))\n",
    "plt.ylabel('Position')\n",
    "plt.colorbar()\n",
    "plt.show()"
   ]
  },
  {
   "cell_type": "markdown",
   "id": "c938769e-f6f6-408c-a490-cc8153c06eb5",
   "metadata": {},
   "source": [
    "# 2 - Masking\n",
    "There are two types of masks that are useful when building your Transformer network: the padding mask and the look-ahead mask. Both help the softmax computation give the appropriate weights to the words in your input sentence.\n",
    "\n",
    "\n",
    "# 2.1 - Padding Mask\n",
    "Oftentimes your input sequence will exceed the maximum length of a sequence your network can process. Let's say the maximum length of your model is five, it is fed the following sequences:\n",
    "\n",
    "[[\"Do\", \"you\", \"know\", \"when\", \"Jane\", \"is\", \"going\", \"to\", \"visit\", \"Africa\"], \n",
    " [\"Jane\", \"visits\", \"Africa\", \"in\", \"September\" ],\n",
    " [\"Exciting\", \"!\"]\n",
    "]\n",
    "which might get vectorized as:\n",
    "\n",
    "[[ 71, 121, 4, 56, 99, 2344, 345, 1284, 15],\n",
    " [ 56, 1285, 15, 181, 545],\n",
    " [ 87, 600]\n",
    "]\n",
    "When passing sequences into a transformer model, it is important that they are of uniform length. You can achieve this by padding the sequence with zeros, and truncating sentences that exceed the maximum length of your model:\n",
    "\n",
    "[[ 71, 121, 4, 56, 99],\n",
    " [ 2344, 345, 1284, 15, 0],\n",
    " [ 56, 1285, 15, 181, 545],\n",
    " [ 87, 600, 0, 0, 0],\n",
    "]\n",
    "Sequences longer than the maximum length of five will be truncated, and zeros will be added to the truncated sequence to achieve uniform length. Similarly, for sequences shorter than the maximum length, zeros will also be added for padding. However, these zeros will affect the softmax calculation - this is when a padding mask comes in handy! You will need to define a boolean mask that specifies to which elements you must attend(1) and which elements you must ignore(0). Later you will use that mask to set all the zeros in the sequence to a value close to negative infinity (-1e9). We'll implement this for you so you can get to the fun of building the Transformer network! 😇 Just make sure you go through the code so you can correctly implement padding when building your model.\n",
    "\n",
    "After masking, your input should go from [87, 600, 0, 0, 0] to [87, 600, -1e9, -1e9, -1e9], so that when you take the softmax, the zeros don't affect the score.\n",
    "\n",
    "The MultiheadAttention layer implemented in Keras, uses this masking logic.\n",
    "\n",
    "Note: The below function only creates the mask of an already padded sequence. Later in this week, you’ll go through some Labs on Transformer applications, where you’ll be introduced to TensorFlow Tokenizer and Hugging Face Tokenizer, which internally handle padding (and truncating) the input sequence."
   ]
  },
  {
   "cell_type": "code",
   "execution_count": 8,
   "id": "34bacb80-6757-4840-a271-e6c1e02af9c2",
   "metadata": {},
   "outputs": [],
   "source": [
    "def create_padding_mask(decoder_token_ids):\n",
    "    \"\"\"\n",
    "    Creates a matrix mask for the padding cells\n",
    "    \n",
    "    Arguments:\n",
    "        decoder_token_ids -- (n, m) matrix\n",
    "    \n",
    "    Returns:\n",
    "        mask -- (n, 1, m) binary tensor\n",
    "    \"\"\"    \n",
    "    seq = 1 - tf.cast(tf.math.equal(decoder_token_ids, 0), tf.float32)\n",
    "  \n",
    "    # add extra dimensions to add the padding\n",
    "    # to the attention logits. \n",
    "    # this will allow for broadcasting later when comparing sequences\n",
    "    return seq[:, tf.newaxis, :]  "
   ]
  },
  {
   "cell_type": "code",
   "execution_count": 9,
   "id": "f3d3326e-40bd-44f1-afff-703d963cd679",
   "metadata": {},
   "outputs": [
    {
     "name": "stdout",
     "output_type": "stream",
     "text": [
      "tf.Tensor(\n",
      "[[[1. 1. 0. 0. 1.]]\n",
      "\n",
      " [[1. 1. 1. 0. 0.]]\n",
      "\n",
      " [[0. 0. 0. 1. 1.]]], shape=(3, 1, 5), dtype=float32)\n"
     ]
    }
   ],
   "source": [
    "x = tf.constant([[7., 6., 0., 0., 1.], [1., 2., 3., 0., 0.], [0., 0., 0., 4., 5.]])\n",
    "print(create_padding_mask(x))"
   ]
  },
  {
   "cell_type": "markdown",
   "id": "ab274aed-809a-4d41-a0d4-6f833a2ed95b",
   "metadata": {},
   "source": [
    "If we multiply (1 - mask) by -1e9 and add it to the sample input sequences, the zeros are essentially set to negative infinity. Notice the difference when taking the softmax of the original sequence and the masked sequence:"
   ]
  },
  {
   "cell_type": "code",
   "execution_count": 10,
   "id": "fc4850d2-ccd2-46d7-8361-bc7c0e1bbd23",
   "metadata": {},
   "outputs": [
    {
     "name": "stdout",
     "output_type": "stream",
     "text": [
      "tf.Tensor(\n",
      "[[7.2876638e-01 2.6809818e-01 6.6454895e-04 6.6454895e-04 1.8064313e-03]\n",
      " [8.4437370e-02 2.2952457e-01 6.2391245e-01 3.1062772e-02 3.1062772e-02]\n",
      " [4.8541026e-03 4.8541026e-03 4.8541026e-03 2.6502505e-01 7.2041273e-01]], shape=(3, 5), dtype=float32)\n",
      "tf.Tensor(\n",
      "[[[7.2973627e-01 2.6845497e-01 0.0000000e+00 0.0000000e+00 1.8088354e-03]\n",
      "  [2.4472848e-01 6.6524094e-01 0.0000000e+00 0.0000000e+00 9.0030573e-02]\n",
      "  [6.6483542e-03 6.6483542e-03 0.0000000e+00 0.0000000e+00 9.8670328e-01]]\n",
      "\n",
      " [[7.3057157e-01 2.6876226e-01 6.6619506e-04 0.0000000e+00 0.0000000e+00]\n",
      "  [9.0030566e-02 2.4472845e-01 6.6524088e-01 0.0000000e+00 0.0000000e+00]\n",
      "  [3.3333334e-01 3.3333334e-01 3.3333334e-01 0.0000000e+00 0.0000000e+00]]\n",
      "\n",
      " [[0.0000000e+00 0.0000000e+00 0.0000000e+00 2.6894143e-01 7.3105860e-01]\n",
      "  [0.0000000e+00 0.0000000e+00 0.0000000e+00 5.0000000e-01 5.0000000e-01]\n",
      "  [0.0000000e+00 0.0000000e+00 0.0000000e+00 2.6894143e-01 7.3105860e-01]]], shape=(3, 3, 5), dtype=float32)\n"
     ]
    }
   ],
   "source": [
    "print(tf.keras.activations.softmax(x))\n",
    "print(tf.keras.activations.softmax(x + (1 - create_padding_mask(x)) * -1.0e9))"
   ]
  },
  {
   "cell_type": "markdown",
   "id": "caa33cb1-d82b-47e5-9467-e3be14360fa4",
   "metadata": {},
   "source": [
    "# 2.2 - Look-ahead Mask\n",
    "The look-ahead mask follows similar intuition. In training, you will have access to the complete correct output of your training example. The look-ahead mask helps your model pretend that it correctly predicted a part of the output and see if, without looking ahead, it can correctly predict the next output.\n",
    "\n",
    "For example, if the expected correct output is [1, 2, 3] and you wanted to see if given that the model correctly predicted the first value it could predict the second value, you would mask out the second and third values. So you would input the masked sequence [1, -1e9, -1e9] and see if it could generate [1, 2, -1e9].\n",
    "\n",
    "Just because you've worked so hard, we'll also implement this mask for you 😇😇. Again, take a close look at the code so you can effectively implement it later."
   ]
  },
  {
   "cell_type": "code",
   "execution_count": 11,
   "id": "79e9e1ac-5265-45d0-a6aa-d04ee815a0b7",
   "metadata": {},
   "outputs": [],
   "source": [
    "def create_look_ahead_mask(sequence_length):\n",
    "    \"\"\"\n",
    "    Returns a lower triangular matrix filled with ones\n",
    "    \n",
    "    Arguments:\n",
    "        sequence_length -- matrix size\n",
    "    \n",
    "    Returns:\n",
    "        mask -- (size, size) tensor\n",
    "    \"\"\"\n",
    "    mask = tf.linalg.band_part(tf.ones((1, sequence_length, sequence_length)), -1, 0)\n",
    "    return mask "
   ]
  },
  {
   "cell_type": "code",
   "execution_count": 12,
   "id": "9bfb3b5c-5af2-4888-b0d3-c22a33a234a4",
   "metadata": {},
   "outputs": [
    {
     "data": {
      "text/plain": [
       "<tf.Tensor: shape=(1, 3, 3), dtype=float32, numpy=\n",
       "array([[[1., 0., 0.],\n",
       "        [1., 1., 0.],\n",
       "        [1., 1., 1.]]], dtype=float32)>"
      ]
     },
     "execution_count": 12,
     "metadata": {},
     "output_type": "execute_result"
    }
   ],
   "source": [
    "x = tf.random.uniform((1, 3))\n",
    "temp = create_look_ahead_mask(x.shape[1])\n",
    "temp"
   ]
  },
  {
   "cell_type": "markdown",
   "id": "115ef185-bb37-4b14-bd6b-8f52b8626a35",
   "metadata": {},
   "source": [
    "# 3 - Self-Attention\n",
    "As the authors of the Transformers paper state, \"Attention is All You Need\".\n",
    "![Attension](images/attension.png)"
   ]
  },
  {
   "cell_type": "markdown",
   "id": "2ef2c73c-6236-4e8f-b335-c635e804dc04",
   "metadata": {},
   "source": [
    "Figure 1: Self-Attention calculation visualization\n",
    "\n",
    "The use of self-attention paired with traditional convolutional networks allows for parallelization which speeds up training. You will implement scaled dot product attention which takes in a query, key, value, and a mask as inputs to return rich, attention-based vector representations of the words in your sequence. This type of self-attention can be mathematically expressed as:\n",
    "\n",
    "$$Attention(Q,K,V) = Softmax(\\frac {QK^T}{\\sqrt{d_k}} + M ) V \\tag {4}$$\n",
    "\n",
    " - Q is the matrix of queries\n",
    " - K is the matrix of keys\n",
    " - V is the matrix of values\n",
    " - M is the optional mask you choose to apply\n",
    " - d_k is the dimension of the keys, which is used to scale everything down so the softmax doesn't explode\n",
    "\n",
    "# Exercise 3 - scaled_dot_product_attention\n",
    "Implement the function scaled_dot_product_attention() to create attention-based representations.\n",
    "\n",
    "Reminder: The boolean mask parameter can be passed in as none or as either padding or look-ahead.\n",
    "\n",
    "Multiply (1. - mask) by -1e9 before applying the softmax. \n",
    "\n",
    "Additional Hints\n",
    "\n",
    "You may find tf.matmul useful for matrix multiplication."
   ]
  },
  {
   "cell_type": "code",
   "execution_count": 13,
   "id": "67c35112-ebee-4b87-af5d-2989a284297f",
   "metadata": {},
   "outputs": [],
   "source": [
    "def scaled_dot_product_attention(q, k, v, mask):\n",
    "    \"\"\"\n",
    "    Calculate the attention weights.\n",
    "      q, k, v must have matching leading dimensions.\n",
    "      k, v must have matching penultimate dimension, i.e.: seq_len_k = seq_len_v.\n",
    "      The mask has different shapes depending on its type(padding or look ahead) \n",
    "      but it must be broadcastable for addition.\n",
    "\n",
    "    Arguments:\n",
    "        q -- query shape == (..., seq_len_q, depth)\n",
    "        k -- key shape == (..., seq_len_k, depth)\n",
    "        v -- value shape == (..., seq_len_v, depth_v)\n",
    "        mask: Float tensor with shape broadcastable \n",
    "              to (..., seq_len_q, seq_len_k). Defaults to None.\n",
    "\n",
    "    Returns:\n",
    "        output -- attention_weights\n",
    "    \"\"\"\n",
    "#     # START CODE HERE\n",
    "    \n",
    "#     matmul_qk = None  # (..., seq_len_q, seq_len_k)\n",
    "\n",
    "#     # scale matmul_qk\n",
    "#     dk = None\n",
    "#     scaled_attention_logits = None\n",
    "\n",
    "#     # add the mask to the scaled tensor.\n",
    "#     if mask is not None: # Don't replace this None\n",
    "#         scaled_attention_logits += None \n",
    "\n",
    "#     # softmax is normalized on the last axis (seq_len_k) so that the scores\n",
    "#     # add up to 1.\n",
    "#     attention_weights = None  # (..., seq_len_q, seq_len_k)\n",
    "\n",
    "#     output = None  # (..., seq_len_q, depth_v)\n",
    "    \n",
    "#     # END CODE HERE\n",
    "    \n",
    "    # START CODE HERE\n",
    "    \n",
    "    matmul_qk = tf.matmul(q, k, transpose_b=True)  # (..., seq_len_q, seq_len_k)\n",
    "\n",
    "    # scale matmul_qk\n",
    "    dk = tf.cast(tf.shape(k)[-1], tf.float32)\n",
    "    scaled_attention_logits = matmul_qk / tf.math.sqrt(dk)\n",
    "\n",
    "    # add the mask to the scaled tensor.\n",
    "    if mask is not None: # Don't replace this None\n",
    "        scaled_attention_logits += ((1. - mask) * -1e9) \n",
    "\n",
    "    # softmax is normalized on the last axis (seq_len_k) so that the scores\n",
    "    # add up to 1.\n",
    "    attention_weights = tf.nn.softmax(scaled_attention_logits, axis=-1)  # (..., seq_len_q, seq_len_k)\n",
    "\n",
    "    output = tf.matmul(attention_weights, v)  # (..., seq_len_q, depth_v)\n",
    "    \n",
    "    # END CODE HERE    \n",
    "\n",
    "    return output, attention_weights"
   ]
  },
  {
   "cell_type": "code",
   "execution_count": 14,
   "id": "3bbbb6e9-1734-45ff-b52d-73566dc0f90c",
   "metadata": {},
   "outputs": [
    {
     "name": "stdout",
     "output_type": "stream",
     "text": [
      "\u001b[92mAll tests passed\n"
     ]
    }
   ],
   "source": [
    "# UNIT TEST\n",
    "scaled_dot_product_attention_test(scaled_dot_product_attention)"
   ]
  },
  {
   "cell_type": "markdown",
   "id": "95ce7dfd-2367-45ee-bfc7-555e8e67e93f",
   "metadata": {},
   "source": [
    "# 4 - Encoder\n",
    "The Transformer Encoder layer pairs self-attention and convolutional neural network style of processing to improve the speed of training and passes K and V matrices to the Decoder, which you'll build later in the assignment. In this section of the assignment, you will implement the Encoder by pairing multi-head attention and a feed forward neural network (Figure 2a)."
   ]
  },
  {
   "cell_type": "markdown",
   "id": "38358764-1489-4dfb-b32c-8f175edeff81",
   "metadata": {},
   "source": [
    "![Encoder](images/encoder.png)"
   ]
  },
  {
   "cell_type": "markdown",
   "id": "38da046c-8641-498c-b323-13df6f821480",
   "metadata": {},
   "source": [
    "- MultiHeadAttention you can think of as computing the self-attention several times to detect different features.\n",
    "- Feed forward neural network contains two Dense layers which we'll implement as the function FullyConnected\n",
    "\n",
    "Your input sentence first passes through a multi-head attention layer, where the encoder looks at other words in the input sentence as it encodes a specific word. The outputs of the multi-head attention layer are then fed to a feed forward neural network. The exact same feed forward network is independently applied to each position.\n",
    "\n",
    "- For the MultiHeadAttention layer, you will use the Keras implementation. If you're curious about how to split the query matrix Q, key matrix K, and value matrix V into different heads, you can look through the implementation.\n",
    "- You will also use the Sequential API with two dense layers to built the feed forward neural network layers."
   ]
  },
  {
   "cell_type": "code",
   "execution_count": 15,
   "id": "dc503073-e535-4645-8b4d-9825628fbe7f",
   "metadata": {},
   "outputs": [],
   "source": [
    "def FullyConnected(embedding_dim, fully_connected_dim):\n",
    "    return tf.keras.Sequential([\n",
    "        tf.keras.layers.Dense(fully_connected_dim, activation='relu'),  # (batch_size, seq_len, dff)\n",
    "        tf.keras.layers.Dense(embedding_dim)  # (batch_size, seq_len, embedding_dim)\n",
    "    ])"
   ]
  },
  {
   "cell_type": "markdown",
   "id": "bbc7bf1a-3d4b-4c96-8014-8beb026ee40f",
   "metadata": {},
   "source": [
    "# 4.1 Encoder Layer\n",
    "Now you can pair multi-head attention and feed forward neural network together in an encoder layer! You will also use residual connections and layer normalization to help speed up training (Figure 2a).\n",
    "\n",
    "\n",
    "# Exercise 4 - EncoderLayer\n",
    "Implement EncoderLayer() using the call() method\n",
    "\n",
    "In this exercise, you will implement one encoder block (Figure 2) using the call() method. The function should perform the following steps:\n",
    "\n",
    "1. You will pass the Q, V, K matrices and a boolean mask to a multi-head attention layer. Remember that to compute self-attention Q, V and K should be the same. Set the default values for return_attention_scores and training. You will also perform Dropout in this multi-head attention layer during training.\n",
    "2. Now add a skip connection by adding your original input x and the output of the your multi-head attention layer.\n",
    "3. After adding the skip connection, pass the output through the first normalization layer.\n",
    "4. Finally, repeat steps 1-3 but with the feed forward neural network with a dropout layer instead of the multi-head attention layer.\n",
    "## Additional Hints (Click to expand)\n",
    "- The __init__ method creates all the layers that will be accesed by the the call method. Wherever you want to use a layer defined inside the __init__ method you will have to use the syntax self.[insert layer name].\n",
    "- You will find the documentation of MultiHeadAttention helpful. Note that if query, key and value are the same, then this function performs self-attention.\n",
    "- The call arguments for self.mha are (Where B is for batch_size, T is for target sequence shapes, and S is output_shape):\n",
    "- query: Query Tensor of shape (B, T, dim).\n",
    "- value: Value Tensor of shape (B, S, dim).\n",
    "- key: Optional key Tensor of shape (B, S, dim). If not given, will use value for both key and value, which is the most common case.\n",
    "- attention_mask: a boolean mask of shape (B, T, S), that prevents attention to certain positions. The boolean mask specifies which query elements can attend to which key elements, 1 indicates attention and 0 indicates no attention. Broadcasting can happen for the missing batch dimensions and the head dimension.\n",
    "- return_attention_scores: A boolean to indicate whether the output should be attention output if True, or (attention_output, attention_scores) if False. Defaults to False.\n",
    "- training: Python boolean indicating whether the layer should behave in training mode (adding dropout) or in inference mode (no dropout). Defaults to either using the training mode of the parent layer/model, or False (inference) if there is no parent layer. Take a look at tf.keras.layers.Dropout for more details (Additional reading in Keras FAQ)"
   ]
  },
  {
   "cell_type": "code",
   "execution_count": 16,
   "id": "971eb36b-86f9-48a2-a5e7-1a3cd831aeac",
   "metadata": {},
   "outputs": [],
   "source": [
    "# GRADED FUNCTION EncoderLayer\n",
    "class EncoderLayer(tf.keras.layers.Layer):\n",
    "    \"\"\"\n",
    "    The encoder layer is composed by a multi-head self-attention mechanism,\n",
    "    followed by a simple, positionwise fully connected feed-forward network. \n",
    "    This architecture includes a residual connection around each of the two \n",
    "    sub-layers, followed by layer normalization.\n",
    "    \"\"\"\n",
    "    def __init__(self, embedding_dim, num_heads, fully_connected_dim,\n",
    "                 dropout_rate=0.1, layernorm_eps=1e-6):\n",
    "        super(EncoderLayer, self).__init__()\n",
    "\n",
    "        self.mha = MultiHeadAttention(num_heads=num_heads,\n",
    "                                      key_dim=embedding_dim,\n",
    "                                      dropout=dropout_rate)\n",
    "\n",
    "        self.ffn = FullyConnected(embedding_dim=embedding_dim,\n",
    "                                  fully_connected_dim=fully_connected_dim)\n",
    "\n",
    "        self.layernorm1 = LayerNormalization(epsilon=layernorm_eps)\n",
    "        self.layernorm2 = LayerNormalization(epsilon=layernorm_eps)\n",
    "\n",
    "        self.dropout_ffn = Dropout(dropout_rate)\n",
    "    \n",
    "    def call(self, x, training, mask):\n",
    "        \"\"\"\n",
    "        Forward pass for the Encoder Layer\n",
    "        \n",
    "        Arguments:\n",
    "            x -- Tensor of shape (batch_size, input_seq_len, embedding_dim)\n",
    "            training -- Boolean, set to true to activate\n",
    "                        the training mode for dropout layers\n",
    "            mask -- Boolean mask to ensure that the padding is not \n",
    "                    treated as part of the input\n",
    "        Returns:\n",
    "            encoder_layer_out -- Tensor of shape (batch_size, input_seq_len, embedding_dim)\n",
    "        \"\"\"\n",
    "        # START CODE HERE\n",
    "        # calculate self-attention using mha(~1 line).\n",
    "        # Dropout is added by Keras automatically if the dropout parameter is non-zero during training\n",
    "        self_mha_output = self.mha(x, x, x, mask)  # Self attention (batch_size, input_seq_len, embedding_dim)\n",
    "        \n",
    "        # skip connection\n",
    "        # apply layer normalization on sum of the input and the attention output to get the  \n",
    "        # output of the multi-head attention layer (~1 line)\n",
    "        skip_x_attention = self.layernorm1(x + self_mha_output)  # (batch_size, input_seq_len, embedding_dim)\n",
    "\n",
    "        # pass the output of the multi-head attention layer through a ffn (~1 line)\n",
    "        ffn_output = self.ffn(skip_x_attention)  # (batch_size, input_seq_len, embedding_dim)\n",
    "        \n",
    "        # apply dropout layer to ffn output during training (~1 line)\n",
    "        # use `training=training` \n",
    "        ffn_output = self.dropout_ffn(ffn_output, training=training)\n",
    "        \n",
    "        # apply layer normalization on sum of the output from multi-head attention (skip connection) and ffn output to get the\n",
    "        # output of the encoder layer (~1 line)\n",
    "        encoder_layer_out = self.layernorm2(skip_x_attention + ffn_output)  # (batch_size, input_seq_len, embedding_dim)\n",
    "        # END CODE HERE\n",
    "        \n",
    "        return encoder_layer_out"
   ]
  },
  {
   "cell_type": "code",
   "execution_count": null,
   "id": "e4ea9783-fb16-474c-8023-715179074b92",
   "metadata": {},
   "outputs": [],
   "source": [
    "# UNIT TEST\n",
    "EncoderLayer_test(EncoderLayer)"
   ]
  },
  {
   "cell_type": "markdown",
   "id": "5c12cc8e-cab1-405d-9c9e-b284566761cb",
   "metadata": {},
   "source": [
    "# 4.2 - Full Encoder\n",
    "Awesome job! You have now successfully implemented positional encoding, self-attention, and an encoder layer - give yourself a pat on the back. Now you're ready to build the full Transformer Encoder (Figure 2b), where you will embed your input and add the positional encodings you calculated. You will then feed your encoded embeddings to a stack of Encoder layers.\n",
    "\n"
   ]
  },
  {
   "cell_type": "markdown",
   "id": "dff7f265-6819-4413-9eb0-94c3f0584f49",
   "metadata": {},
   "source": [
    "![Full encoder](images/fullEncoder.png)"
   ]
  },
  {
   "cell_type": "markdown",
   "id": "36da8519-cc3e-4900-ba81-defb5f329f69",
   "metadata": {},
   "source": [
    "# Exercise 5 - Encoder\n",
    "Complete the Encoder() function using the call() method to embed your input, add positional encoding, and implement multiple encoder layers.\n",
    "\n",
    "In this exercise, you will initialize your Encoder with an Embedding layer, positional encoding, and multiple EncoderLayers. Your call() method will perform the following steps:\n",
    "\n",
    "1. Pass your input through the Embedding layer.\n",
    "2. Scale your embedding by multiplying it by the square root of your embedding dimension. Remember to cast the embedding dimension to data type tf.float32 before computing the square root.\n",
    "3. Add the position encoding: self.pos_encoding [:, :seq_len, :] to your embedding.\n",
    "4. Pass the encoded embedding through a dropout layer, remembering to use the training parameter to set the model training mode.\n",
    "5. Pass the output of the dropout layer through the stack of encoding layers using a for loop."
   ]
  },
  {
   "cell_type": "code",
   "execution_count": 20,
   "id": "c5cdb94a-64bc-419d-a6ac-15cad65ab123",
   "metadata": {},
   "outputs": [],
   "source": [
    "# GRADED FUNCTION\n",
    "class Encoder(tf.keras.layers.Layer):\n",
    "    \"\"\"\n",
    "    The entire Encoder starts by passing the input to an embedding layer \n",
    "    and using positional encoding to then pass the output through a stack of\n",
    "    encoder Layers\n",
    "        \n",
    "    \"\"\"  \n",
    "    def __init__(self, num_layers, embedding_dim, num_heads, fully_connected_dim, input_vocab_size,\n",
    "               maximum_position_encoding, dropout_rate=0.1, layernorm_eps=1e-6):\n",
    "        super(Encoder, self).__init__()\n",
    "\n",
    "        self.embedding_dim = embedding_dim\n",
    "        self.num_layers = num_layers\n",
    "\n",
    "        self.embedding = Embedding(input_vocab_size, self.embedding_dim)\n",
    "        self.pos_encoding = positional_encoding(maximum_position_encoding, \n",
    "                                                self.embedding_dim)\n",
    "\n",
    "\n",
    "        self.enc_layers = [EncoderLayer(embedding_dim=self.embedding_dim,\n",
    "                                        num_heads=num_heads,\n",
    "                                        fully_connected_dim=fully_connected_dim,\n",
    "                                        dropout_rate=dropout_rate,\n",
    "                                        layernorm_eps=layernorm_eps) \n",
    "                           for _ in range(self.num_layers)]\n",
    "\n",
    "        self.dropout = Dropout(dropout_rate)\n",
    "        \n",
    "    def call(self, x, training, mask):\n",
    "        \"\"\"\n",
    "        Forward pass for the Encoder\n",
    "        \n",
    "        Arguments:\n",
    "            x -- Tensor of shape (batch_size, input_seq_len)\n",
    "            training -- Boolean, set to true to activate\n",
    "                        the training mode for dropout layers\n",
    "            mask -- Boolean mask to ensure that the padding is not \n",
    "                    treated as part of the input\n",
    "        Returns:\n",
    "            out2 -- Tensor of shape (batch_size, input_seq_len, embedding_dim)\n",
    "        \"\"\"\n",
    "        seq_len = tf.shape(x)[1]\n",
    "        \n",
    "        # START CODE HERE\n",
    "        # Pass input through the Embedding layer\n",
    "        x = self.embedding(x)  # (batch_size, input_seq_len, embedding_dim)\n",
    "        # Scale embedding by multiplying it by the square root of the embedding dimension\n",
    "        x *= tf.math.sqrt(tf.cast(self.embedding_dim, tf.float32))\n",
    "        # Add the position encoding to embedding\n",
    "        x += self.pos_encoding[:, :seq_len, :]\n",
    "        # Pass the encoded embedding through a dropout layer\n",
    "        # use `training=training`\n",
    "        x = self.dropout(x, training=training)\n",
    "        # Pass the output through the stack of encoding layers \n",
    "        for i in range(self.num_layers):\n",
    "            x = self.enc_layers[i](x, training, mask)\n",
    "        # END CODE HERE\n",
    "\n",
    "        return x  # (batch_size, input_seq_len, embedding_dim)"
   ]
  },
  {
   "cell_type": "code",
   "execution_count": 21,
   "id": "264901b3-89ca-4f89-bdde-a34daabc7c56",
   "metadata": {},
   "outputs": [
    {
     "ename": "AssertionError",
     "evalue": "Wrong values case 1",
     "output_type": "error",
     "traceback": [
      "\u001b[1;31m---------------------------------------------------------------------------\u001b[0m",
      "\u001b[1;31mAssertionError\u001b[0m                            Traceback (most recent call last)",
      "Cell \u001b[1;32mIn[21], line 2\u001b[0m\n\u001b[0;32m      1\u001b[0m \u001b[38;5;66;03m# UNIT TEST    \u001b[39;00m\n\u001b[1;32m----> 2\u001b[0m \u001b[43mEncoder_test\u001b[49m\u001b[43m(\u001b[49m\u001b[43mEncoder\u001b[49m\u001b[43m)\u001b[49m\n",
      "File \u001b[1;32mD:\\AI\\DeepLearning\\SequenceModel\\Week4-RNN\\public_tests.py:120\u001b[0m, in \u001b[0;36mEncoder_test\u001b[1;34m(target)\u001b[0m\n\u001b[0;32m    118\u001b[0m \u001b[38;5;28;01massert\u001b[39;00m tf\u001b[38;5;241m.\u001b[39mis_tensor(encoderq_output), \u001b[38;5;124m\"\u001b[39m\u001b[38;5;124mWrong type. Output must be a tensor\u001b[39m\u001b[38;5;124m\"\u001b[39m\n\u001b[0;32m    119\u001b[0m \u001b[38;5;28;01massert\u001b[39;00m \u001b[38;5;28mtuple\u001b[39m(tf\u001b[38;5;241m.\u001b[39mshape(encoderq_output)\u001b[38;5;241m.\u001b[39mnumpy()) \u001b[38;5;241m==\u001b[39m (x\u001b[38;5;241m.\u001b[39mshape[\u001b[38;5;241m0\u001b[39m], x\u001b[38;5;241m.\u001b[39mshape[\u001b[38;5;241m1\u001b[39m], embedding_dim), \u001b[38;5;124mf\u001b[39m\u001b[38;5;124m\"\u001b[39m\u001b[38;5;124mWrong shape. We expected (\u001b[39m\u001b[38;5;132;01m{\u001b[39;00mx\u001b[38;5;241m.\u001b[39mshape[\u001b[38;5;241m0\u001b[39m]\u001b[38;5;132;01m}\u001b[39;00m\u001b[38;5;124m, \u001b[39m\u001b[38;5;132;01m{\u001b[39;00mx\u001b[38;5;241m.\u001b[39mshape[\u001b[38;5;241m1\u001b[39m]\u001b[38;5;132;01m}\u001b[39;00m\u001b[38;5;124m, \u001b[39m\u001b[38;5;132;01m{\u001b[39;00membedding_dim\u001b[38;5;132;01m}\u001b[39;00m\u001b[38;5;124m)\u001b[39m\u001b[38;5;124m\"\u001b[39m\n\u001b[1;32m--> 120\u001b[0m \u001b[38;5;28;01massert\u001b[39;00m np\u001b[38;5;241m.\u001b[39mallclose(encoderq_output\u001b[38;5;241m.\u001b[39mnumpy(), \n\u001b[0;32m    121\u001b[0m                    [[[\u001b[38;5;241m-\u001b[39m\u001b[38;5;241m0.6906098\u001b[39m ,  \u001b[38;5;241m1.0988709\u001b[39m , \u001b[38;5;241m-\u001b[39m\u001b[38;5;241m1.260586\u001b[39m  ,  \u001b[38;5;241m0.85232526\u001b[39m],\n\u001b[0;32m    122\u001b[0m                      [ \u001b[38;5;241m0.7319228\u001b[39m , \u001b[38;5;241m-\u001b[39m\u001b[38;5;241m0.3826024\u001b[39m , \u001b[38;5;241m-\u001b[39m\u001b[38;5;241m1.4507656\u001b[39m ,  \u001b[38;5;241m1.1014453\u001b[39m ],\n\u001b[0;32m    123\u001b[0m                      [ \u001b[38;5;241m1.0995713\u001b[39m , \u001b[38;5;241m-\u001b[39m\u001b[38;5;241m1.1686686\u001b[39m , \u001b[38;5;241m-\u001b[39m\u001b[38;5;241m0.80888665\u001b[39m,  \u001b[38;5;241m0.8779839\u001b[39m ]],\n\u001b[0;32m    124\u001b[0m                     [[\u001b[38;5;241m-\u001b[39m\u001b[38;5;241m0.4612937\u001b[39m ,  \u001b[38;5;241m1.0697356\u001b[39m , \u001b[38;5;241m-\u001b[39m\u001b[38;5;241m1.4127715\u001b[39m ,  \u001b[38;5;241m0.8043293\u001b[39m ],\n\u001b[0;32m    125\u001b[0m                      [ \u001b[38;5;241m0.27027237\u001b[39m,  \u001b[38;5;241m0.28793618\u001b[39m, \u001b[38;5;241m-\u001b[39m\u001b[38;5;241m1.6370889\u001b[39m ,  \u001b[38;5;241m1.0788803\u001b[39m ],\n\u001b[0;32m    126\u001b[0m                      [ \u001b[38;5;241m1.2370994\u001b[39m , \u001b[38;5;241m-\u001b[39m\u001b[38;5;241m1.0687275\u001b[39m , \u001b[38;5;241m-\u001b[39m\u001b[38;5;241m0.8945037\u001b[39m ,  \u001b[38;5;241m0.7261319\u001b[39m ]]]), \u001b[38;5;124m\"\u001b[39m\u001b[38;5;124mWrong values case 1\u001b[39m\u001b[38;5;124m\"\u001b[39m\n\u001b[0;32m    128\u001b[0m encoderq_output \u001b[38;5;241m=\u001b[39m encoderq(x, \u001b[38;5;28;01mTrue\u001b[39;00m, np\u001b[38;5;241m.\u001b[39marray([[[[\u001b[38;5;241m1.\u001b[39m, \u001b[38;5;241m1.\u001b[39m, \u001b[38;5;241m1.\u001b[39m]]], [[[\u001b[38;5;241m1.\u001b[39m, \u001b[38;5;241m1.\u001b[39m, \u001b[38;5;241m0.\u001b[39m]]]]))\n\u001b[0;32m    129\u001b[0m \u001b[38;5;28;01massert\u001b[39;00m np\u001b[38;5;241m.\u001b[39mallclose(encoderq_output\u001b[38;5;241m.\u001b[39mnumpy(), \n\u001b[0;32m    130\u001b[0m                    [[[\u001b[38;5;241m-\u001b[39m\u001b[38;5;241m0.36764443\u001b[39m,  \u001b[38;5;241m0.98527074\u001b[39m, \u001b[38;5;241m-\u001b[39m\u001b[38;5;241m1.4714274\u001b[39m ,  \u001b[38;5;241m0.85380095\u001b[39m],\n\u001b[0;32m    131\u001b[0m                        [\u001b[38;5;241m-\u001b[39m\u001b[38;5;241m0.50018215\u001b[39m,  \u001b[38;5;241m0.66005886\u001b[39m, \u001b[38;5;241m-\u001b[39m\u001b[38;5;241m1.3647256\u001b[39m ,  \u001b[38;5;241m1.204849\u001b[39m  ],\n\u001b[1;32m   (...)\u001b[0m\n\u001b[0;32m    134\u001b[0m                        [ \u001b[38;5;241m0.3872563\u001b[39m , \u001b[38;5;241m-\u001b[39m\u001b[38;5;241m0.40960154\u001b[39m, \u001b[38;5;241m-\u001b[39m\u001b[38;5;241m1.3456631\u001b[39m ,  \u001b[38;5;241m1.3680083\u001b[39m ],\n\u001b[0;32m    135\u001b[0m                        [ \u001b[38;5;241m0.534565\u001b[39m  , \u001b[38;5;241m-\u001b[39m\u001b[38;5;241m0.70262754\u001b[39m, \u001b[38;5;241m-\u001b[39m\u001b[38;5;241m1.18215\u001b[39m   ,  \u001b[38;5;241m1.3502126\u001b[39m ]]]), \u001b[38;5;124m\"\u001b[39m\u001b[38;5;124mWrong values case 2\u001b[39m\u001b[38;5;124m\"\u001b[39m\n",
      "\u001b[1;31mAssertionError\u001b[0m: Wrong values case 1"
     ]
    }
   ],
   "source": [
    "# UNIT TEST    \n",
    "Encoder_test(Encoder)"
   ]
  },
  {
   "cell_type": "markdown",
   "id": "ba55e50f-716c-48e2-9437-64e472569918",
   "metadata": {},
   "source": [
    "# 5 - Decoder\n",
    "The Decoder layer takes the K and V matrices generated by the Encoder and computes the second multi-head attention layer with the Q matrix from the output (Figure 3a)."
   ]
  },
  {
   "cell_type": "markdown",
   "id": "bd3338f6-7ad6-4ebe-a1dc-119b1e86e9da",
   "metadata": {},
   "source": [
    "![Decoder](images/decoder.png)"
   ]
  },
  {
   "cell_type": "markdown",
   "id": "84d4e1b0-668e-4bc9-8d1b-9f03405083f9",
   "metadata": {},
   "source": [
    "# 5.1 - Decoder Layer\n",
    "Again, you'll pair multi-head attention with a feed forward neural network, but this time you'll implement two multi-head attention layers. You will also use residual connections and layer normalization to help speed up training (Figure 3a).\n",
    "# Exercise 6 - DecoderLayer\n",
    "Implement DecoderLayer() using the call() method\n",
    "\n",
    "1. Block 1 is a multi-head attention layer with a residual connection, and look-ahead mask. Like in the EncoderLayer, Dropout is defined within the multi-head attention layer.\n",
    "2. Block 2 will take into account the output of the Encoder, so the multi-head attention layer will receive K and V from the encoder, and Q from the Block 1. You will then apply a normalization layer and a residual connection, just like you did before with the EncoderLayer.\n",
    "3. Finally, Block 3 is a feed forward neural network with dropout and normalization layers and a residual connection.\n",
    "## Additional Hints:\n",
    "\n",
    "The first two blocks are fairly similar to the EncoderLayer except you will return attention_scores when computing self-attention"
   ]
  },
  {
   "cell_type": "code",
   "execution_count": 18,
   "id": "e514a7dd-fe42-4d2a-9a38-e1601c32e54d",
   "metadata": {},
   "outputs": [],
   "source": [
    "class DecoderLayer(tf.keras.layers.Layer):\n",
    "    \"\"\"\n",
    "    The decoder layer is composed by two multi-head attention blocks, \n",
    "    one that takes the new input and uses self-attention, and the other \n",
    "    one that combines it with the output of the encoder, followed by a\n",
    "    fully connected block. \n",
    "    \"\"\"\n",
    "    def __init__(self, embedding_dim, num_heads, fully_connected_dim, dropout_rate=0.1, layernorm_eps=1e-6):\n",
    "        super(DecoderLayer, self).__init__()\n",
    "\n",
    "        self.mha1 = MultiHeadAttention(num_heads=num_heads,\n",
    "                                      key_dim=embedding_dim,\n",
    "                                      dropout=dropout_rate)\n",
    "\n",
    "        self.mha2 = MultiHeadAttention(num_heads=num_heads,\n",
    "                                      key_dim=embedding_dim,\n",
    "                                      dropout=dropout_rate)\n",
    "\n",
    "        self.ffn = FullyConnected(embedding_dim=embedding_dim,\n",
    "                                  fully_connected_dim=fully_connected_dim)\n",
    "\n",
    "        self.layernorm1 = LayerNormalization(epsilon=layernorm_eps)\n",
    "        self.layernorm2 = LayerNormalization(epsilon=layernorm_eps)\n",
    "        self.layernorm3 = LayerNormalization(epsilon=layernorm_eps)\n",
    "\n",
    "        self.dropout_ffn = Dropout(dropout_rate)\n",
    "    \n",
    "    def call(self, x, enc_output, training, look_ahead_mask, padding_mask):\n",
    "        \"\"\"\n",
    "        Forward pass for the Decoder Layer\n",
    "        \n",
    "        Arguments:\n",
    "            x -- Tensor of shape (batch_size, target_seq_len, embedding_dim)\n",
    "            enc_output --  Tensor of shape(batch_size, input_seq_len, embedding_dim)\n",
    "            training -- Boolean, set to true to activate\n",
    "                        the training mode for dropout layers\n",
    "            look_ahead_mask -- Boolean mask for the target_input\n",
    "            padding_mask -- Boolean mask for the second multihead attention layer\n",
    "        Returns:\n",
    "            out3 -- Tensor of shape (batch_size, target_seq_len, embedding_dim)\n",
    "            attn_weights_block1 -- Tensor of shape(batch_size, num_heads, target_seq_len, input_seq_len)\n",
    "            attn_weights_block2 -- Tensor of shape(batch_size, num_heads, target_seq_len, input_seq_len)\n",
    "        \"\"\"\n",
    "        \n",
    "        # START CODE HERE\n",
    "        # enc_output.shape == (batch_size, input_seq_len, embedding_dim)\n",
    "        \n",
    "        # BLOCK 1\n",
    "        # calculate self-attention and return attention scores as attn_weights_block1.\n",
    "        # Dropout will be applied during training (~1 line).\n",
    "        mult_attn_out1, attn_weights_block1 = self.mha1(x, x, x, look_ahead_mask, return_attention_scores=True)  # (batch_size, target_seq_len, embedding_dim)\n",
    "        \n",
    "        # apply layer normalization (layernorm1) to the sum of the attention output and the input (~1 line)\n",
    "        Q1 = self.layernorm1(x + mult_attn_out1)\n",
    "\n",
    "        # BLOCK 2\n",
    "        # calculate self-attention using the Q from the first block and K and V from the encoder output. \n",
    "        # Dropout will be applied during training\n",
    "        # Return attention scores as attn_weights_block2 (~1 line) \n",
    "        mult_attn_out2, attn_weights_block2 = self.mha2(Q1, enc_output, enc_output, padding_mask, return_attention_scores=True)  # (batch_size, target_seq_len, embedding_dim)\n",
    "        \n",
    "        # apply layer normalization (layernorm2) to the sum of the attention output and the output of the first block (~1 line)\n",
    "        mult_attn_out2 = self.layernorm2(Q1 + mult_attn_out2)  # (batch_size, target_seq_len, embedding_dim)\n",
    "                \n",
    "        #BLOCK 3\n",
    "        # pass the output of the second block through a ffn\n",
    "        ffn_output = self.ffn(mult_attn_out2)  # (batch_size, target_seq_len, embedding_dim)\n",
    "        \n",
    "        # apply a dropout layer to the ffn output\n",
    "        # use `training=training`\n",
    "        ffn_output = self.dropout_ffn(ffn_output, training=training)\n",
    "        \n",
    "        # apply layer normalization (layernorm3) to the sum of the ffn output and the output of the second block\n",
    "        out3 = self.layernorm3(mult_attn_out2 + ffn_output)  # (batch_size, target_seq_len, embedding_dim)\n",
    "        # END CODE HERE\n",
    "\n",
    "        return out3, attn_weights_block1, attn_weights_block2"
   ]
  },
  {
   "cell_type": "code",
   "execution_count": 19,
   "id": "412c6632-55d4-4fc8-9712-f7041661a5b9",
   "metadata": {},
   "outputs": [
    {
     "ename": "AssertionError",
     "evalue": "Wrong values in attn_w_b1. Check the call to self.mha1",
     "output_type": "error",
     "traceback": [
      "\u001b[1;31m---------------------------------------------------------------------------\u001b[0m",
      "\u001b[1;31mAssertionError\u001b[0m                            Traceback (most recent call last)",
      "Cell \u001b[1;32mIn[19], line 2\u001b[0m\n\u001b[0;32m      1\u001b[0m \u001b[38;5;66;03m# UNIT TEST\u001b[39;00m\n\u001b[1;32m----> 2\u001b[0m \u001b[43mDecoderLayer_test\u001b[49m\u001b[43m(\u001b[49m\u001b[43mDecoderLayer\u001b[49m\u001b[43m,\u001b[49m\u001b[43m \u001b[49m\u001b[43mcreate_look_ahead_mask\u001b[49m\u001b[43m)\u001b[49m\n",
      "File \u001b[1;32mD:\\AI\\DeepLearning\\SequenceModel\\Week4-RNN\\public_tests.py:180\u001b[0m, in \u001b[0;36mDecoderLayer_test\u001b[1;34m(target, create_look_ahead_mask)\u001b[0m\n\u001b[0;32m    177\u001b[0m \u001b[38;5;28;01massert\u001b[39;00m \u001b[38;5;28mtuple\u001b[39m(tf\u001b[38;5;241m.\u001b[39mshape(attn_w_b2)\u001b[38;5;241m.\u001b[39mnumpy()) \u001b[38;5;241m==\u001b[39m shape1, \u001b[38;5;124mf\u001b[39m\u001b[38;5;124m\"\u001b[39m\u001b[38;5;124mWrong shape. We expected \u001b[39m\u001b[38;5;132;01m{\u001b[39;00mshape1\u001b[38;5;132;01m}\u001b[39;00m\u001b[38;5;124m\"\u001b[39m\n\u001b[0;32m    178\u001b[0m \u001b[38;5;28;01massert\u001b[39;00m \u001b[38;5;28mtuple\u001b[39m(tf\u001b[38;5;241m.\u001b[39mshape(out)\u001b[38;5;241m.\u001b[39mnumpy()) \u001b[38;5;241m==\u001b[39m q\u001b[38;5;241m.\u001b[39mshape, \u001b[38;5;124mf\u001b[39m\u001b[38;5;124m\"\u001b[39m\u001b[38;5;124mWrong shape. We expected \u001b[39m\u001b[38;5;132;01m{\u001b[39;00mq\u001b[38;5;241m.\u001b[39mshape\u001b[38;5;132;01m}\u001b[39;00m\u001b[38;5;124m\"\u001b[39m\n\u001b[1;32m--> 180\u001b[0m \u001b[38;5;28;01massert\u001b[39;00m np\u001b[38;5;241m.\u001b[39mallclose(attn_w_b1[\u001b[38;5;241m0\u001b[39m, \u001b[38;5;241m0\u001b[39m, \u001b[38;5;241m1\u001b[39m], [\u001b[38;5;241m0.5271505\u001b[39m,  \u001b[38;5;241m0.47284946\u001b[39m, \u001b[38;5;241m0.\u001b[39m], atol\u001b[38;5;241m=\u001b[39m\u001b[38;5;241m1e-2\u001b[39m), \u001b[38;5;124m\"\u001b[39m\u001b[38;5;124mWrong values in attn_w_b1. Check the call to self.mha1\u001b[39m\u001b[38;5;124m\"\u001b[39m\n\u001b[0;32m    181\u001b[0m \u001b[38;5;28;01massert\u001b[39;00m np\u001b[38;5;241m.\u001b[39mallclose(attn_w_b2[\u001b[38;5;241m0\u001b[39m, \u001b[38;5;241m0\u001b[39m, \u001b[38;5;241m1\u001b[39m], [\u001b[38;5;241m0.32048798\u001b[39m, \u001b[38;5;241m0.390301\u001b[39m, \u001b[38;5;241m0.28921106\u001b[39m]),  \u001b[38;5;124m\"\u001b[39m\u001b[38;5;124mWrong values in attn_w_b2. Check the call to self.mha2\u001b[39m\u001b[38;5;124m\"\u001b[39m\n\u001b[0;32m    182\u001b[0m \u001b[38;5;28;01massert\u001b[39;00m np\u001b[38;5;241m.\u001b[39mallclose(out[\u001b[38;5;241m0\u001b[39m, \u001b[38;5;241m0\u001b[39m], [\u001b[38;5;241m-\u001b[39m\u001b[38;5;241m0.22109576\u001b[39m, \u001b[38;5;241m-\u001b[39m\u001b[38;5;241m1.5455486\u001b[39m, \u001b[38;5;241m0.852692\u001b[39m, \u001b[38;5;241m0.9139523\u001b[39m]), \u001b[38;5;124m\"\u001b[39m\u001b[38;5;124mWrong values in out\u001b[39m\u001b[38;5;124m\"\u001b[39m\n",
      "\u001b[1;31mAssertionError\u001b[0m: Wrong values in attn_w_b1. Check the call to self.mha1"
     ]
    }
   ],
   "source": [
    "# UNIT TEST\n",
    "DecoderLayer_test(DecoderLayer, create_look_ahead_mask)"
   ]
  },
  {
   "cell_type": "markdown",
   "id": "49f9a114-f4eb-4889-a2e5-6f922356e6bf",
   "metadata": {},
   "source": [
    "![Full Decoder](images/fullDecoder.png)"
   ]
  },
  {
   "cell_type": "markdown",
   "id": "6bc697e0-e8bc-4198-b9ee-fafb3f7ee579",
   "metadata": {},
   "source": [
    "# Exercise 7 - Decoder\n",
    "Implement Decoder() using the call() method to embed your output, add positional encoding, and implement multiple decoder layers.\n",
    "\n",
    "In this exercise, you will initialize your Decoder with an Embedding layer, positional encoding, and multiple DecoderLayers. Your call() method will perform the following steps:\n",
    "\n",
    "1. Pass your generated output through the Embedding layer.\n",
    "2. Scale your embedding by multiplying it by the square root of your embedding dimension. Remember to cast the embedding dimension to data type tf.float32 before computing the square root.\n",
    "3. Add the position encoding: self.pos_encoding [:, :seq_len, :] to your embedding.\n",
    "4. Pass the encoded embedding through a dropout layer, remembering to use the training parameter to set the model training mode.\n",
    "5. Pass the output of the dropout layer through the stack of Decoding layers using a for loop."
   ]
  },
  {
   "cell_type": "code",
   "execution_count": 34,
   "id": "f4c1cb6e-cfd0-481c-b31e-57967ad15f05",
   "metadata": {},
   "outputs": [],
   "source": [
    "class Decoder(tf.keras.layers.Layer):\n",
    "    \"\"\"\n",
    "    The entire Encoder starts by passing the target input to an embedding layer \n",
    "    and using positional encoding to then pass the output through a stack of\n",
    "    decoder Layers\n",
    "        \n",
    "    \"\"\" \n",
    "    def __init__(self, num_layers, embedding_dim, num_heads, fully_connected_dim, target_vocab_size,\n",
    "               maximum_position_encoding, dropout_rate=0.1, layernorm_eps=1e-6):\n",
    "        super(Decoder, self).__init__()\n",
    "\n",
    "        self.embedding_dim = embedding_dim\n",
    "        self.num_layers = num_layers\n",
    "\n",
    "        self.embedding = Embedding(target_vocab_size, self.embedding_dim)\n",
    "        self.pos_encoding = positional_encoding(maximum_position_encoding, self.embedding_dim)\n",
    "\n",
    "        self.dec_layers = [DecoderLayer(embedding_dim=self.embedding_dim,\n",
    "                                        num_heads=num_heads,\n",
    "                                        fully_connected_dim=fully_connected_dim,\n",
    "                                        dropout_rate=dropout_rate,\n",
    "                                        layernorm_eps=layernorm_eps) \n",
    "                           for _ in range(self.num_layers)]\n",
    "        self.dropout = Dropout(dropout_rate)\n",
    "    \n",
    "    def call(self, x, enc_output, training, \n",
    "           look_ahead_mask, padding_mask):\n",
    "        \"\"\"\n",
    "        Forward  pass for the Decoder\n",
    "        \n",
    "        Arguments:\n",
    "            x -- Tensor of shape (batch_size, target_seq_len, embedding_dim)\n",
    "            enc_output --  Tensor of shape(batch_size, input_seq_len, embedding_dim)\n",
    "            training -- Boolean, set to true to activate\n",
    "                        the training mode for dropout layers\n",
    "            look_ahead_mask -- Boolean mask for the target_input\n",
    "            padding_mask -- Boolean mask for the second multihead attention layer\n",
    "        Returns:\n",
    "            x -- Tensor of shape (batch_size, target_seq_len, embedding_dim)\n",
    "            attention_weights - Dictionary of tensors containing all the attention weights\n",
    "                                each of shape Tensor of shape (batch_size, num_heads, target_seq_len, input_seq_len)\n",
    "        \"\"\"\n",
    "\n",
    "        seq_len = tf.shape(x)[1]\n",
    "        attention_weights = {}\n",
    "        \n",
    "        # START CODE HERE\n",
    "        # create word embeddings \n",
    "        x = self.embedding(x)  # (batch_size, target_seq_len, embedding_dim)\n",
    "        \n",
    "        # scale embeddings by multiplying by the square root of their dimension\n",
    "        x *= tf.math.sqrt(tf.cast(self.embedding_dim, tf.float32))\n",
    "        \n",
    "        # calculate positional encodings and add to word embedding\n",
    "        x += self.pos_encoding[:, :seq_len, :]\n",
    "\n",
    "        # apply a dropout layer to x\n",
    "        # use `training=training`\n",
    "        x = self.dropout(x, training=training)\n",
    "\n",
    "        # use a for loop to pass x through a stack of decoder layers and update attention_weights (~4 lines total)\n",
    "        for i in range(self.num_layers):\n",
    "            # pass x and the encoder output through a stack of decoder layers and save the attention weights\n",
    "            # of block 1 and 2 (~1 line)\n",
    "            x, block1, block2 = self.dec_layers[i](x, enc_output, training, look_ahead_mask, padding_mask)\n",
    "\n",
    "            #update attention_weights dictionary with the attention weights of block 1 and block 2\n",
    "            attention_weights['decoder_layer{}_block1_self_att'.format(i+1)] = block1\n",
    "            attention_weights['decoder_layer{}_block2_decenc_att'.format(i+1)] = block2\n",
    "        # END CODE HERE\n",
    "        \n",
    "        # x.shape == (batch_size, target_seq_len, embedding_dim)\n",
    "        return x, attention_weights"
   ]
  },
  {
   "cell_type": "code",
   "execution_count": null,
   "id": "d0dcbbf0-3310-4b51-aab2-fdb52a09b8ec",
   "metadata": {},
   "outputs": [],
   "source": [
    "# UNIT TEST\n",
    "Decoder_test(Decoder, create_look_ahead_mask, create_padding_mask)"
   ]
  },
  {
   "cell_type": "markdown",
   "id": "d1822e4d-fcca-4fc1-940a-10feeadbbaed",
   "metadata": {},
   "source": [
    "# 6 - Transformer\n",
    "Phew! This has been quite the assignment, and now you've made it to your last exercise of the Deep Learning Specialization. Congratulations! You've done all the hard work, now it's time to put it all together."
   ]
  },
  {
   "cell_type": "markdown",
   "id": "e3f4b677-ae8e-42ba-93cf-e1182b44b79c",
   "metadata": {},
   "source": [
    "![Transformer](images/transformer.png)"
   ]
  },
  {
   "cell_type": "markdown",
   "id": "d6cdc0d9-f8e7-4697-8dc6-f9dd98e2b905",
   "metadata": {},
   "source": [
    "The flow of data through the Transformer Architecture is as follows:\n",
    "\n",
    "- First your input passes through an Encoder, which is just repeated Encoder layers that you implemented:\n",
    "    - embedding and positional encoding of your input\n",
    "    - multi-head attention on your input\n",
    "    - feed forward neural network to help detect features\n",
    "- Then the predicted output passes through a Decoder, consisting of the decoder layers that you implemented:\n",
    "    - embedding and positional encoding of the output\n",
    "    - multi-head attention on your generated output\n",
    "    - multi-head attention with the Q from the first multi-head attention layer and the K and V from the Encoder\n",
    "    - a feed forward neural network to help detect features\n",
    "- Finally, after the Nth Decoder layer, one dense layer and a softmax are applied to generate prediction for the next output in your sequence.\n",
    "\n",
    "# Exercise 8 - Transformer\n",
    "Implement Transformer() using the call() method\n",
    "\n",
    "1. Pass the input through the Encoder with the appropiate mask.\n",
    "2. Pass the encoder output and the target through the Decoder with the appropiate mask.\n",
    "3. Apply a linear transformation and a softmax to get a prediction."
   ]
  },
  {
   "cell_type": "code",
   "execution_count": 36,
   "id": "5f795d2d-4800-4360-8578-f1bf9ddd05ac",
   "metadata": {},
   "outputs": [],
   "source": [
    "class Transformer(tf.keras.Model):\n",
    "    \"\"\"\n",
    "    Complete transformer with an Encoder and a Decoder\n",
    "    \"\"\"\n",
    "    def __init__(self, num_layers, embedding_dim, num_heads, fully_connected_dim, input_vocab_size, \n",
    "               target_vocab_size, max_positional_encoding_input,\n",
    "               max_positional_encoding_target, dropout_rate=0.1, layernorm_eps=1e-6):\n",
    "        super(Transformer, self).__init__()\n",
    "\n",
    "        self.encoder = Encoder(num_layers=num_layers,\n",
    "                               embedding_dim=embedding_dim,\n",
    "                               num_heads=num_heads,\n",
    "                               fully_connected_dim=fully_connected_dim,\n",
    "                               input_vocab_size=input_vocab_size,\n",
    "                               maximum_position_encoding=max_positional_encoding_input,\n",
    "                               dropout_rate=dropout_rate,\n",
    "                               layernorm_eps=layernorm_eps)\n",
    "\n",
    "        self.decoder = Decoder(num_layers=num_layers, \n",
    "                               embedding_dim=embedding_dim,\n",
    "                               num_heads=num_heads,\n",
    "                               fully_connected_dim=fully_connected_dim,\n",
    "                               target_vocab_size=target_vocab_size, \n",
    "                               maximum_position_encoding=max_positional_encoding_target,\n",
    "                               dropout_rate=dropout_rate,\n",
    "                               layernorm_eps=layernorm_eps)\n",
    "\n",
    "        self.final_layer = Dense(target_vocab_size, activation='softmax')\n",
    "    \n",
    "    def call(self, input_sentence, output_sentence, training, enc_padding_mask, look_ahead_mask, dec_padding_mask):\n",
    "        \"\"\"\n",
    "        Forward pass for the entire Transformer\n",
    "        Arguments:\n",
    "            input_sentence -- Tensor of shape (batch_size, input_seq_len, embedding_dim)\n",
    "                              An array of the indexes of the words in the input sentence\n",
    "            output_sentence -- Tensor of shape (batch_size, target_seq_len, embedding_dim)\n",
    "                              An array of the indexes of the words in the output sentence\n",
    "            training -- Boolean, set to true to activate\n",
    "                        the training mode for dropout layers\n",
    "            enc_padding_mask -- Boolean mask to ensure that the padding is not \n",
    "                    treated as part of the input\n",
    "            look_ahead_mask -- Boolean mask for the target_input\n",
    "            dec_padding_mask -- Boolean mask for the second multihead attention layer\n",
    "        Returns:\n",
    "            final_output -- Describe me\n",
    "            attention_weights - Dictionary of tensors containing all the attention weights for the decoder\n",
    "                                each of shape Tensor of shape (batch_size, num_heads, target_seq_len, input_seq_len)\n",
    "        \n",
    "        \"\"\"\n",
    "        # START CODE HERE\n",
    "        # call self.encoder with the appropriate arguments to get the encoder output\n",
    "        enc_output = self.encoder(input_sentence, training, enc_padding_mask)  # (batch_size, inp_seq_len, embedding_dim)\n",
    "        \n",
    "        # call self.decoder with the appropriate arguments to get the decoder output\n",
    "        # dec_output.shape == (batch_size, tar_seq_len, embedding_dim)\n",
    "        dec_output, attention_weights = self.decoder(output_sentence, enc_output, training, look_ahead_mask, dec_padding_mask)\n",
    "        \n",
    "        # pass decoder output through a linear layer and softmax (~2 lines)\n",
    "        final_output = self.final_layer(dec_output) # (batch_size, tar_seq_len, target_vocab_size)\n",
    "        # END CODE HERE\n",
    "\n",
    "        return final_output, attention_weights"
   ]
  },
  {
   "cell_type": "code",
   "execution_count": null,
   "id": "a86a7139-bbde-4315-a966-f0a263bec97c",
   "metadata": {},
   "outputs": [],
   "source": [
    "# UNIT TEST\n",
    "Transformer_test(Transformer, create_look_ahead_mask, create_padding_mask)"
   ]
  },
  {
   "cell_type": "markdown",
   "id": "ea72794c-2840-4464-84f6-fbc3c8882ff5",
   "metadata": {},
   "source": [
    "# Conclusion\n",
    "You've come to the end of the graded portion of the assignment. By now, you've:\n",
    "\n",
    "- Created positional encodings to capture sequential relationships in data\n",
    "- Calculated scaled dot-product self-attention with word embeddings\n",
    "- Implemented masked multi-head attention\n",
    "- Built and trained a Transformer model\n",
    "## What you should remember:\n",
    "- The combination of self-attention and convolutional network layers allows of parallelization of training and faster training.\n",
    "- Self-attention is calculated using the generated query Q, key K, and value V matrices.\n",
    "- Adding positional encoding to word embeddings is an effective way to include sequence information in self-attention calculations.\n",
    "- Multi-head attention can help detect multiple features in your sentence.\n",
    "- Masking stops the model from 'looking ahead' during training, or weighting zeroes too much when processing cropped sentences."
   ]
  },
  {
   "cell_type": "code",
   "execution_count": null,
   "id": "6295b243-a51c-4c9b-82d1-0138de38cc18",
   "metadata": {},
   "outputs": [],
   "source": []
  }
 ],
 "metadata": {
  "kernelspec": {
   "display_name": "Python 3 (ipykernel)",
   "language": "python",
   "name": "python3"
  },
  "language_info": {
   "codemirror_mode": {
    "name": "ipython",
    "version": 3
   },
   "file_extension": ".py",
   "mimetype": "text/x-python",
   "name": "python",
   "nbconvert_exporter": "python",
   "pygments_lexer": "ipython3",
   "version": "3.9.22"
  }
 },
 "nbformat": 4,
 "nbformat_minor": 5
}
